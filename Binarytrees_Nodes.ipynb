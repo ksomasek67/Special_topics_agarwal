{
 "cells": [
  {
   "cell_type": "markdown",
   "id": "1cb61454",
   "metadata": {},
   "source": [
    "# Binary Tree Nodes and References Implementation"
   ]
  },
  {
   "cell_type": "raw",
   "id": "3d282439",
   "metadata": {},
   "source": [
    "So for example when we insert a new life child into the tree we're actually creating another instance of binary tree.\n",
    "In this case we're going to just start off with no child's or no children.So we're going to say left child equals none to start off with and then say self-taught right child equals also none to start off with. so something to notice here is that the constructor function expects to get some kind of object to store in that route just like you can store any object you like in a list.The object of a tree can be a reference to any object.\n",
    "\n",
    "And I'm actually going to put in pass here for now and then we're also going to have inserts rights and it would also take a self new node and we'll put it pass there.So to add a left child to the tree we're going to create a new binary tree object and set the left attribute of the root to refer to this new object. So in order to do that we can start filling out insert left.\n",
    "So I got to say if self stop left child is equal to none meaning we don't have anything there yet."
   ]
  },
  {
   "cell_type": "code",
   "execution_count": 65,
   "id": "236932c8",
   "metadata": {},
   "outputs": [],
   "source": [
    "class BinaryTree(object):\n",
    "    \n",
    "    def __init__(self,rootObj):\n",
    "        self.key=rootObj\n",
    "        self.leftChild=None\n",
    "        self.rightChild=None\n",
    "    \n",
    "    def insertLeft(self,newNode):\n",
    "        if self.leftChild==None:\n",
    "            self.leftChild=BinaryTree(newNode)\n",
    "        else:\n",
    "            t=BinaryTree(newNode)\n",
    "            t.leftChild=self.leftChild\n",
    "            self.leftChild=t\n",
    "            \n",
    "    def insertRight(self,newNode):\n",
    "        if self.rightChild==None:\n",
    "            self.rightChild=BinaryTree(newNode)\n",
    "        else:\n",
    "            t=BinaryTree(newNode)\n",
    "            t.rightChild=self.rightChild\n",
    "            self.rightChild=t\n",
    "    \n",
    "    def getLeftChild(self):\n",
    "        return self.leftChild\n",
    "    \n",
    "    def getRightChild(self):\n",
    "        return self.rightChild\n",
    "    \n",
    "    def setRootVal(self,obj):\n",
    "        self.key=obj\n",
    "        \n",
    "    def getRootVal(self):\n",
    "        return self.key"
   ]
  },
  {
   "cell_type": "code",
   "execution_count": 66,
   "id": "60c7f1c2",
   "metadata": {},
   "outputs": [
    {
     "data": {
      "text/plain": [
       "'a'"
      ]
     },
     "execution_count": 66,
     "metadata": {},
     "output_type": "execute_result"
    }
   ],
   "source": [
    "r=BinaryTree('a')\n",
    "r.getRootVal()\n"
   ]
  },
  {
   "cell_type": "code",
   "execution_count": 68,
   "id": "cc1a4c34",
   "metadata": {},
   "outputs": [
    {
     "name": "stdout",
     "output_type": "stream",
     "text": [
      "None\n"
     ]
    }
   ],
   "source": [
    "print(r.getLeftChild())"
   ]
  },
  {
   "cell_type": "code",
   "execution_count": 70,
   "id": "bcaa69bf",
   "metadata": {},
   "outputs": [],
   "source": [
    "r.insertLeft('b')"
   ]
  },
  {
   "cell_type": "code",
   "execution_count": 72,
   "id": "072728cb",
   "metadata": {},
   "outputs": [
    {
     "data": {
      "text/plain": [
       "'b'"
      ]
     },
     "execution_count": 72,
     "metadata": {},
     "output_type": "execute_result"
    }
   ],
   "source": [
    "r.getLeftChild().getRootVal()"
   ]
  },
  {
   "cell_type": "markdown",
   "id": "d43c18c6",
   "metadata": {},
   "source": [
    "# Tree traversals"
   ]
  },
  {
   "cell_type": "raw",
   "id": "cda2422d",
   "metadata": {},
   "source": [
    "Preorder - Root Left Right, #\n",
    "## Method Implementation - The inernal method must check the existence of the left and right children before making the recursive call to preorder\n",
    "Inorder   - Left Subtree Root Right Subtree\n",
    "Postorder - Left Right Root\n",
    "\n",
    "a- Root\n",
    "b-left\n",
    "c-right"
   ]
  },
  {
   "cell_type": "code",
   "execution_count": 96,
   "id": "871a55ab",
   "metadata": {},
   "outputs": [
    {
     "name": "stdout",
     "output_type": "stream",
     "text": [
      "a\n",
      "<__main__.BinaryTree object at 0x000001AADC4994C0>\n"
     ]
    }
   ],
   "source": [
    "tree=BinaryTree('a')\n",
    "print(tree.getRootVal())\n",
    "tree.insertLeft('b')\n",
    "tree.insertRight('c')\n",
    "print(tree.getLeftChild())"
   ]
  },
  {
   "cell_type": "code",
   "execution_count": 90,
   "id": "5e607384",
   "metadata": {},
   "outputs": [],
   "source": [
    "def preorder(tree):\n",
    "    if tree:\n",
    "        print(tree.getRootVal())\n",
    "        preorder(tree.getLeftChild())\n",
    "        preorder(tree.getRightChild())\n",
    "        \n",
    "def postorder(tree):\n",
    "    if tree != None:\n",
    "        postorder(tree.getLeftChild())\n",
    "        postorder(tree.getRightChild())\n",
    "        print(tree.getRootVal())\n",
    "def inorder(tree):\n",
    "    if tree != None:\n",
    "        postorder(tree.getLeftChild())\n",
    "        print(tree.getRootVal())\n",
    "        postorder(tree.getRightChild())\n",
    "       "
   ]
  },
  {
   "cell_type": "code",
   "execution_count": 91,
   "id": "56f92aa2",
   "metadata": {},
   "outputs": [
    {
     "name": "stdout",
     "output_type": "stream",
     "text": [
      "a\n",
      "b\n",
      "c\n"
     ]
    }
   ],
   "source": [
    "preorder(tree)"
   ]
  },
  {
   "cell_type": "code",
   "execution_count": 92,
   "id": "b5133f03",
   "metadata": {},
   "outputs": [
    {
     "name": "stdout",
     "output_type": "stream",
     "text": [
      "b\n",
      "c\n",
      "a\n"
     ]
    }
   ],
   "source": [
    "postorder(tree)"
   ]
  },
  {
   "cell_type": "code",
   "execution_count": 93,
   "id": "7e78698c",
   "metadata": {},
   "outputs": [
    {
     "name": "stdout",
     "output_type": "stream",
     "text": [
      "b\n",
      "a\n",
      "c\n"
     ]
    }
   ],
   "source": [
    "inorder(tree)"
   ]
  },
  {
   "cell_type": "code",
   "execution_count": 97,
   "id": "a0625993",
   "metadata": {},
   "outputs": [
    {
     "data": {
      "text/plain": [
       "False"
      ]
     },
     "execution_count": 97,
     "metadata": {},
     "output_type": "execute_result"
    }
   ],
   "source": [
    "tree_vals=[]\n",
    "def inorder(tree):\n",
    "    if tree !=None:\n",
    "        inorder(tree.getLeftChild())\n",
    "        tree_vals.append(tree.getRootVal())\n",
    "        inorder(tree.getRightChild())\n",
    "def sort_check(tree_vals):\n",
    "    return tree_vals ==sorted(tree_vals)\n",
    "inorder(tree)\n",
    "sort_check(tree_vals)\n"
   ]
  },
  {
   "cell_type": "code",
   "execution_count": null,
   "id": "38a15db1",
   "metadata": {},
   "outputs": [],
   "source": []
  }
 ],
 "metadata": {
  "kernelspec": {
   "display_name": "Python 3 (ipykernel)",
   "language": "python",
   "name": "python3"
  },
  "language_info": {
   "codemirror_mode": {
    "name": "ipython",
    "version": 3
   },
   "file_extension": ".py",
   "mimetype": "text/x-python",
   "name": "python",
   "nbconvert_exporter": "python",
   "pygments_lexer": "ipython3",
   "version": "3.9.12"
  }
 },
 "nbformat": 4,
 "nbformat_minor": 5
}
