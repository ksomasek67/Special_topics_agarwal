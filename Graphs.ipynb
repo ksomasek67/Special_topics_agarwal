{
 "cells": [
  {
   "cell_type": "markdown",
   "id": "f332bc93",
   "metadata": {},
   "source": [
    "# Implemtation of Graph\n"
   ]
  },
  {
   "cell_type": "code",
   "execution_count": null,
   "id": "573bf9b2",
   "metadata": {},
   "outputs": [],
   "source": []
  },
  {
   "cell_type": "code",
   "execution_count": 2,
   "id": "34d0de49",
   "metadata": {},
   "outputs": [],
   "source": [
    "class Graph:\n",
    "    # Constructor\n",
    "    def __init__(self, num_of_nodes, directed=True):\n",
    "        self.m_num_of_nodes = num_of_nodes\n",
    "        self.m_directed = directed\n",
    "        \n",
    "        # Different representations of a graph\n",
    "        self.m_list_of_edges = []\n",
    "\n",
    "    # Add edge to a graph\n",
    "    def add_edge(self, node1, node2, weight=1):        \n",
    "        # Add the edge from node1 to node2\n",
    "        self.m_list_of_edges.append([node1, node2, weight])\n",
    "        \n",
    "        # If a graph is undirected, add the same edge,\n",
    "        # but also in the opposite direction\n",
    "        if not self.m_directed:\n",
    "            self.m_list_of_edges.append([node1, node2, weight])\n",
    "\n",
    "# Print a graph representation\n",
    "    def print_edge_list(self):\n",
    "        num_of_edges = len(self.m_list_of_edges)\n",
    "        for i in range(num_of_edges):\n",
    "            print(\"edge \", i+1, \": \", self.m_list_of_edges[i])"
   ]
  },
  {
   "cell_type": "code",
   "execution_count": 4,
   "id": "d12914c5",
   "metadata": {},
   "outputs": [
    {
     "name": "stdout",
     "output_type": "stream",
     "text": [
      "edge  1 :  [10, 0, 25]\n",
      "edge  2 :  [0, 1, 5]\n",
      "edge  3 :  [0, 12, 3]\n",
      "edge  4 :  [1, 3, 1]\n",
      "edge  5 :  [11, 4, 15]\n",
      "edge  6 :  [4, 32, 7]\n",
      "edge  7 :  [4, 13, 11]\n"
     ]
    }
   ],
   "source": [
    "graph = Graph(5)\n",
    "\n",
    "graph.add_edge(10, 0, 25)\n",
    "graph.add_edge(0, 1, 5)\n",
    "graph.add_edge(0, 12, 3)\n",
    "graph.add_edge(1, 3, 1)\n",
    "graph.add_edge(11, 4, 15)\n",
    "graph.add_edge(4, 32, 7)\n",
    "graph.add_edge(4, 13, 11)\n",
    "\n",
    "graph.print_edge_list()"
   ]
  },
  {
   "cell_type": "markdown",
   "id": "a80eeddc",
   "metadata": {},
   "source": [
    "# Breadth first Search"
   ]
  },
  {
   "cell_type": "code",
   "execution_count": 6,
   "id": "584417e5",
   "metadata": {},
   "outputs": [
    {
     "name": "stdout",
     "output_type": "stream",
     "text": [
      "Following is the Breadth-First Search\n",
      "5 3 7 2 4 8 "
     ]
    }
   ],
   "source": [
    "graph = {\n",
    "  '5' : ['3','7'],\n",
    "  '3' : ['2', '4'],\n",
    "  '7' : ['8'],\n",
    "  '2' : [],\n",
    "  '4' : ['8'],\n",
    "  '8' : []\n",
    "}\n",
    "\n",
    "visited = [] # List for visited nodes.\n",
    "queue = []     #Initialize a queue\n",
    "\n",
    "def bfs(visited, graph, node): #function for BFS\n",
    "  visited.append(node)\n",
    "  queue.append(node)\n",
    "\n",
    "  while queue:          # Creating loop to visit each node\n",
    "    m = queue.pop(0) \n",
    "    print (m, end = \" \") \n",
    "\n",
    "    for neighbour in graph[m]:\n",
    "      if neighbour not in visited:\n",
    "        visited.append(neighbour)\n",
    "        queue.append(neighbour)\n",
    "\n",
    "# Driver Code\n",
    "print(\"Following is the Breadth-First Search\")\n",
    "bfs(visited, graph, '5')    # function calling"
   ]
  },
  {
   "cell_type": "markdown",
   "id": "0cc02096",
   "metadata": {},
   "source": [
    "# Depth First Search\n"
   ]
  },
  {
   "cell_type": "code",
   "execution_count": 8,
   "id": "c4278640",
   "metadata": {},
   "outputs": [],
   "source": [
    "class Graph:\n",
    "    # Constructor\n",
    "    def __init__(self, num_of_nodes, directed=True):\n",
    "        self.m_num_of_nodes = num_of_nodes\n",
    "        self.m_nodes = range(self.m_num_of_nodes)\n",
    "        # Directed or Undirected\n",
    "        self.m_directed = directed\n",
    "\n",
    "        # Graph representation - Adjacency list\n",
    "        # We use a dictionary to implement an adjacency list\n",
    "        self.m_adj_list = {node: set() for node in self.m_nodes}      \n",
    "    # Add edge to the graph\n",
    "    def add_edge(self, node1, node2, weight=1):\n",
    "        self.m_adj_list[node1].add((node2, weight))\n",
    "\n",
    "        if not self.m_directed:\n",
    "            self.m_adj_list[node2].add((node1, weight))\n",
    "    \n",
    "    # Print the graph representation\n",
    "    def print_adj_list(self):\n",
    "        for key in self.m_adj_list.keys():\n",
    "            print(\"node\", key, \": \", self.m_adj_list[key])"
   ]
  },
  {
   "cell_type": "code",
   "execution_count": 9,
   "id": "04e5fdda",
   "metadata": {},
   "outputs": [],
   "source": [
    "def dfs(self, start, target, path = [], visited = set()):\n",
    "    path.append(start)\n",
    "    visited.add(start)\n",
    "    if start == target:\n",
    "        return path\n",
    "    for (neighbour, weight) in self.m_adj_list[start]:\n",
    "        if neighbour not in visited:\n",
    "            result = self.dfs(neighbour, target, path, visited)\n",
    "            if result is not None:\n",
    "                return result\n",
    "    path.pop()\n",
    "    return None    "
   ]
  },
  {
   "cell_type": "code",
   "execution_count": 15,
   "id": "f2c8654e",
   "metadata": {},
   "outputs": [
    {
     "name": "stdout",
     "output_type": "stream",
     "text": [
      "node 0 :  {(1, 1), (2, 1)}\n",
      "node 1 :  {(0, 1), (3, 1)}\n",
      "node 2 :  {(0, 1), (3, 1)}\n",
      "node 3 :  {(1, 1), (4, 1), (2, 1)}\n",
      "node 4 :  {(3, 1)}\n"
     ]
    }
   ],
   "source": [
    "graph = Graph(5, directed=False)\n",
    "graph.add_edge(0, 1)\n",
    "graph.add_edge(0, 2)\n",
    "graph.add_edge(1, 3)\n",
    "graph.add_edge(2, 3)\n",
    "graph.add_edge(3, 4)\n",
    "graph.print_adj_list()"
   ]
  },
  {
   "cell_type": "code",
   "execution_count": null,
   "id": "e7847cdd",
   "metadata": {},
   "outputs": [],
   "source": []
  },
  {
   "cell_type": "code",
   "execution_count": null,
   "id": "c808ea6a",
   "metadata": {},
   "outputs": [],
   "source": []
  }
 ],
 "metadata": {
  "kernelspec": {
   "display_name": "Python 3 (ipykernel)",
   "language": "python",
   "name": "python3"
  },
  "language_info": {
   "codemirror_mode": {
    "name": "ipython",
    "version": 3
   },
   "file_extension": ".py",
   "mimetype": "text/x-python",
   "name": "python",
   "nbconvert_exporter": "python",
   "pygments_lexer": "ipython3",
   "version": "3.9.12"
  }
 },
 "nbformat": 4,
 "nbformat_minor": 5
}
