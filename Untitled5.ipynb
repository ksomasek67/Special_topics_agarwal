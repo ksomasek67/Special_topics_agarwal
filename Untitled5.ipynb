{
 "cells": [
  {
   "cell_type": "markdown",
   "id": "735ebe57",
   "metadata": {},
   "source": [
    "# Nodes and References Implementation"
   ]
  },
  {
   "cell_type": "raw",
   "id": "b83aa73c",
   "metadata": {},
   "source": [
    "So for example when we insert a new life child into the tree we're actually creating another instance of binary tree.\n",
    "In this case we're going to just start off with no child's or no children.So we're going to say left child equals none to start off with and then say self-taught right child equals also none to start off with. so something to notice here is that the constructor function expects to get some kind of object to store in that route just like you can store any object you like in a list.The object of a tree can be a reference to any object.\n",
    "\n",
    "And I'm actually going to put in pass here for now and then we're also going to have inserts rights and it would also take a self new node and we'll put it pass there.So to add a left child to the tree we're going to create a new binary tree object and set the left attribute of the root to refer to this new object. So in order to do that we can start filling out insert left.\n",
    "So I got to say if self stop left child is equal to none meaning we don't have anything there yet."
   ]
  },
  {
   "cell_type": "code",
   "execution_count": 3,
   "id": "934a18ec",
   "metadata": {},
   "outputs": [],
   "source": [
    "class BinaryTree(object):\n",
    "    \n",
    "    def __init__(self,rootobj):\n",
    "        self.key=rootobj\n",
    "        self.leftchild=None\n",
    "        self.rightchild=None\n",
    "        \n",
    "    def __init__(self,data=None,next=None):\n",
    "        self.data=data\n",
    "        self.next=next\n",
    "    \n",
    "    def insertLeft(self,newNode):\n",
    "        if self.leftchild==None:\n",
    "            self.leftchild=BinaryTree(newNode)\n",
    "        else:\n",
    "            t=BinaryTree(newNode)\n",
    "            t.leftchild=self.leftchild\n",
    "            self.leftchild=t\n",
    "            \n",
    "    def insertRight(self,newNode):\n",
    "        if self.rightchild==None:\n",
    "            self.rightchild=BinaryTree(newNode)\n",
    "        else:\n",
    "            t=BinaryTree(newNode)\n",
    "            t.rightchild=self.rightchild\n",
    "            self.rightchild=t\n",
    "    def getleftchild():\n",
    "        return self.leftchild\n",
    "    \n",
    "    def getrightchild():\n",
    "        return self.rightchild\n",
    "    \n",
    "    def setrootval(self,obj):\n",
    "        self.key=obj\n",
    "    \n",
    "    def getrootval(self):\n",
    "        return self.key\n",
    "    \n",
    "    \n",
    "    \n",
    "        "
   ]
  },
  {
   "cell_type": "code",
   "execution_count": 4,
   "id": "dd6e3621",
   "metadata": {},
   "outputs": [
    {
     "ename": "AttributeError",
     "evalue": "'BinaryTree' object has no attribute 'key'",
     "output_type": "error",
     "traceback": [
      "\u001b[1;31m---------------------------------------------------------------------------\u001b[0m",
      "\u001b[1;31mAttributeError\u001b[0m                            Traceback (most recent call last)",
      "Input \u001b[1;32mIn [4]\u001b[0m, in \u001b[0;36m<cell line: 2>\u001b[1;34m()\u001b[0m\n\u001b[0;32m      1\u001b[0m r\u001b[38;5;241m=\u001b[39mBinaryTree(\u001b[38;5;124m'\u001b[39m\u001b[38;5;124ma\u001b[39m\u001b[38;5;124m'\u001b[39m)\n\u001b[1;32m----> 2\u001b[0m \u001b[43mr\u001b[49m\u001b[38;5;241;43m.\u001b[39;49m\u001b[43mgetrootval\u001b[49m\u001b[43m(\u001b[49m\u001b[43m)\u001b[49m\n",
      "Input \u001b[1;32mIn [3]\u001b[0m, in \u001b[0;36mBinaryTree.getrootval\u001b[1;34m(self)\u001b[0m\n\u001b[0;32m     36\u001b[0m \u001b[38;5;28;01mdef\u001b[39;00m \u001b[38;5;21mgetrootval\u001b[39m(\u001b[38;5;28mself\u001b[39m):\n\u001b[1;32m---> 37\u001b[0m     \u001b[38;5;28;01mreturn\u001b[39;00m \u001b[38;5;28;43mself\u001b[39;49m\u001b[38;5;241;43m.\u001b[39;49m\u001b[43mkey\u001b[49m\n",
      "\u001b[1;31mAttributeError\u001b[0m: 'BinaryTree' object has no attribute 'key'"
     ]
    }
   ],
   "source": [
    "r=BinaryTree('a')\n",
    "r.getrootval()"
   ]
  },
  {
   "cell_type": "code",
   "execution_count": null,
   "id": "a2329f79",
   "metadata": {},
   "outputs": [],
   "source": []
  }
 ],
 "metadata": {
  "kernelspec": {
   "display_name": "Python 3 (ipykernel)",
   "language": "python",
   "name": "python3"
  },
  "language_info": {
   "codemirror_mode": {
    "name": "ipython",
    "version": 3
   },
   "file_extension": ".py",
   "mimetype": "text/x-python",
   "name": "python",
   "nbconvert_exporter": "python",
   "pygments_lexer": "ipython3",
   "version": "3.9.12"
  }
 },
 "nbformat": 4,
 "nbformat_minor": 5
}
