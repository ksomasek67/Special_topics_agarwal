{
 "cells": [
  {
   "cell_type": "markdown",
   "id": "72dfd5a1",
   "metadata": {},
   "source": [
    "# largest Continous Sum\n",
    "#Approach \n",
    "\n",
    "create two variable max_sum ,cur_sum\n",
    "assign both with initial value because it is maximum\n",
    "then increment current sum by iterating over the array from the second element and compare num_cur_sum with previous cur_sum\n",
    "then do the same with max_sum, take max( max_sum,cur_sum(after iteration) and return max_sum"
   ]
  },
  {
   "cell_type": "code",
   "execution_count": null,
   "id": "615da6dc",
   "metadata": {},
   "outputs": [],
   "source": [
    "def large_cont_sum(array):\n",
    "    if len(array)==0:\n",
    "        return 0\n",
    "    max_sum=current_sum=array[0]\n",
    "    \n",
    "    for num in array[1:]:\n",
    "        current_sum=max(current_sum+num,current_sum)\n",
    "        \n",
    "        max_sum=max(current_sum,max_sum)\n",
    "    return max_sum\n",
    "        "
   ]
  },
  {
   "cell_type": "code",
   "execution_count": null,
   "id": "4567ac11",
   "metadata": {},
   "outputs": [],
   "source": [
    "large_cont_sum([])\n",
    "large_cont_sum([1,3,4,5,-1,8,104,-20,30])"
   ]
  },
  {
   "cell_type": "code",
   "execution_count": null,
   "id": "ed6c612e",
   "metadata": {},
   "outputs": [],
   "source": [
    "def large_max_sum(array):\n",
    "    #edge case\n",
    "    \n",
    "    cur_sum=max_sum=array[0]\n",
    "    for num in array[1:]:\n",
    "        cur_sum=max(cur_sum+num,cur_sum)\n",
    "        max_sum=max(cur_sum,max_sum)\n",
    "    return max_sum\n",
    "        \n",
    "    "
   ]
  },
  {
   "cell_type": "code",
   "execution_count": null,
   "id": "656538c5",
   "metadata": {},
   "outputs": [],
   "source": [
    "large_max_sum([1,3,4,5,-1,8])"
   ]
  },
  {
   "cell_type": "markdown",
   "id": "fe305238",
   "metadata": {},
   "source": [
    "# Sentence Reversal\n"
   ]
  },
  {
   "cell_type": "code",
   "execution_count": null,
   "id": "eb136bd4",
   "metadata": {},
   "outputs": [],
   "source": [
    "sent='This is the best'\n",
    "sent[0:16]\n",
    "sent[::-1]\n",
    "sent.split()[::-1]"
   ]
  },
  {
   "cell_type": "code",
   "execution_count": null,
   "id": "5953922d",
   "metadata": {},
   "outputs": [],
   "source": [
    "def rev_word1(string):\n",
    "    return \" \".join(reversed(string.split()))\n",
    "rev_word1(\"I love you\")\n",
    "\n",
    "def rev_word2(string):\n",
    "    return \" \".join(string.split()[::-1])\n",
    "\n",
    "\n",
    "rev_word2(\"I hate You\")"
   ]
  },
  {
   "cell_type": "code",
   "execution_count": null,
   "id": "a872ee16",
   "metadata": {},
   "outputs": [],
   "source": [
    "print(reversed(\"soma sekhara sainath\"))"
   ]
  },
  {
   "cell_type": "code",
   "execution_count": null,
   "id": "4b0fe0da",
   "metadata": {},
   "outputs": [],
   "source": [
    "def rev_word(s):\n",
    "    length=len(s)\n",
    "    word=[]\n",
    "    space=' '\n",
    "    i=0\n",
    "    \n",
    "    while i<length:\n",
    "        if s[i] not in space:\n",
    "            word_start=i\n",
    "            while i<length and s[i] not in space:   # Incrementing till we encounter space\n",
    "                i+=1\n",
    "            word.append(s[word_start:i])\n",
    "        i+=1\n",
    "        \n",
    "    return \" \".join(reversed(word)) \n",
    "    "
   ]
  },
  {
   "cell_type": "code",
   "execution_count": null,
   "id": "50cd8ce2",
   "metadata": {},
   "outputs": [],
   "source": [
    "rev_word(\"Hello John How are you\")"
   ]
  },
  {
   "cell_type": "code",
   "execution_count": null,
   "id": "ae3ac4c6",
   "metadata": {},
   "outputs": [],
   "source": [
    "x = input(\"Enter any string: \")\n",
    "#take input from user\n",
    "\n",
    "a = x.split()\n",
    "#use split method to split at whitespaces\n",
    "\n",
    "a.reverse()\n",
    "#reverse all the elements of the string \n",
    "\n",
    "print(' '.join(a))\n",
    "#concatenate them into a string"
   ]
  },
  {
   "cell_type": "markdown",
   "id": "c855354d",
   "metadata": {},
   "source": [
    "# String Compression"
   ]
  },
  {
   "cell_type": "code",
   "execution_count": 1,
   "id": "2a6cb30a",
   "metadata": {},
   "outputs": [
    {
     "name": "stdout",
     "output_type": "stream",
     "text": [
      "(0, 's')\n",
      "(1, 'a')\n",
      "(2, 'i')\n",
      "(3, 'n')\n",
      "(4, 'a')\n",
      "(5, 't')\n",
      "(6, 'h')\n"
     ]
    }
   ],
   "source": [
    "a='sainath';\n",
    "for i in enumerate(a):\n",
    "    print(i)"
   ]
  },
  {
   "cell_type": "code",
   "execution_count": null,
   "id": "74539168",
   "metadata": {},
   "outputs": [],
   "source": []
  },
  {
   "cell_type": "code",
   "execution_count": null,
   "id": "49f3a0a2",
   "metadata": {},
   "outputs": [],
   "source": []
  },
  {
   "cell_type": "code",
   "execution_count": null,
   "id": "6905038b",
   "metadata": {},
   "outputs": [],
   "source": []
  }
 ],
 "metadata": {
  "kernelspec": {
   "display_name": "Python 3 (ipykernel)",
   "language": "python",
   "name": "python3"
  },
  "language_info": {
   "codemirror_mode": {
    "name": "ipython",
    "version": 3
   },
   "file_extension": ".py",
   "mimetype": "text/x-python",
   "name": "python",
   "nbconvert_exporter": "python",
   "pygments_lexer": "ipython3",
   "version": "3.9.12"
  }
 },
 "nbformat": 4,
 "nbformat_minor": 5
}
