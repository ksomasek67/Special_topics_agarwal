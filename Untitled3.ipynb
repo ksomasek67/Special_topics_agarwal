{
 "cells": [
  {
   "cell_type": "markdown",
   "id": "66d5508b",
   "metadata": {},
   "source": [
    "# Trees"
   ]
  },
  {
   "cell_type": "code",
   "execution_count": null,
   "id": "1290aea6",
   "metadata": {},
   "outputs": [],
   "source": [
    "# Root Branches and Leaves\n",
    "#Children of one node are independent of the children of another node\n",
    "# A third property is that each leaf node is unique\n",
    "# Node fundamental part of tree\n",
    "# Edge:An edge connects two nodes to show that there is a relationship between them.\n",
    "# Every node ( Except the root) is connected by exactly one incoming edge from another node.\n",
    "# Each Node may have several outging edges\n",
    " \n",
    "The root of the tree is the only node in the tree\n",
    "that has no incoming edges.\n",
    "\n",
    "\n",
    "\n",
    "\n"
   ]
  }
 ],
 "metadata": {
  "kernelspec": {
   "display_name": "Python 3 (ipykernel)",
   "language": "python",
   "name": "python3"
  },
  "language_info": {
   "codemirror_mode": {
    "name": "ipython",
    "version": 3
   },
   "file_extension": ".py",
   "mimetype": "text/x-python",
   "name": "python",
   "nbconvert_exporter": "python",
   "pygments_lexer": "ipython3",
   "version": "3.9.12"
  }
 },
 "nbformat": 4,
 "nbformat_minor": 5
}
