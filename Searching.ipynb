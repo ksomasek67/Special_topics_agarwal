{
 "cells": [
  {
   "cell_type": "code",
   "execution_count": 1,
   "id": "0aedfa28",
   "metadata": {},
   "outputs": [],
   "source": [
    "## Sequential Search\n",
    "\n",
    "it is a linear search finding the item in a list"
   ]
  },
  {
   "cell_type": "code",
   "execution_count": 6,
   "id": "9aa2612c",
   "metadata": {},
   "outputs": [
    {
     "name": "stdout",
     "output_type": "stream",
     "text": [
      "(True, 3)\n"
     ]
    }
   ],
   "source": [
    "def Seq_Search(dlist, item):\n",
    "\n",
    "    pos = 0\n",
    "    found = False\n",
    "    \n",
    "    while pos < len(dlist) and not found:\n",
    "        if dlist[pos] == item:\n",
    "            found = True\n",
    "        else:\n",
    "            pos = pos + 1\n",
    "    \n",
    "    return found, pos\n",
    "\n",
    "\n",
    "print(Seq_Search([11,23,58,31,56,77,43,12,65,19],31))"
   ]
  },
  {
   "cell_type": "code",
   "execution_count": 10,
   "id": "57022ee8",
   "metadata": {},
   "outputs": [],
   "source": [
    "## Binary Search\n",
    "\n",
    "finds the position of a target value within a sorted array\n"
   ]
  },
  {
   "cell_type": "code",
   "execution_count": 9,
   "id": "e93b8676",
   "metadata": {},
   "outputs": [
    {
     "name": "stdout",
     "output_type": "stream",
     "text": [
      "False\n",
      "True\n"
     ]
    }
   ],
   "source": [
    "def binary_search(item_list,item):\n",
    "    first = 0\n",
    "    last = len(item_list)-1\n",
    "    found = False\n",
    "    while( first<=last and not found):\n",
    "        mid = (first + last)//2\n",
    "        if item_list[mid] == item :\n",
    "            found = True\n",
    "        else:\n",
    "            if item < item_list[mid]:\n",
    "                last = mid - 1\n",
    "            else:\n",
    "                first = mid + 1\t\n",
    "    return found\n",
    "\n",
    "print(binary_search([1,2,3,5,8], 6))\n",
    "print(binary_search([1,2,3,5,8], 5))"
   ]
  },
  {
   "cell_type": "code",
   "execution_count": 11,
   "id": "ef6435f4",
   "metadata": {},
   "outputs": [],
   "source": [
    "# Hashing"
   ]
  },
  {
   "cell_type": "code",
   "execution_count": 12,
   "id": "ad3ae95c",
   "metadata": {},
   "outputs": [
    {
     "name": "stdout",
     "output_type": "stream",
     "text": [
      "The hash value for 3 is 3\n",
      "The hash value for 2 is 2\n",
      "The hash value for 9 is 2\n",
      "The hash value for 11 is 4\n",
      "The hash value for 7 is 0\n"
     ]
    }
   ],
   "source": [
    "def hash_key( key, m):\n",
    "    return key % m\n",
    "\n",
    "\n",
    "m = 7\n",
    "\n",
    "print(f'The hash value for 3 is {hash_key(3,m)}')\n",
    "print(f'The hash value for 2 is {hash_key(2,m)}')\n",
    "print(f'The hash value for 9 is {hash_key(9,m)}')\n",
    "print(f'The hash value for 11 is {hash_key(11,m)}')\n",
    "print(f'The hash value for 7 is {hash_key(7,m)}')"
   ]
  },
  {
   "cell_type": "code",
   "execution_count": 13,
   "id": "415303c2",
   "metadata": {},
   "outputs": [],
   "source": [
    "class HashTable(object):\n",
    "    def __init__(self, length=4):\n",
    "        # Initiate our array with empty values.\n",
    "        self.array = [None] * length\n",
    "    \n",
    "    def hash(self, key):\n",
    "        \"\"\"Get the index of our array for a specific string key\"\"\"\n",
    "        length = len(self.array)\n",
    "        return hash(key) % length\n",
    "        \n",
    "    def add(self, key, value):\n",
    "        \"\"\"Add a value to our array by its key\"\"\"\n",
    "        index = self.hash(key)\n",
    "        if self.array[index] is not None:\n",
    "            # This index already contain some values.\n",
    "            # This means that this add MIGHT be an update\n",
    "            # to a key that already exist. Instead of just storing\n",
    "            # the value we have to first look if the key exist.\n",
    "            for kvp in self.array[index]:\n",
    "                # If key is found, then update\n",
    "                # its current value to the new value.\n",
    "                if kvp[0] == key:\n",
    "                    kvp[1] = value\n",
    "                    break\n",
    "            else:\n",
    "                # If no breaks was hit in the for loop, it \n",
    "                # means that no existing key was found, \n",
    "                # so we can simply just add it to the end.\n",
    "                self.array[index].append([key, value])\n",
    "        else:\n",
    "            # This index is empty. We should initiate \n",
    "            # a list and append our key-value-pair to it.\n",
    "            self.array[index] = []\n",
    "            self.array[index].append([key, value])\n",
    "    \n",
    "    def get(self, key):\n",
    "        \"\"\"Get a value by key\"\"\"\n",
    "        index = self.hash(key)\n",
    "        if self.array[index] is None:\n",
    "            raise KeyError()\n",
    "        else:\n",
    "            # Loop through all key-value-pairs\n",
    "            # and find if our key exist. If it does \n",
    "            # then return its value.\n",
    "            for kvp in self.array[index]:\n",
    "                if kvp[0] == key:\n",
    "                    return kvp[1]\n",
    "            \n",
    "            # If no return was done during loop,\n",
    "            # it means key didn't exist.\n",
    "            raise KeyError()"
   ]
  },
  {
   "cell_type": "code",
   "execution_count": null,
   "id": "eb96acfd",
   "metadata": {},
   "outputs": [],
   "source": []
  }
 ],
 "metadata": {
  "kernelspec": {
   "display_name": "Python 3 (ipykernel)",
   "language": "python",
   "name": "python3"
  },
  "language_info": {
   "codemirror_mode": {
    "name": "ipython",
    "version": 3
   },
   "file_extension": ".py",
   "mimetype": "text/x-python",
   "name": "python",
   "nbconvert_exporter": "python",
   "pygments_lexer": "ipython3",
   "version": "3.9.12"
  }
 },
 "nbformat": 4,
 "nbformat_minor": 5
}
