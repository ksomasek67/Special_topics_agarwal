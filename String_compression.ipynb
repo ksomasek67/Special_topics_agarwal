{
 "cells": [
  {
   "cell_type": "markdown",
   "id": "0004aef7",
   "metadata": {},
   "source": [
    "# String Compression"
   ]
  },
  {
   "cell_type": "code",
   "execution_count": 1,
   "id": "b0fee118",
   "metadata": {},
   "outputs": [
    {
     "name": "stdout",
     "output_type": "stream",
     "text": [
      "1\n",
      "2\n",
      "3\n",
      "4\n"
     ]
    },
    {
     "ename": "KeyboardInterrupt",
     "evalue": "",
     "output_type": "error",
     "traceback": [
      "\u001b[1;31m---------------------------------------------------------------------------\u001b[0m",
      "\u001b[1;31mKeyboardInterrupt\u001b[0m                         Traceback (most recent call last)",
      "Input \u001b[1;32mIn [1]\u001b[0m, in \u001b[0;36m<cell line: 4>\u001b[1;34m()\u001b[0m\n\u001b[0;32m      3\u001b[0m i\u001b[38;5;241m=\u001b[39m\u001b[38;5;241m0\u001b[39m\n\u001b[0;32m      4\u001b[0m \u001b[38;5;28;01mwhile\u001b[39;00m i \u001b[38;5;241m<\u001b[39mlength:\n\u001b[1;32m----> 5\u001b[0m     \u001b[38;5;28;01mif\u001b[39;00m string[\u001b[43mi\u001b[49m]\u001b[38;5;241m==\u001b[39m\u001b[38;5;124m'\u001b[39m\u001b[38;5;124mA\u001b[39m\u001b[38;5;124m'\u001b[39m:\n\u001b[0;32m      6\u001b[0m         i\u001b[38;5;241m+\u001b[39m\u001b[38;5;241m=\u001b[39m\u001b[38;5;241m1\u001b[39m\n\u001b[0;32m      7\u001b[0m         \u001b[38;5;28mprint\u001b[39m(i)\n",
      "\u001b[1;31mKeyboardInterrupt\u001b[0m: "
     ]
    }
   ],
   "source": [
    "string='AAAABBBCCDDD'\n",
    "length=len(string)\n",
    "i=0\n",
    "while i <length:\n",
    "    if string[i]=='A':\n",
    "        i+=1\n",
    "        print(i)"
   ]
  },
  {
   "cell_type": "code",
   "execution_count": null,
   "id": "f499623c",
   "metadata": {},
   "outputs": [],
   "source": [
    "''''def compress(s):\n",
    "    l=len(s)\n",
    "    if l==0:\n",
    "        return None\n",
    "    if l==1:\n",
    "        return s +'1'\n",
    "    cnt=1\n",
    "    i=1\n",
    "    r=' '\n",
    "    while i<l:\n",
    "        if s[i]==s[i-1]:\n",
    "            cnt=cnt+1\n",
    "        else:\n",
    "           r= r+s[i-1]+str(cnt)\n",
    "           cnt=1 # setting count to 1\n",
    "\n",
    "        i+=1\n",
    "    r= r+s[i-1]+str(cnt)\n",
    "    return r'''''"
   ]
  },
  {
   "cell_type": "code",
   "execution_count": null,
   "id": "a1f7fb05",
   "metadata": {},
   "outputs": [],
   "source": [
    "#compress('aaaabnnnbm')"
   ]
  },
  {
   "cell_type": "code",
   "execution_count": null,
   "id": "b4878378",
   "metadata": {},
   "outputs": [],
   "source": []
  },
  {
   "cell_type": "code",
   "execution_count": 41,
   "id": "458876aa",
   "metadata": {},
   "outputs": [],
   "source": [
    "def compress(s):\n",
    "    l=len(s)\n",
    "    if l==0:\n",
    "        return None\n",
    "    if l==1:\n",
    "        return s +'1'    \n",
    "    i=1\n",
    "    cnt=1\n",
    "    r=' '\n",
    "    while i<l:\n",
    "        if s[i]==s[i-1]:\n",
    "            cnt=cnt+1\n",
    "        else:\n",
    "            r=r+s[i-1]+str(cnt) \n",
    "            cnt=1\n",
    "        \n",
    "        i+=1\n",
    "    r=r+s[i-1]+str(cnt)\n",
    "    return r"
   ]
  },
  {
   "cell_type": "code",
   "execution_count": 5,
   "id": "1b0bc986",
   "metadata": {},
   "outputs": [
    {
     "data": {
      "text/plain": [
       "' a3b2c2'"
      ]
     },
     "execution_count": 5,
     "metadata": {},
     "output_type": "execute_result"
    }
   ],
   "source": [
    "sainath('aaabbcc')"
   ]
  },
  {
   "cell_type": "markdown",
   "id": "02950138",
   "metadata": {},
   "source": [
    "# Define Unique characters\n",
    "\n",
    "(1)Take two loops and compare ( n^2)-complexity  or (2) sort and take loop and compare ( nlogn)"
   ]
  },
  {
   "cell_type": "code",
   "execution_count": 31,
   "id": "5c264a59",
   "metadata": {},
   "outputs": [],
   "source": [
    "# Define Unique characters\n",
    "def unique(s):\n",
    "    i=1\n",
    "    l=len(s)\n",
    "    \n",
    "    if l==0:\n",
    "        return None\n",
    "    if l==1:\n",
    "        return True\n",
    "    list=[]\n",
    "    for i in range(l):\n",
    "        for j in range(i+1,l):\n",
    "            if s[i]==s[j]:\n",
    "                list.append(s[i])\n",
    "                return False\n",
    "            else:\n",
    "                return True\n",
    "    return list"
   ]
  },
  {
   "cell_type": "code",
   "execution_count": 32,
   "id": "be4d54fb",
   "metadata": {},
   "outputs": [
    {
     "data": {
      "text/plain": [
       "False"
      ]
     },
     "execution_count": 32,
     "metadata": {},
     "output_type": "execute_result"
    }
   ],
   "source": [
    "unique('aabbcd')"
   ]
  },
  {
   "cell_type": "code",
   "execution_count": 39,
   "id": "39e106d2",
   "metadata": {},
   "outputs": [],
   "source": [
    "def unique1(a):\n",
    "    if a==0:\n",
    "        return None\n",
    "    if a==1:\n",
    "        return True\n",
    "    a=sorted(a)\n",
    "    i=1\n",
    "    for i in range(len(a)):\n",
    "        if a[i]==a[i-1]:\n",
    "            return False\n",
    "    return True"
   ]
  },
  {
   "cell_type": "code",
   "execution_count": 40,
   "id": "915a4373",
   "metadata": {},
   "outputs": [
    {
     "data": {
      "text/plain": [
       "False"
      ]
     },
     "execution_count": 40,
     "metadata": {},
     "output_type": "execute_result"
    }
   ],
   "source": [
    "unique1('abbcde')"
   ]
  },
  {
   "cell_type": "code",
   "execution_count": null,
   "id": "3520519d",
   "metadata": {},
   "outputs": [],
   "source": []
  }
 ],
 "metadata": {
  "kernelspec": {
   "display_name": "Python 3 (ipykernel)",
   "language": "python",
   "name": "python3"
  },
  "language_info": {
   "codemirror_mode": {
    "name": "ipython",
    "version": 3
   },
   "file_extension": ".py",
   "mimetype": "text/x-python",
   "name": "python",
   "nbconvert_exporter": "python",
   "pygments_lexer": "ipython3",
   "version": "3.9.12"
  }
 },
 "nbformat": 4,
 "nbformat_minor": 5
}
