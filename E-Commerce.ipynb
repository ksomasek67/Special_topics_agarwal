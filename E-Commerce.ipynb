{
 "cells": [
  {
   "cell_type": "raw",
   "id": "e3d8f595",
   "metadata": {},
   "source": [
    "##on-site question 1\n"
   ]
  },
  {
   "cell_type": "raw",
   "id": "fc1e0eef",
   "metadata": {},
   "source": [
    "Problem\n",
    "Youve been given a list of historical stock prices for a single day for amazon stock. the index of the list represents \n",
    "the timestamp, so the element at index of 0 is the initial price of the stock, the element at index 1 is the next recorded\n",
    "price of the stock for that day, etc. Your task is to write a function that will return the maximum profit possible from the\n",
    "purchase and sale of a single share of amazon stock on that day. keep in mind to try to make this as efficient as possible\n",
    "stock_prices=[12,11,15,3,10]"
   ]
  },
  {
   "cell_type": "code",
   "execution_count": 12,
   "id": "0a957ef2",
   "metadata": {},
   "outputs": [],
   "source": [
    "def profit(stock_prices):\n",
    "    min_stock_price=stock_price[0]\n",
    "    max_profit =0\n",
    "    for price in stock_prices:\n",
    "        min_stock_price=min(min_stock_price,price)\n",
    "        comparison_profit=price - min_stock_price\n",
    "        max_profit=max(max_profit,comparison_profit)\n",
    "    return max_profit"
   ]
  },
  {
   "cell_type": "code",
   "execution_count": 13,
   "id": "6b25a042",
   "metadata": {},
   "outputs": [
    {
     "data": {
      "text/plain": [
       "11"
      ]
     },
     "execution_count": 13,
     "metadata": {},
     "output_type": "execute_result"
    }
   ],
   "source": [
    "profit([23,12,3,10])"
   ]
  },
  {
   "cell_type": "code",
   "execution_count": 23,
   "id": "873b532a",
   "metadata": {},
   "outputs": [
    {
     "data": {
      "text/plain": [
       "[1, 1, 16, 16, 9]"
      ]
     },
     "execution_count": 23,
     "metadata": {},
     "output_type": "execute_result"
    }
   ],
   "source": []
  },
  {
   "cell_type": "code",
   "execution_count": 21,
   "id": "b7f63e3e",
   "metadata": {},
   "outputs": [
    {
     "name": "stdout",
     "output_type": "stream",
     "text": [
      "[-1, -1, -4, -4, -3]\n"
     ]
    }
   ],
   "source": [
    "difflist=[]\n",
    "for i in range(len(x)):\n",
    "    difflist.append(x[i]-y[i])\n",
    "print(difflist)"
   ]
  },
  {
   "cell_type": "code",
   "execution_count": 1,
   "id": "c4279f4a",
   "metadata": {},
   "outputs": [],
   "source": [
    "##on-site question 2"
   ]
  },
  {
   "cell_type": "raw",
   "id": "8ac48822",
   "metadata": {},
   "source": [
    "Given a list of integers , write a function that will return a list, in which for index the element will be the \n",
    "product of all the integers except for the element at that index For example, an input of [1,2,3,4] would \n",
    "return  [24,12,8,6] by performing [2*3*4,1*3*4,1*2*4,1*2*3] Requirements you can not use divison in your answer \n",
    "Meaning you can't simply multiply all the numbers and then divide by eahc element for each index"
   ]
  },
  {
   "cell_type": "code",
   "execution_count": 9,
   "id": "87c00a49",
   "metadata": {},
   "outputs": [],
   "source": [
    " \n",
    "def index_prod(lst):\n",
    "    output=[None]* len(lst)\n",
    "    product=1\n",
    "    i=0\n",
    "    \n",
    "    while i<len(lst):\n",
    "        output[i]=product\n",
    "        \n",
    "        product *=lst[i]\n",
    "        i+=1\n",
    "        \n",
    "    product=1\n",
    "    i=len(lst)-1\n",
    "    while i>0:\n",
    "        output[i]*=product\n",
    "        product*=lst[i]\n",
    "        i-=1\n",
    "    return output"
   ]
  },
  {
   "cell_type": "code",
   "execution_count": 7,
   "id": "4aa629a4",
   "metadata": {},
   "outputs": [
    {
     "name": "stdout",
     "output_type": "stream",
     "text": [
      "First Forward pass: [1, 1, 2, 6, 24]\n"
     ]
    },
    {
     "data": {
      "text/plain": [
       "[1, 60, 40, 30, 24]"
      ]
     },
     "execution_count": 7,
     "metadata": {},
     "output_type": "execute_result"
    }
   ],
   "source": [
    "index_prod([1,2,3,4,5])"
   ]
  },
  {
   "cell_type": "code",
   "execution_count": null,
   "id": "66e0b01a",
   "metadata": {},
   "outputs": [],
   "source": []
  }
 ],
 "metadata": {
  "kernelspec": {
   "display_name": "Python 3 (ipykernel)",
   "language": "python",
   "name": "python3"
  },
  "language_info": {
   "codemirror_mode": {
    "name": "ipython",
    "version": 3
   },
   "file_extension": ".py",
   "mimetype": "text/x-python",
   "name": "python",
   "nbconvert_exporter": "python",
   "pygments_lexer": "ipython3",
   "version": "3.9.12"
  }
 },
 "nbformat": 4,
 "nbformat_minor": 5
}
