{
 "cells": [
  {
   "cell_type": "code",
   "execution_count": 4,
   "id": "93622dd4",
   "metadata": {},
   "outputs": [],
   "source": [
    "# Module\n",
    "\n",
    "import json\n",
    "import csv\n",
    "def convertPercentage(value):\n",
    "    value = str(round(float(value.replace(\"%\", \"\"))/100,2))\n",
    "    return value\n",
    "def commaRemover(value):\n",
    "    value = value.replace(\",\",\"\")\n",
    "    return value\n",
    "def main():\n",
    "    ffile=open('station-data.json','r')\n",
    "    readr = json.loads(ffile.read())\n",
    "    categories = list(readr[0].keys())\n",
    "    with open('output.csv','w',newline='') as csvfile:\n",
    "        writer = csv.DictWriter(csvfile,fieldnames=categories)\n",
    "        writer.writeheader()\n",
    "        for vdict in readr:\n",
    "            if vdict['ValueType'] == 'Percent':\n",
    "                vdict['Value'] = convertPercentage(vdict['Value'])\n",
    "            elif vdict['ValueType'] == 'Number':\n",
    "                vdict['Value'] = commaRemover(vdict['Value'])\n",
    "            writer.writerow(vdict)\n"
   ]
  },
  {
   "cell_type": "code",
   "execution_count": 3,
   "id": "4a94d4ac",
   "metadata": {},
   "outputs": [],
   "source": [
    "if __name__==\"__main__\":\n",
    "    main()"
   ]
  },
  {
   "cell_type": "code",
   "execution_count": null,
   "id": "36646281",
   "metadata": {},
   "outputs": [],
   "source": []
  }
 ],
 "metadata": {
  "kernelspec": {
   "display_name": "Python 3 (ipykernel)",
   "language": "python",
   "name": "python3"
  },
  "language_info": {
   "codemirror_mode": {
    "name": "ipython",
    "version": 3
   },
   "file_extension": ".py",
   "mimetype": "text/x-python",
   "name": "python",
   "nbconvert_exporter": "python",
   "pygments_lexer": "ipython3",
   "version": "3.9.12"
  }
 },
 "nbformat": 4,
 "nbformat_minor": 5
}
