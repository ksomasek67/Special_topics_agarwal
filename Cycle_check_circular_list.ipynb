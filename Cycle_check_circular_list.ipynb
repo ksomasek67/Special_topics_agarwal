{
 "cells": [
  {
   "cell_type": "code",
   "execution_count": 73,
   "id": "cf12d601",
   "metadata": {},
   "outputs": [],
   "source": [
    "# Circular Linked list CCycle Check\n",
    "\n",
    "#A cycle is  when a node's next point actually points back to a previous node in the list.\n",
    "#We will have two markers traversing through the list Marker 1 and Marker 2. We will have both\n",
    "#makers begin at the first node of the list and travserse through the linked list. However the second marker 1 and marker 2 will two nodes ahead for every one node the marker moves\n",
    "\n",
    "from nose.tools import assert_equal\n",
    "class Node2(object):\n",
    "    def __init__(self,data):\n",
    "        self.data=data\n",
    "        self.nextnode=None\n",
    "\n",
    "a=Node2(1)\n",
    "b=Node2(2)\n",
    "c=Node2(3)\n",
    "a.nextnode=b\n",
    "b.nextnode=c\n",
    "c.nextnode=a # Cycle Here!\n",
    "\n",
    "x=Node2(1)\n",
    "y=Node2(2)\n",
    "z=Node2(3)\n",
    "x.nextnode=y\n",
    "y.nextnode=z\n"
   ]
  },
  {
   "cell_type": "code",
   "execution_count": 74,
   "id": "486e3b53",
   "metadata": {},
   "outputs": [
    {
     "data": {
      "text/plain": [
       "2"
      ]
     },
     "execution_count": 74,
     "metadata": {},
     "output_type": "execute_result"
    }
   ],
   "source": [
    "a.nextnode.data"
   ]
  },
  {
   "cell_type": "code",
   "execution_count": 75,
   "id": "451c7493",
   "metadata": {},
   "outputs": [],
   "source": [
    "def cycle_check(Node2):\n",
    "    marker1=Node2\n",
    "    marker2=Node2\n",
    "    while marker2!=None and marker2.nextnode!=None:\n",
    "        marker1=marker1.nextnode\n",
    "        marker2=marker2.nextnode.nextnode\n",
    "        \n",
    "        if marker1==marker2:\n",
    "            return True\n",
    "    return False"
   ]
  },
  {
   "cell_type": "code",
   "execution_count": 76,
   "id": "040f8311",
   "metadata": {},
   "outputs": [
    {
     "name": "stdout",
     "output_type": "stream",
     "text": [
      "All Test Cases Passed\n"
     ]
    }
   ],
   "source": [
    "class TestCycleCheck(object):\n",
    "    def test(self,sol):\n",
    "        assert_equal(sol(a),True)\n",
    "        assert_equal(sol(x),False)\n",
    "        \n",
    "        print(\"All Test Cases Passed\")\n",
    "# Run tests\n",
    "\n",
    "t=TestCycleCheck()\n",
    "t.test(cycle_check)"
   ]
  },
  {
   "cell_type": "code",
   "execution_count": null,
   "id": "ba5f17f7",
   "metadata": {},
   "outputs": [],
   "source": []
  }
 ],
 "metadata": {
  "kernelspec": {
   "display_name": "Python 3 (ipykernel)",
   "language": "python",
   "name": "python3"
  },
  "language_info": {
   "codemirror_mode": {
    "name": "ipython",
    "version": 3
   },
   "file_extension": ".py",
   "mimetype": "text/x-python",
   "name": "python",
   "nbconvert_exporter": "python",
   "pygments_lexer": "ipython3",
   "version": "3.9.12"
  }
 },
 "nbformat": 4,
 "nbformat_minor": 5
}
