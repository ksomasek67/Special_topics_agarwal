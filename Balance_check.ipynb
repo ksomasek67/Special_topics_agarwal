{
 "cells": [
  {
   "cell_type": "markdown",
   "id": "c32da0e5",
   "metadata": {},
   "source": [
    "# Balance Check"
   ]
  },
  {
   "cell_type": "code",
   "execution_count": 26,
   "id": "67c540a7",
   "metadata": {},
   "outputs": [],
   "source": [
    "def balance_check(s):\n",
    "    \n",
    "    # FILO\n",
    "    # statement dont have any spaces\n",
    "    \n",
    "    if len(s)%2 !=0:\n",
    "        return False\n",
    "    \n",
    "    opening=set('([{')\n",
    "    matching= set([('(',')'),('[',']'),('{','}')])\n",
    "    \n",
    "    stack=[]\n",
    "    \n",
    "    for paren in s:\n",
    "        \n",
    "        if paren in opening:\n",
    "            stack.append(paren)\n",
    "            \n",
    "        else:\n",
    "            if len(stack)==0:\n",
    "                return False\n",
    "        \n",
    "        last_open=stack.pop()\n",
    "        if (last_open,paren) not in matching:\n",
    "            return False\n",
    "    \n",
    "    return (len(stack)==0)\n",
    "    \n",
    "    "
   ]
  },
  {
   "cell_type": "code",
   "execution_count": 27,
   "id": "6295b19c",
   "metadata": {},
   "outputs": [
    {
     "data": {
      "text/plain": [
       "True"
      ]
     },
     "execution_count": 27,
     "metadata": {},
     "output_type": "execute_result"
    }
   ],
   "source": [
    "balance_check('[]')\n"
   ]
  },
  {
   "cell_type": "code",
   "execution_count": null,
   "id": "7037d91b",
   "metadata": {},
   "outputs": [],
   "source": []
  }
 ],
 "metadata": {
  "kernelspec": {
   "display_name": "Python 3 (ipykernel)",
   "language": "python",
   "name": "python3"
  },
  "language_info": {
   "codemirror_mode": {
    "name": "ipython",
    "version": 3
   },
   "file_extension": ".py",
   "mimetype": "text/x-python",
   "name": "python",
   "nbconvert_exporter": "python",
   "pygments_lexer": "ipython3",
   "version": "3.9.12"
  }
 },
 "nbformat": 4,
 "nbformat_minor": 5
}
