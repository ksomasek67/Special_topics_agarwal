{
 "cells": [
  {
   "cell_type": "markdown",
   "id": "f5f2b0c4",
   "metadata": {},
   "source": [
    "# ' o dg'  'dog' 'god' is an anagram"
   ]
  },
  {
   "cell_type": "code",
   "execution_count": 219,
   "id": "7bdc5102",
   "metadata": {},
   "outputs": [],
   "source": [
    "def anagram2(s1,s2):\n",
    "    \n",
    "    s1=s1.replace(' ','').lower()\n",
    "    s2=s2.replace(' ','').lower()\n",
    "    \n",
    "    # Edge case check\n",
    "    if len(s1) != len(s2):\n",
    "        return False\n",
    "    # first dictionary with first strong\n",
    "    \n",
    "    # first add count\n",
    "    # second subtract counts\n",
    "    # check whther they are equal are not\n",
    "    \n",
    "    count = {}\n",
    "    \n",
    "    for letter in s1:\n",
    "        #print(count[letter])\n",
    "        if letter in count:\n",
    "            count[letter]+=1\n",
    "            print(count[letter])\n",
    "        else:\n",
    "            count[letter]=1\n",
    "            print(count[letter])\n",
    "    \n",
    "    for letter in s2:\n",
    "        if letter in count:\n",
    "            count[letter] -=1\n",
    "            print(count[letter])\n",
    "        else:\n",
    "            count[letter]=1\n",
    "            print(count[letter])\n",
    "    \n",
    "    for k in count:\n",
    "        if count[k] != 0:\n",
    "            return False\n",
    "    #return True                           \n",
    "    #eturn sorted(s1)==sorted(s2)"
   ]
  },
  {
   "cell_type": "code",
   "execution_count": 220,
   "id": "e7ec12f0",
   "metadata": {},
   "outputs": [
    {
     "name": "stdout",
     "output_type": "stream",
     "text": [
      "1\n",
      "1\n",
      "1\n",
      "1\n",
      "1\n",
      "1\n",
      "1\n",
      "1\n",
      "2\n",
      "1\n",
      "1\n",
      "2\n",
      "1\n",
      "1\n",
      "0\n",
      "0\n",
      "0\n",
      "0\n",
      "0\n",
      "1\n",
      "0\n",
      "0\n",
      "0\n",
      "0\n",
      "0\n",
      "0\n"
     ]
    }
   ],
   "source": [
    "anagram2('clint eastwood','old west action')"
   ]
  },
  {
   "cell_type": "code",
   "execution_count": 26,
   "id": "73f5e1b9",
   "metadata": {},
   "outputs": [],
   "source": [
    "# Above prgram is for edge cases\n",
    "def anagram(s1,s2):\n",
    "    \n",
    "    s1=s1.replace(' ','').lower()\n",
    "    s2=s2.replace(' ','').lower()\n",
    "    \n",
    "    return sorted(s1)==sorted(s2)\n",
    "    "
   ]
  },
  {
   "cell_type": "code",
   "execution_count": 30,
   "id": "610ee773",
   "metadata": {},
   "outputs": [
    {
     "data": {
      "text/plain": [
       "True"
      ]
     },
     "execution_count": 30,
     "metadata": {},
     "output_type": "execute_result"
    }
   ],
   "source": [
    "anagram('dgog','oggd')"
   ]
  },
  {
   "cell_type": "code",
   "execution_count": 43,
   "id": "bbd2ef50",
   "metadata": {},
   "outputs": [
    {
     "name": "stdout",
     "output_type": "stream",
     "text": [
      "1\n",
      "1\n",
      "1\n",
      "1\n",
      "2\n"
     ]
    }
   ],
   "source": [
    "\n",
    "s1='rishi'\n",
    "count={}\n",
    "for letter in s1:\n",
    "        #print(count[letter])\n",
    "        if letter in count:\n",
    "            count[letter]+=1\n",
    "            print(count[letter])\n",
    "        else:\n",
    "            count[letter]=1\n",
    "            print(count[letter])"
   ]
  },
  {
   "cell_type": "code",
   "execution_count": 45,
   "id": "28b9c211",
   "metadata": {},
   "outputs": [
    {
     "name": "stdout",
     "output_type": "stream",
     "text": [
      "1\n",
      "1\n",
      "1\n",
      "1\n",
      "0\n"
     ]
    }
   ],
   "source": [
    "s2='rishi'\n",
    "count={}\n",
    "for letter in s2:\n",
    "        #print(count[letter])\n",
    "        if letter in count:\n",
    "            count[letter]-=1\n",
    "            print(count[letter])\n",
    "        else:\n",
    "            count[letter]=1\n",
    "            print(count[letter])"
   ]
  },
  {
   "cell_type": "markdown",
   "id": "c768bbde",
   "metadata": {},
   "source": [
    "# Array Pair Sum\n",
    "\n",
    "Given an Integer array output the unique pairs\n",
    "pair_sum({1,3,2,2],4)\n",
    "would retun 2 pairs\n",
    "(1,3) (2,2)\n"
   ]
  },
  {
   "cell_type": "code",
   "execution_count": 47,
   "id": "27031b48",
   "metadata": {},
   "outputs": [],
   "source": [
    "def pair_sum(arr,k):\n",
    "    pass\n"
   ]
  },
  {
   "cell_type": "code",
   "execution_count": 49,
   "id": "89c4b404",
   "metadata": {},
   "outputs": [],
   "source": [
    "sum_pair([1,2,3,2],4)\n"
   ]
  },
  {
   "cell_type": "code",
   "execution_count": 61,
   "id": "f9fc9961",
   "metadata": {},
   "outputs": [
    {
     "data": {
      "text/plain": [
       "3"
      ]
     },
     "execution_count": 61,
     "metadata": {},
     "output_type": "execute_result"
    }
   ],
   "source": [
    "# zTime complexity is O(n2)\n",
    "def sum_pair(arr,n,sum):\n",
    "    count=0\n",
    "    for i in range(0,n):\n",
    "        for j in range(i+1,n):\n",
    "            \n",
    "            if arr[i]+arr[j]==sum:\n",
    "                count=count+1\n",
    "    return count\n",
    "\n",
    "sum_pair([1,3,4,5,2,0],6,5)\n",
    "                \n",
    "                "
   ]
  },
  {
   "cell_type": "code",
   "execution_count": 77,
   "id": "34d473c1",
   "metadata": {},
   "outputs": [],
   "source": [
    "def pair_sum(arr,k):\n",
    "    \n",
    "    if len(arr)<2:\n",
    "        return \n",
    "    \n",
    "    # target +num =k\n",
    "    \n",
    "    seen=set()\n",
    "    output=set()\n",
    "    \n",
    "    for num in arr:\n",
    "        target = k-num\n",
    "        if target not in seen:\n",
    "            seen.add(num)\n",
    "        else:\n",
    "            output.add(((min(num,target)),max(num,target)))\n",
    "    #return len(output)\n",
    "    #print '\\n'.join(map(str,list(output)))\n",
    "    print (\", \".join(map(str, list(output))))"
   ]
  },
  {
   "cell_type": "code",
   "execution_count": 78,
   "id": "da2562dd",
   "metadata": {},
   "outputs": [
    {
     "name": "stdout",
     "output_type": "stream",
     "text": [
      "(2, 3), (1, 4), (0, 5)\n"
     ]
    }
   ],
   "source": [
    "pair_sum([1,3,2,2,4,5,0],5)\n"
   ]
  },
  {
   "cell_type": "code",
   "execution_count": 63,
   "id": "8d7fb177",
   "metadata": {},
   "outputs": [
    {
     "data": {
      "text/plain": [
       "2"
      ]
     },
     "execution_count": 63,
     "metadata": {},
     "output_type": "execute_result"
    }
   ],
   "source": [
    "min(2,4)"
   ]
  },
  {
   "cell_type": "markdown",
   "id": "33f58ed1",
   "metadata": {},
   "source": [
    "# Find the Missing Element\n",
    "\n",
    "Problem: Consider an array of non-negative integers. A second array is formed by shuffling the elements of the first array and deleting a random element. given those two arrays, find which element is missing in the second array\n",
    "Here is an example, the first_array is shuffled and the number 5 is removed to  construct the second array.\n",
    "\n",
    "Input:\n",
    "finder([1,2,3,4,5,6,7],[3,7,2,1,4,6])\n",
    "\n"
   ]
  },
  {
   "cell_type": "code",
   "execution_count": 180,
   "id": "cb715a39",
   "metadata": {},
   "outputs": [],
   "source": [
    "arr3=[4,5,1,2,3]\n",
    "arr3.sort()"
   ]
  },
  {
   "cell_type": "code",
   "execution_count": 23,
   "id": "0f68d8d0",
   "metadata": {},
   "outputs": [
    {
     "data": {
      "text/plain": [
       "[1, 3, 4, 5, 6, 11, 11, 11]"
      ]
     },
     "execution_count": 23,
     "metadata": {},
     "output_type": "execute_result"
    }
   ],
   "source": [
    "#array1.append(2)\n"
   ]
  },
  {
   "cell_type": "code",
   "execution_count": 32,
   "id": "d80d7906",
   "metadata": {},
   "outputs": [
    {
     "data": {
      "text/plain": [
       "[1, 2, 3, 4, 5, 6, 7]"
      ]
     },
     "execution_count": 32,
     "metadata": {},
     "output_type": "execute_result"
    }
   ],
   "source": [
    "array1.sort()\n",
    "array1"
   ]
  },
  {
   "cell_type": "code",
   "execution_count": 201,
   "id": "0f6a6508",
   "metadata": {},
   "outputs": [],
   "source": [
    "def find_array(array1,array2):\n",
    "    non_match=[]\n",
    "    for i in array1:\n",
    "        if i not in array2:\n",
    "            non_match.append(i)    \n",
    "    return non_match"
   ]
  },
  {
   "cell_type": "code",
   "execution_count": 203,
   "id": "6db8f4de",
   "metadata": {},
   "outputs": [
    {
     "name": "stdout",
     "output_type": "stream",
     "text": [
      "87 ns ± 8.32 ns per loop (mean ± std. dev. of 7 runs, 10,000,000 loops each)\n"
     ]
    }
   ],
   "source": [
    "array1=[1,2,3,4,14,5,6,7,11,11,12]\n",
    "array2=[3,7,2,1,4,6]\n",
    "array1.sort()   # We sorted the list sorting elemenates checking entire array\n",
    "find_array(array1,array2)\n",
    "%timeit find_array"
   ]
  },
  {
   "cell_type": "markdown",
   "id": "70443286",
   "metadata": {},
   "source": [
    "# Solution by Udemy"
   ]
  },
  {
   "cell_type": "code",
   "execution_count": 186,
   "id": "7ef06e20",
   "metadata": {},
   "outputs": [],
   "source": [
    "def finder(arr1,arr2):\n",
    "    arr1.sort()\n",
    "    arr2.sort()\n",
    "    var=[]\n",
    "    for num1,num2 in zip(arr1,arr2):\n",
    "        if num1!=num2:\n",
    "            var.append(num1)\n",
    "            return num1\n",
    "        \n",
    "    return var\n",
    "# This handles only when arrays of same size that to gives only first number"
   ]
  },
  {
   "cell_type": "code",
   "execution_count": 205,
   "id": "d617e372",
   "metadata": {},
   "outputs": [
    {
     "name": "stdout",
     "output_type": "stream",
     "text": [
      "2.45 µs ± 516 ns per loop (mean ± std. dev. of 7 runs, 100,000 loops each)\n"
     ]
    }
   ],
   "source": [
    "arr1=[1,2,3,4,6,9,11]\n",
    "arr2=[2,4,3,1,6,7,9]\n",
    "%timeit finder(arr1,arr2)"
   ]
  },
  {
   "cell_type": "code",
   "execution_count": 172,
   "id": "0ddd5805",
   "metadata": {},
   "outputs": [
    {
     "data": {
      "text/plain": [
       "[(1, 4), (2, 5), (3, 6)]"
      ]
     },
     "execution_count": 172,
     "metadata": {},
     "output_type": "execute_result"
    }
   ],
   "source": [
    "a=[1,2,3]\n",
    "b=[4,5,6]\n",
    "\n",
    "ab =[(a,b) for (a,b) in zip(a,b)]\n",
    "ab\n"
   ]
  },
  {
   "cell_type": "markdown",
   "id": "4113cb35",
   "metadata": {},
   "source": [
    "# Tables"
   ]
  },
  {
   "cell_type": "code",
   "execution_count": 1,
   "id": "c3c9cd4e",
   "metadata": {},
   "outputs": [],
   "source": [
    "import collections\n",
    "def finder2(arr1,arr2):\n",
    "    d = collections.defaultdict(int)\n",
    "    \n",
    "    for num in arr2:\n",
    "        d[num] +=1\n",
    "        print(d[num])\n",
    "    \n",
    "    for num in arr1:\n",
    "        if d[num]==0:\n",
    "            return \n",
    "        \n",
    "        else:\n",
    "            d[num]-=1\n",
    "    \n",
    "    "
   ]
  },
  {
   "cell_type": "code",
   "execution_count": 2,
   "id": "569df621",
   "metadata": {},
   "outputs": [],
   "source": [
    "a=[1,2,3]"
   ]
  },
  {
   "cell_type": "code",
   "execution_count": 206,
   "id": "ddd17c6b",
   "metadata": {},
   "outputs": [
    {
     "name": "stdout",
     "output_type": "stream",
     "text": [
      "[('Java', 14), ('Python', 3), ('JavaScript', 6)]\n"
     ]
    }
   ],
   "source": [
    "languages = ['Java', 'Python', 'JavaScript']\n",
    "versions = [14, 3, 6]\n",
    "\n",
    "result = zip(languages, versions)\n",
    "print(list(result))"
   ]
  },
  {
   "cell_type": "code",
   "execution_count": null,
   "id": "4dd05649",
   "metadata": {},
   "outputs": [],
   "source": []
  }
 ],
 "metadata": {
  "kernelspec": {
   "display_name": "Python 3 (ipykernel)",
   "language": "python",
   "name": "python3"
  },
  "language_info": {
   "codemirror_mode": {
    "name": "ipython",
    "version": 3
   },
   "file_extension": ".py",
   "mimetype": "text/x-python",
   "name": "python",
   "nbconvert_exporter": "python",
   "pygments_lexer": "ipython3",
   "version": "3.9.12"
  }
 },
 "nbformat": 4,
 "nbformat_minor": 5
}
