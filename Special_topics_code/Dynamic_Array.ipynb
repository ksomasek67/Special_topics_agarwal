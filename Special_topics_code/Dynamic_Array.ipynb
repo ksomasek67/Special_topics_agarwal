{
 "cells": [
  {
   "cell_type": "markdown",
   "id": "1290c2d2",
   "metadata": {},
   "source": [
    "# Dynamic Array Implementation"
   ]
  },
  {
   "cell_type": "raw",
   "id": "5d86c632",
   "metadata": {},
   "source": [
    "a)Create array B \n",
    "b)Store Elements of A\n",
    "c)Re-assign reference A to the new array\n",
    "\n",
    "1) Allocate new array B with large capacity\n",
    "2) B[i]=A[i]\n",
    "s3)et A=B using B as a supporting the list\n",
    "4)Insert New Element in the new array"
   ]
  },
  {
   "cell_type": "code",
   "execution_count": null,
   "id": "3f06ad5e",
   "metadata": {},
   "outputs": [],
   "source": []
  },
  {
   "cell_type": "code",
   "execution_count": 2,
   "id": "3ece4099",
   "metadata": {},
   "outputs": [],
   "source": [
    "import ctypes\n",
    "import sys\n",
    "class DynamicArray(object):\n",
    "    \n",
    "    def __init__(self):\n",
    "        self.n=0 # number of count  of actualelements\n",
    "        self.capacity=1 # can accept 1 element by default length\n",
    "        self.A= self.make_array(self.capacity)\n",
    "        \n",
    "    def __len__(self):\n",
    "        return self.n # # length of an array \n",
    "    \n",
    "    def __getitem__(self,k):   # This function is for Index\n",
    "        # Indexing to return element of index passing k( index)\n",
    "        if not 0<= k < self.n:\n",
    "            return IndexError(\"K is out of bounds\")\n",
    "        \n",
    "        return self.A[k]  # returns element at the index\n",
    "    \n",
    "    def append(self,element):\n",
    "        # Need to check capacity\n",
    "        if self.n==self.capacity:\n",
    "            self._resize(2*self.capacity) # 2X if capacity isn't enough\n",
    "        \n",
    "        self.A[self.n]=element # putting element at last index\n",
    "        self.n=self.n+1\n",
    "    \n",
    "    def _resize(self,new_cap):\n",
    "        # resizing internal array to two times\n",
    "        # Apply the logic you written\n",
    "        B=self.make_array(new_cap)\n",
    "        \n",
    "        for k in range(self.n):\n",
    "            B[k]=self.A[k]\n",
    "        \n",
    "        self.A=B\n",
    "        self.capacity=new_cap  # setting capacity variable to new-cap\n",
    "        \n",
    "    def make_array(self,new_cap):\n",
    "        \n",
    "        return (new_cap *ctypes.py_object)()\n",
    "        \n",
    "    def auto_resize(self):\n",
    "        n=self.n\n",
    "        data =[]\n",
    "        for i in range(n):\n",
    "            #Number of Elements\n",
    "            a = len(data)\n",
    "            b=sys.getsizeof(data)\n",
    "            print('Length:{0:3d}; Size in bytes:{1:4d}'.format(a,b))\n",
    "            # increase length by one\n",
    "            data.append(n)\n",
    "        \n",
    "# k = index self.n = count of actual elements already in Array\n",
    "        \n",
    "    "
   ]
  },
  {
   "cell_type": "code",
   "execution_count": 6,
   "id": "2f411200",
   "metadata": {},
   "outputs": [
    {
     "data": {
      "text/plain": [
       "3"
      ]
     },
     "execution_count": 6,
     "metadata": {},
     "output_type": "execute_result"
    }
   ],
   "source": [
    "arr= DynamicArray()\n",
    "arr.append(3)\n",
    "arr.append(1)\n",
    "arr.append(2)\n",
    "arr.append(56)\n",
    "arr.append(6)\n",
    "arr.append(6)\n",
    "arr.append(7)\n",
    "len(arr)"
   ]
  },
  {
   "cell_type": "code",
   "execution_count": 67,
   "id": "59cef84c",
   "metadata": {},
   "outputs": [],
   "source": [
    "# Home Work How it auto resizes Try using the sys.getsizeof()"
   ]
  },
  {
   "cell_type": "code",
   "execution_count": 68,
   "id": "99ead637",
   "metadata": {},
   "outputs": [
    {
     "name": "stdout",
     "output_type": "stream",
     "text": [
      "Length:  0; Size in bytes:  56\n",
      "Length:  1; Size in bytes:  88\n",
      "Length:  2; Size in bytes:  88\n",
      "Length:  3; Size in bytes:  88\n",
      "Length:  4; Size in bytes:  88\n",
      "Length:  5; Size in bytes: 120\n",
      "Length:  6; Size in bytes: 120\n"
     ]
    }
   ],
   "source": [
    "arr.auto_resize()"
   ]
  },
  {
   "cell_type": "code",
   "execution_count": null,
   "id": "a310d478",
   "metadata": {},
   "outputs": [],
   "source": []
  },
  {
   "cell_type": "code",
   "execution_count": null,
   "id": "9edc5852",
   "metadata": {},
   "outputs": [],
   "source": []
  }
 ],
 "metadata": {
  "kernelspec": {
   "display_name": "Python 3 (ipykernel)",
   "language": "python",
   "name": "python3"
  },
  "language_info": {
   "codemirror_mode": {
    "name": "ipython",
    "version": 3
   },
   "file_extension": ".py",
   "mimetype": "text/x-python",
   "name": "python",
   "nbconvert_exporter": "python",
   "pygments_lexer": "ipython3",
   "version": "3.9.12"
  }
 },
 "nbformat": 4,
 "nbformat_minor": 5
}
