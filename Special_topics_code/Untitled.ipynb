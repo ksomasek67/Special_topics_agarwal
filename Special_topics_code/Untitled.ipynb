{
 "cells": [
  {
   "cell_type": "markdown",
   "id": "1e40fc19",
   "metadata": {},
   "source": [
    "# ARRAYS in Python"
   ]
  },
  {
   "cell_type": "code",
   "execution_count": 1,
   "id": "ea2aeda8",
   "metadata": {},
   "outputs": [],
   "source": [
    "# List \n",
    "#Tuple\n",
    "#String\n"
   ]
  },
  {
   "cell_type": "code",
   "execution_count": 2,
   "id": "4cdb672f",
   "metadata": {},
   "outputs": [],
   "source": [
    "# Low Level Arrays"
   ]
  },
  {
   "cell_type": "code",
   "execution_count": 9,
   "id": "aef0bd89",
   "metadata": {},
   "outputs": [
    {
     "name": "stdout",
     "output_type": "stream",
     "text": [
      "Length:  0; Size in bytes:  56\n",
      "Length:  1; Size in bytes:  88\n",
      "Length:  2; Size in bytes:  88\n",
      "Length:  3; Size in bytes:  88\n",
      "Length:  4; Size in bytes:  88\n",
      "Length:  5; Size in bytes: 120\n",
      "Length:  6; Size in bytes: 120\n",
      "Length:  7; Size in bytes: 120\n",
      "Length:  8; Size in bytes: 120\n",
      "Length:  9; Size in bytes: 184\n",
      "[10, 10, 10, 10, 10, 10, 10, 10, 10, 10]\n"
     ]
    }
   ],
   "source": [
    "# Dynamic Arrays\n",
    "import sys\n",
    "n=10\n",
    "data =[]\n",
    "for i in range(n):\n",
    "    \n",
    "    #Number of Elements\n",
    "    a = len(data)\n",
    "    \n",
    "    \n",
    "    b=sys.getsizeof(data)\n",
    "    print('Length:{0:3d}; Size in bytes:{1:4d}'.format(a,b))\n",
    "    \n",
    "    # increase length by one\n",
    "    data.append(n)\n",
    "print(data)"
   ]
  },
  {
   "cell_type": "code",
   "execution_count": 12,
   "id": "98d6b7a9",
   "metadata": {},
   "outputs": [
    {
     "name": "stdout",
     "output_type": "stream",
     "text": [
      "9\n"
     ]
    }
   ],
   "source": [
    "print(a)"
   ]
  },
  {
   "cell_type": "code",
   "execution_count": 13,
   "id": "bbc0dece",
   "metadata": {},
   "outputs": [
    {
     "data": {
      "text/plain": [
       "[5, 6, 3]"
      ]
     },
     "execution_count": 13,
     "metadata": {},
     "output_type": "execute_result"
    }
   ],
   "source": [
    "primes=[1,2,4,5,6,3,8,9]\n",
    "temp=primes[3:6]\n",
    "temp\n"
   ]
  },
  {
   "cell_type": "code",
   "execution_count": 15,
   "id": "4f274b70",
   "metadata": {},
   "outputs": [
    {
     "data": {
      "text/plain": [
       "0"
      ]
     },
     "execution_count": 15,
     "metadata": {},
     "output_type": "execute_result"
    }
   ],
   "source": [
    "def function(x=0):\n",
    "    return x\n",
    "function()"
   ]
  },
  {
   "cell_type": "code",
   "execution_count": 18,
   "id": "531e8677",
   "metadata": {},
   "outputs": [
    {
     "data": {
      "text/plain": [
       "[2, 4, 5, 6, 3, 8]"
      ]
     },
     "execution_count": 18,
     "metadata": {},
     "output_type": "execute_result"
    }
   ],
   "source": [
    "primes[1:-1] # it cuts end elements"
   ]
  },
  {
   "cell_type": "code",
   "execution_count": 19,
   "id": "b19cf58e",
   "metadata": {},
   "outputs": [
    {
     "ename": "SyntaxError",
     "evalue": "EOF while scanning triple-quoted string literal (745900043.py, line 5)",
     "output_type": "error",
     "traceback": [
      "\u001b[1;36m  Input \u001b[1;32mIn [19]\u001b[1;36m\u001b[0m\n\u001b[1;33m    print(a(a))''''''\u001b[0m\n\u001b[1;37m                     \n^\u001b[0m\n\u001b[1;31mSyntaxError\u001b[0m\u001b[1;31m:\u001b[0m EOF while scanning triple-quoted string literal\n"
     ]
    }
   ],
   "source": [
    "'''a=['mary','had','a','little','lamb']\n",
    "def a (a):\n",
    "    del a[3]\n",
    "    a[3]='ram'\n",
    "print(a(a))''''''"
   ]
  },
  {
   "cell_type": "code",
   "execution_count": 20,
   "id": "bcff7318",
   "metadata": {},
   "outputs": [
    {
     "ename": "TypeError",
     "evalue": "'tuple' object does not support item assignment",
     "output_type": "error",
     "traceback": [
      "\u001b[1;31m---------------------------------------------------------------------------\u001b[0m",
      "\u001b[1;31mTypeError\u001b[0m                                 Traceback (most recent call last)",
      "Input \u001b[1;32mIn [20]\u001b[0m, in \u001b[0;36m<cell line: 2>\u001b[1;34m()\u001b[0m\n\u001b[0;32m      1\u001b[0m my_tuple\u001b[38;5;241m=\u001b[39m(\u001b[38;5;241m2\u001b[39m,\u001b[38;5;241m3\u001b[39m,\u001b[38;5;241m0\u001b[39m)\n\u001b[1;32m----> 2\u001b[0m my_tuple[\u001b[38;5;241m1\u001b[39m]\u001b[38;5;241m=\u001b[39mmy_tuple[\u001b[38;5;241m1\u001b[39m]\u001b[38;5;241m+\u001b[39mmy_tuple[\u001b[38;5;241m0\u001b[39m]\n",
      "\u001b[1;31mTypeError\u001b[0m: 'tuple' object does not support item assignment"
     ]
    }
   ],
   "source": [
    "my_tuple=(2,3,0)\n",
    "my_tuple[1]=my_tuple[1]+my_tuple[0]"
   ]
  },
  {
   "cell_type": "code",
   "execution_count": null,
   "id": "781831f5",
   "metadata": {},
   "outputs": [],
   "source": []
  }
 ],
 "metadata": {
  "kernelspec": {
   "display_name": "Python 3 (ipykernel)",
   "language": "python",
   "name": "python3"
  },
  "language_info": {
   "codemirror_mode": {
    "name": "ipython",
    "version": 3
   },
   "file_extension": ".py",
   "mimetype": "text/x-python",
   "name": "python",
   "nbconvert_exporter": "python",
   "pygments_lexer": "ipython3",
   "version": "3.9.12"
  }
 },
 "nbformat": 4,
 "nbformat_minor": 5
}
