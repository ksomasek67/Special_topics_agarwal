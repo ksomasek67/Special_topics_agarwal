{
 "cells": [
  {
   "cell_type": "markdown",
   "id": "72dfd5a1",
   "metadata": {},
   "source": [
    "# largest Continous Sum\n",
    "#Approach \n",
    "\n",
    "create two variable max_sum ,cur_sum\n",
    "assign both with initial value because it is maximum\n",
    "then increment current sum by iterating over the array from the second element and compare num_cur_sum with previous cur_sum\n",
    "then do the same with max_sum, take max( max_sum,cur_sum(after iteration) and return max_sum"
   ]
  },
  {
   "cell_type": "code",
   "execution_count": 14,
   "id": "615da6dc",
   "metadata": {},
   "outputs": [],
   "source": [
    "def large_cont_sum(array):\n",
    "    if len(array)==0:\n",
    "        return 0\n",
    "    max_sum=current_sum=array[0]\n",
    "    \n",
    "    for num in array[1:]:\n",
    "        current_sum=max(current_sum+num,current_sum)\n",
    "        \n",
    "        max_sum=max(current_sum,max_sum)\n",
    "    return max_sum\n",
    "        "
   ]
  },
  {
   "cell_type": "code",
   "execution_count": 16,
   "id": "4567ac11",
   "metadata": {},
   "outputs": [
    {
     "data": {
      "text/plain": [
       "155"
      ]
     },
     "execution_count": 16,
     "metadata": {},
     "output_type": "execute_result"
    }
   ],
   "source": [
    "large_cont_sum([])\n",
    "large_cont_sum([1,3,4,5,-1,8,104,-20,30])"
   ]
  },
  {
   "cell_type": "code",
   "execution_count": 156,
   "id": "ed6c612e",
   "metadata": {},
   "outputs": [],
   "source": [
    "def large_max_sum(array):\n",
    "    #edge case\n",
    "    \n",
    "    cur_sum=max_sum=array[0]\n",
    "    for num in array[1:]:\n",
    "        cur_sum=max(cur_sum+num,cur_sum)\n",
    "        max_sum=max(cur_sum,max_sum)\n",
    "    return max_sum\n",
    "        \n",
    "    "
   ]
  },
  {
   "cell_type": "code",
   "execution_count": 158,
   "id": "656538c5",
   "metadata": {},
   "outputs": [
    {
     "data": {
      "text/plain": [
       "21"
      ]
     },
     "execution_count": 158,
     "metadata": {},
     "output_type": "execute_result"
    }
   ],
   "source": [
    "large_max_sum([1,3,4,5,-1,8])"
   ]
  },
  {
   "cell_type": "code",
   "execution_count": 17,
   "id": "303152ff",
   "metadata": {},
   "outputs": [],
   "source": [
    "# Sentence Reversal\n",
    "# 'this is the best'\n",
    "# 'best the is this'\n"
   ]
  },
  {
   "cell_type": "code",
   "execution_count": 112,
   "id": "eb136bd4",
   "metadata": {},
   "outputs": [
    {
     "data": {
      "text/plain": [
       "['best', 'the', 'is', 'This']"
      ]
     },
     "execution_count": 112,
     "metadata": {},
     "output_type": "execute_result"
    }
   ],
   "source": [
    "sent='This is the best'\n",
    "sent[0:16]\n",
    "sent[::-1]\n",
    "sent.split()[::-1]"
   ]
  },
  {
   "cell_type": "code",
   "execution_count": 159,
   "id": "5953922d",
   "metadata": {},
   "outputs": [
    {
     "data": {
      "text/plain": [
       "'You hate I'"
      ]
     },
     "execution_count": 159,
     "metadata": {},
     "output_type": "execute_result"
    }
   ],
   "source": [
    "def rev_word1(string):\n",
    "    return \" \".join(reversed(string.split()))\n",
    "rev_word1(\"I love you\")\n",
    "\n",
    "def rev_word2(string):\n",
    "    return \" \".join(string.split()[::-1])\n",
    "\n",
    "\n",
    "rev_word2(\"I hate You\")"
   ]
  },
  {
   "cell_type": "code",
   "execution_count": 160,
   "id": "a872ee16",
   "metadata": {},
   "outputs": [
    {
     "name": "stdout",
     "output_type": "stream",
     "text": [
      "<reversed object at 0x000001837916E4C0>\n"
     ]
    }
   ],
   "source": [
    "print(reversed(\"soma sekhara sainath\"))"
   ]
  },
  {
   "cell_type": "code",
   "execution_count": 150,
   "id": "4b0fe0da",
   "metadata": {},
   "outputs": [],
   "source": [
    "def rev_word(s):\n",
    "    length=len(s)\n",
    "    word=[]\n",
    "    space=' '\n",
    "    i=0\n",
    "    \n",
    "    while i<length:\n",
    "        if s[i] not in space:\n",
    "            word_start=i\n",
    "            while i<length and s[i] not in space:   # Incrementing till we encounter space\n",
    "                i+=1\n",
    "            word.append(s[word_start:i])\n",
    "        i+=1\n",
    "        \n",
    "    return \" \".join(reversed(word)) \n",
    "    "
   ]
  },
  {
   "cell_type": "code",
   "execution_count": 151,
   "id": "8f799066",
   "metadata": {},
   "outputs": [
    {
     "data": {
      "text/plain": [
       "'you hate I'"
      ]
     },
     "execution_count": 151,
     "metadata": {},
     "output_type": "execute_result"
    }
   ],
   "source": [
    "rev_word(\"I hate you\")"
   ]
  },
  {
   "cell_type": "code",
   "execution_count": 3,
   "id": "2a6cb30a",
   "metadata": {},
   "outputs": [
    {
     "ename": "TypeError",
     "evalue": "'list' object cannot be interpreted as an integer",
     "output_type": "error",
     "traceback": [
      "\u001b[1;31m---------------------------------------------------------------------------\u001b[0m",
      "\u001b[1;31mTypeError\u001b[0m                                 Traceback (most recent call last)",
      "Input \u001b[1;32mIn [3]\u001b[0m, in \u001b[0;36m<cell line: 3>\u001b[1;34m()\u001b[0m\n\u001b[0;32m      1\u001b[0m my_list\u001b[38;5;241m=\u001b[39m[\u001b[38;5;241m21\u001b[39m,\u001b[38;5;241m44\u001b[39m,\u001b[38;5;241m35\u001b[39m,\u001b[38;5;241m11\u001b[39m]\n\u001b[1;32m----> 3\u001b[0m \u001b[38;5;28;01mfor\u001b[39;00m index,value \u001b[38;5;129;01min\u001b[39;00m \u001b[38;5;28;43mrange\u001b[39;49m\u001b[43m(\u001b[49m\u001b[43mmy_list\u001b[49m\u001b[43m)\u001b[49m:\n\u001b[0;32m      4\u001b[0m     value\u001b[38;5;241m=\u001b[39mmy_list[index]\n\u001b[0;32m      5\u001b[0m     \u001b[38;5;28mprint\u001b[39m(index,value)\n",
      "\u001b[1;31mTypeError\u001b[0m: 'list' object cannot be interpreted as an integer"
     ]
    }
   ],
   "source": [
    "my_list=[21,44,35,11]\n",
    "\n",
    "for index,value in range(my_list):\n",
    "    value=my_list[index]\n",
    "    print(index,value)"
   ]
  },
  {
   "cell_type": "code",
   "execution_count": null,
   "id": "74539168",
   "metadata": {},
   "outputs": [],
   "source": []
  }
 ],
 "metadata": {
  "kernelspec": {
   "display_name": "Python 3 (ipykernel)",
   "language": "python",
   "name": "python3"
  },
  "language_info": {
   "codemirror_mode": {
    "name": "ipython",
    "version": 3
   },
   "file_extension": ".py",
   "mimetype": "text/x-python",
   "name": "python",
   "nbconvert_exporter": "python",
   "pygments_lexer": "ipython3",
   "version": "3.9.12"
  }
 },
 "nbformat": 4,
 "nbformat_minor": 5
}
