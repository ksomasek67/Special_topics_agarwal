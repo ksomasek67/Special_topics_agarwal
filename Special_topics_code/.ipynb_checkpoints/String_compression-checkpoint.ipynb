{
 "cells": [
  {
   "cell_type": "markdown",
   "id": "0004aef7",
   "metadata": {},
   "source": [
    "# String Compression"
   ]
  },
  {
   "cell_type": "code",
   "execution_count": null,
   "id": "b0fee118",
   "metadata": {},
   "outputs": [
    {
     "name": "stdout",
     "output_type": "stream",
     "text": [
      "1\n",
      "2\n",
      "3\n",
      "4\n"
     ]
    }
   ],
   "source": [
    "string='AAAABBBCCDDD'\n",
    "length=len(string)\n",
    "i=0\n",
    "while i <length:\n",
    "    if string[i]=='A':\n",
    "        i+=1\n",
    "        print(i)"
   ]
  },
  {
   "cell_type": "code",
   "execution_count": null,
   "id": "f499623c",
   "metadata": {},
   "outputs": [],
   "source": [
    "def compress(s):\n",
    "    l=len(s)\n",
    "    if l==0:\n",
    "        return None\n",
    "    if l==1:\n",
    "        return s +'1'\n",
    "    cnt=1\n",
    "    i=1\n",
    "    r=' '\n",
    "    while i<l:\n",
    "        if s[i]==s[i-1]:\n",
    "            cnt=cnt+1\n",
    "        else:\n",
    "           r= r+s[i-1]+str(cnt)\n",
    "           cnt=1 # setting count to 1\n",
    "\n",
    "        i+=1\n",
    "    r= r+s[i-1]+str(cnt)\n",
    "    return r"
   ]
  },
  {
   "cell_type": "code",
   "execution_count": null,
   "id": "a1f7fb05",
   "metadata": {},
   "outputs": [],
   "source": [
    "compress('aaaabnnnbm')"
   ]
  },
  {
   "cell_type": "code",
   "execution_count": null,
   "id": "b4878378",
   "metadata": {},
   "outputs": [],
   "source": []
  },
  {
   "cell_type": "code",
   "execution_count": null,
   "id": "458876aa",
   "metadata": {},
   "outputs": [],
   "source": []
  },
  {
   "cell_type": "code",
   "execution_count": null,
   "id": "1b0bc986",
   "metadata": {},
   "outputs": [],
   "source": []
  }
 ],
 "metadata": {
  "kernelspec": {
   "display_name": "Python 3 (ipykernel)",
   "language": "python",
   "name": "python3"
  },
  "language_info": {
   "codemirror_mode": {
    "name": "ipython",
    "version": 3
   },
   "file_extension": ".py",
   "mimetype": "text/x-python",
   "name": "python",
   "nbconvert_exporter": "python",
   "pygments_lexer": "ipython3",
   "version": "3.9.12"
  }
 },
 "nbformat": 4,
 "nbformat_minor": 5
}
