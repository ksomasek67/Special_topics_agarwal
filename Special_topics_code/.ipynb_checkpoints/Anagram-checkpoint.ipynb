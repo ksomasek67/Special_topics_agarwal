{
 "cells": [
  {
   "cell_type": "markdown",
   "id": "6e3ef274",
   "metadata": {},
   "source": [
    "# ' o dg'  'dog' 'god' is an anagram"
   ]
  },
  {
   "cell_type": "code",
   "execution_count": 37,
   "id": "24f67d9c",
   "metadata": {},
   "outputs": [],
   "source": [
    "def anagram2(s1,s2):\n",
    "    \n",
    "    s1=s1.replace(' ','').lower()\n",
    "    s2=s2.replace(' ','').lower()\n",
    "    \n",
    "    # Edge case check\n",
    "    if len(s1) != len(s2):\n",
    "        return False\n",
    "    count = {}\n",
    "    # first dictionary with first strong\n",
    "    \n",
    "    # first add count\n",
    "    # second subtract counts\n",
    "    # check whther they are equal are not\n",
    "    \n",
    "    for letter in s1:\n",
    "        #print(count[letter])\n",
    "        if letter in count:\n",
    "            count[letter]+=1\n",
    "            #print(count[letter])\n",
    "        else:\n",
    "            count[letter]=1\n",
    "            #print(count[letter])\n",
    "    \n",
    "    for letter in s2:\n",
    "        if letter in count:\n",
    "            count[letter] -=1\n",
    "        else:\n",
    "            count[letter]=1\n",
    "    \n",
    "    for k in count:\n",
    "        if count[k] != 0:\n",
    "            return False\n",
    "    return True                           \n",
    "    #eturn sorted(s1)==sorted(s2)"
   ]
  },
  {
   "cell_type": "code",
   "execution_count": 38,
   "id": "d25948ff",
   "metadata": {},
   "outputs": [
    {
     "data": {
      "text/plain": [
       "True"
      ]
     },
     "execution_count": 38,
     "metadata": {},
     "output_type": "execute_result"
    }
   ],
   "source": [
    "anagram2('clint eastwood','old west action')"
   ]
  },
  {
   "cell_type": "code",
   "execution_count": 26,
   "id": "342876e2",
   "metadata": {},
   "outputs": [],
   "source": [
    "# Above prgram is for edge cases\n",
    "def anagram(s1,s2):\n",
    "    \n",
    "    s1=s1.replace(' ','').lower()\n",
    "    s2=s2.replace(' ','').lower()\n",
    "    \n",
    "    return sorted(s1)==sorted(s2)\n",
    "    "
   ]
  },
  {
   "cell_type": "code",
   "execution_count": 30,
   "id": "7bd22468",
   "metadata": {},
   "outputs": [
    {
     "data": {
      "text/plain": [
       "True"
      ]
     },
     "execution_count": 30,
     "metadata": {},
     "output_type": "execute_result"
    }
   ],
   "source": [
    "anagram('dgog','oggd')"
   ]
  },
  {
   "cell_type": "code",
   "execution_count": 43,
   "id": "6eeff56d",
   "metadata": {},
   "outputs": [
    {
     "name": "stdout",
     "output_type": "stream",
     "text": [
      "1\n",
      "1\n",
      "1\n",
      "1\n",
      "2\n"
     ]
    }
   ],
   "source": [
    "\n",
    "s1='rishi'\n",
    "count={}\n",
    "for letter in s1:\n",
    "        #print(count[letter])\n",
    "        if letter in count:\n",
    "            count[letter]+=1\n",
    "            print(count[letter])\n",
    "        else:\n",
    "            count[letter]=1\n",
    "            print(count[letter])"
   ]
  },
  {
   "cell_type": "code",
   "execution_count": 45,
   "id": "34a50fa6",
   "metadata": {},
   "outputs": [
    {
     "name": "stdout",
     "output_type": "stream",
     "text": [
      "1\n",
      "1\n",
      "1\n",
      "1\n",
      "0\n"
     ]
    }
   ],
   "source": [
    "s2='rishi'\n",
    "count={}\n",
    "for letter in s2:\n",
    "        #print(count[letter])\n",
    "        if letter in count:\n",
    "            count[letter]-=1\n",
    "            print(count[letter])\n",
    "        else:\n",
    "            count[letter]=1\n",
    "            print(count[letter])"
   ]
  },
  {
   "cell_type": "markdown",
   "id": "794cd377",
   "metadata": {},
   "source": [
    "# Array Pair Sum\n",
    "\n",
    "Given an Integer array output the unique pairs\n",
    "pair_sum({1,3,2,2],4)\n",
    "would retun 2 pairs\n",
    "(1,3) (2,2)\n"
   ]
  },
  {
   "cell_type": "code",
   "execution_count": 47,
   "id": "426ed114",
   "metadata": {},
   "outputs": [],
   "source": [
    "def pair_sum(arr,k):\n",
    "    pass\n"
   ]
  },
  {
   "cell_type": "code",
   "execution_count": 49,
   "id": "ea8f00d8",
   "metadata": {},
   "outputs": [],
   "source": [
    "sum_pair([1,2,3,2],4)\n"
   ]
  },
  {
   "cell_type": "code",
   "execution_count": 61,
   "id": "e23e5330",
   "metadata": {},
   "outputs": [
    {
     "data": {
      "text/plain": [
       "3"
      ]
     },
     "execution_count": 61,
     "metadata": {},
     "output_type": "execute_result"
    }
   ],
   "source": [
    "# zTime complexity is O(n2)\n",
    "def sum_pair(arr,n,sum):\n",
    "    count=0\n",
    "    for i in range(0,n):\n",
    "        for j in range(i+1,n):\n",
    "            \n",
    "            if arr[i]+arr[j]==sum:\n",
    "                count=count+1\n",
    "    return count\n",
    "\n",
    "sum_pair([1,3,4,5,2,0],6,5)\n",
    "                \n",
    "                "
   ]
  },
  {
   "cell_type": "code",
   "execution_count": 51,
   "id": "d8501387",
   "metadata": {},
   "outputs": [],
   "source": [
    "def pair_sum(arr,k):\n",
    "    \n",
    "    if len(arr)<2:\n",
    "        return \n",
    "    \n",
    "    # sets for tracking\n",
    "    seen= set(1,3,,)\n",
    "    output=set()\n",
    "    \n",
    "    for num in arr:\n",
    "        \n",
    "        target_num+num =k\n",
    "        target = k -num\n",
    "        \n",
    "        if target not in seen:\n",
    "            seen.add(num)\n",
    "            \n",
    "        else:\n",
    "            output.add((min(num,target),max(num,target)))\n",
    "        \n",
    "    return len(output)\n",
    "    return '\\n'.join(map(str,list(output)))\n"
   ]
  },
  {
   "cell_type": "code",
   "execution_count": 55,
   "id": "c6c5164a",
   "metadata": {},
   "outputs": [
    {
     "data": {
      "text/plain": [
       "2"
      ]
     },
     "execution_count": 55,
     "metadata": {},
     "output_type": "execute_result"
    }
   ],
   "source": [
    "pair_sum([1,3,2,2,4],5)\n"
   ]
  },
  {
   "cell_type": "code",
   "execution_count": null,
   "id": "e779ba60",
   "metadata": {},
   "outputs": [],
   "source": []
  }
 ],
 "metadata": {
  "kernelspec": {
   "display_name": "Python 3 (ipykernel)",
   "language": "python",
   "name": "python3"
  },
  "language_info": {
   "codemirror_mode": {
    "name": "ipython",
    "version": 3
   },
   "file_extension": ".py",
   "mimetype": "text/x-python",
   "name": "python",
   "nbconvert_exporter": "python",
   "pygments_lexer": "ipython3",
   "version": "3.9.12"
  }
 },
 "nbformat": 4,
 "nbformat_minor": 5
}
