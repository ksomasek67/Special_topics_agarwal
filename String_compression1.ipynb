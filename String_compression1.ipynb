{
 "cells": [
  {
   "cell_type": "markdown",
   "id": "1f8aa7dc",
   "metadata": {},
   "source": [
    "# String Compression"
   ]
  },
  {
   "cell_type": "code",
   "execution_count": 11,
   "id": "113b455c",
   "metadata": {},
   "outputs": [],
   "source": [
    "def compress(s):\n",
    "    l=len(s)\n",
    "    if l==0:\n",
    "        return None\n",
    "    if l==1:\n",
    "        return s +'1'    \n",
    "    i=1\n",
    "    cnt=1\n",
    "    r=''\n",
    "    while i<l:\n",
    "        if s[i]==s[i-1]:\n",
    "            cnt=cnt+1\n",
    "        else:\n",
    "            r=r+s[i-1]+str[cnt] \n",
    "            cnt=1\n",
    "        \n",
    "        i+=1\n",
    "    r=r+s[i-1]+str[cnt]\n",
    "    return r"
   ]
  },
  {
   "cell_type": "code",
   "execution_count": 9,
   "id": "e7a5a554",
   "metadata": {},
   "outputs": [],
   "source": [
    "def compress1(s):\n",
    "    l=len(s)\n",
    "    if l==0:\n",
    "        return None\n",
    "    if l==1:\n",
    "        return s +'1'\n",
    "    i=1\n",
    "    cnt=1\n",
    "    r=''\n",
    "    while i<l:\n",
    "        if s[i]==s[i-1]:\n",
    "            cnt=cnt+1\n",
    "        else:\n",
    "           r= r+s[i-1]+str(cnt)\n",
    "           cnt=1 # setting count to 1\n",
    "\n",
    "        i+=1\n",
    "    r= r+s[i-1]+str(cnt)\n",
    "    return r"
   ]
  },
  {
   "cell_type": "code",
   "execution_count": 12,
   "id": "1252ac11",
   "metadata": {},
   "outputs": [
    {
     "ename": "TypeError",
     "evalue": "'type' object is not subscriptable",
     "output_type": "error",
     "traceback": [
      "\u001b[1;31m---------------------------------------------------------------------------\u001b[0m",
      "\u001b[1;31mTypeError\u001b[0m                                 Traceback (most recent call last)",
      "Input \u001b[1;32mIn [12]\u001b[0m, in \u001b[0;36m<cell line: 1>\u001b[1;34m()\u001b[0m\n\u001b[1;32m----> 1\u001b[0m \u001b[43mcompress\u001b[49m\u001b[43m(\u001b[49m\u001b[38;5;124;43m'\u001b[39;49m\u001b[38;5;124;43maaaabbb\u001b[39;49m\u001b[38;5;124;43m'\u001b[39;49m\u001b[43m)\u001b[49m\n",
      "Input \u001b[1;32mIn [11]\u001b[0m, in \u001b[0;36mcompress\u001b[1;34m(s)\u001b[0m\n\u001b[0;32m     12\u001b[0m     cnt\u001b[38;5;241m=\u001b[39mcnt\u001b[38;5;241m+\u001b[39m\u001b[38;5;241m1\u001b[39m\n\u001b[0;32m     13\u001b[0m \u001b[38;5;28;01melse\u001b[39;00m:\n\u001b[1;32m---> 14\u001b[0m     r\u001b[38;5;241m=\u001b[39mr\u001b[38;5;241m+\u001b[39ms[i\u001b[38;5;241m-\u001b[39m\u001b[38;5;241m1\u001b[39m]\u001b[38;5;241m+\u001b[39m\u001b[38;5;28;43mstr\u001b[39;49m\u001b[43m[\u001b[49m\u001b[43mcnt\u001b[49m\u001b[43m]\u001b[49m \n\u001b[0;32m     15\u001b[0m     cnt\u001b[38;5;241m=\u001b[39m\u001b[38;5;241m1\u001b[39m\n\u001b[0;32m     17\u001b[0m i\u001b[38;5;241m+\u001b[39m\u001b[38;5;241m=\u001b[39m\u001b[38;5;241m1\u001b[39m\n",
      "\u001b[1;31mTypeError\u001b[0m: 'type' object is not subscriptable"
     ]
    }
   ],
   "source": [
    "compress('aaaabbb')"
   ]
  },
  {
   "cell_type": "code",
   "execution_count": null,
   "id": "bc59a96c",
   "metadata": {},
   "outputs": [],
   "source": []
  }
 ],
 "metadata": {
  "kernelspec": {
   "display_name": "Python 3 (ipykernel)",
   "language": "python",
   "name": "python3"
  },
  "language_info": {
   "codemirror_mode": {
    "name": "ipython",
    "version": 3
   },
   "file_extension": ".py",
   "mimetype": "text/x-python",
   "name": "python",
   "nbconvert_exporter": "python",
   "pygments_lexer": "ipython3",
   "version": "3.9.12"
  }
 },
 "nbformat": 4,
 "nbformat_minor": 5
}
