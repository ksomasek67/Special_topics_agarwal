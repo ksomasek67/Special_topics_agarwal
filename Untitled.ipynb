{
 "cells": [
  {
   "cell_type": "code",
   "execution_count": 87,
   "id": "db4b66a4",
   "metadata": {},
   "outputs": [
    {
     "name": "stdout",
     "output_type": "stream",
     "text": [
      "Total Tweets:  1722\n",
      "Ram Tweets:  203 Patriot Tweets:  382 Neither:  773 Both:  364\n"
     ]
    }
   ],
   "source": [
    "\n",
    "\n",
    "import json\n",
    "file = open('superbowltweets.json', 'r')\n",
    "tweetdata = json.loads(file.read())\n",
    "def has_rams(tweet):\n",
    "    if 'rams' in tweet or 'RamsNFL' in tweet:\n",
    "        return True\n",
    "def has_pats(tweet):\n",
    "    if 'patriots' in tweet or 'pats' in tweet:\n",
    "        return True\n",
    "def main():\n",
    "    patCount = 0 \n",
    "    ramCount = 0\n",
    "    bothCount = 0\n",
    "    neitherCount =0\n",
    "    for tweet in tweetdata:\n",
    "        var = tweet[\"full_text\"].lower()\n",
    "        if has_pats(var) and has_rams(var):\n",
    "            bothCount+=1\n",
    "        elif has_rams(var):\n",
    "            ramCount +=1\n",
    "        elif has_pats(var):\n",
    "            patCount +=1\n",
    "        else:\n",
    "            neitherCount +=1\n",
    "        tweetcount = 0\n",
    "    for tweet in tweetdata:\n",
    "        tweetcount +=1\n",
    "    print(\"Total Tweets: \", tweetcount)\n",
    "    print(\"Ram Tweets: \", ramCount, \"Patriot Tweets: \", patCount, \"Neither: \", \n",
    "neitherCount, \"Both: \", bothCount)\n",
    "if __name__ == \"__main__\":\n",
    "    main()\n"
   ]
  },
  {
   "cell_type": "code",
   "execution_count": 85,
   "id": "4d67de7a",
   "metadata": {},
   "outputs": [
    {
     "name": "stdout",
     "output_type": "stream",
     "text": [
      "737\n",
      "557\n",
      "1294\n",
      "428\n"
     ]
    }
   ],
   "source": [
    "\n",
    "\n",
    "import json\n",
    "def main():\n",
    "    with open(\"superbowltweets.json\", \"r\") as f:\n",
    "        tweets = json.loads(f.read())\n",
    "    def has_rams():\n",
    "        i = 1\n",
    "        tweets_with_rams = 0\n",
    "        ram_number = 0\n",
    "        while i <= 1721:\n",
    "            if \"rams\" in tweets[i][\"full_text\"] or \"Rams\" in tweets[i][\"full_text\"]or \"RamsNFL\" in tweets[i][\n",
    "                \"full_text\"] or \"ramsNFL\" in tweets[i][\"full_text\"]:\n",
    "                tweets_with_rams += 1\n",
    "                i += 1\n",
    "                continue\n",
    "            else:\n",
    "                i += 1\n",
    "                continue\n",
    "        return tweets_with_rams\n",
    "    def has_pats():\n",
    "        i = 1\n",
    "        tweets_with_pats = 0\n",
    "        ram_number = 0\n",
    "        while i <= 1721:\n",
    "            if \"pats\" in tweets[i][\"full_text\"] or \"Pats\" in tweets[i][\"full_text\"]or \"Patriots\" in tweets[i][\n",
    "                \"full_text\"] or \"patriots\" in tweets[i][\"full_text\"]:\n",
    "                tweets_with_pats += 1\n",
    "                i += 1\n",
    "                continue\n",
    "            else:\n",
    "                i += 1\n",
    "                continue\n",
    "        return tweets_with_pats\n",
    "    print(has_pats())\n",
    "    print(has_rams())\n",
    "    print(has_rams() + has_pats())\n",
    "    print(1722 - (has_rams() + has_pats()))\n",
    "if __name__ == \"__main__\":\n",
    "    main()\n"
   ]
  },
  {
   "cell_type": "code",
   "execution_count": 91,
   "id": "75befa79",
   "metadata": {},
   "outputs": [
    {
     "name": "stdout",
     "output_type": "stream",
     "text": [
      "    Id                      Profession\n",
      "0    1         Behavioral health nurse\n",
      "1    2    Behavioral health technician\n",
      "2    3   Behavioral health specialist \n",
      "3    4      Behavioral health director\n",
      "4    5                     Paraplanner\n",
      "5    6           Para legal assistant \n",
      "6    7               Paraprofessional \n",
      "7    8                      Para medic\n",
      "8    9                   para educator\n",
      "9   10                   Bc ba analyst\n",
      "10  11         Autism paraprofessional\n",
      "11  12  Registered behavior technician\n",
      "12  13              Behavior therapist\n",
      "13  14      Behavior health technician\n",
      "14  15                    Paraeducator\n",
      "15  16                       Paramedic\n",
      "16  17                  Para assistant\n",
      "17  18                        Para-pro\n",
      "18  19         instructional assistant\n",
      "19  20           Behavioral Technician\n",
      "20  21        Applied Behavior Analyst\n",
      "21  22              Behavior assistant\n",
      "22  23        Behavior care specialist\n",
      "23  24                     Autism Aide\n",
      "24  25        Lead behavior technician\n",
      "25  26          Educational Technician\n",
      "26  27      Autism behavior technician\n",
      "27  28   Behavior Health Professionals\n",
      "              profession\n",
      "0            Paraplanner\n",
      "1  Para legal assistant \n",
      "2      Paraprofessional \n",
      "3             Para medic\n",
      "4          para educator\n",
      "5          Bc ba analyst\n"
     ]
    }
   ],
   "source": [
    "import pandas as pd\n",
    "\n",
    "df1 = pd.read_excel(r'C:\\Users\\u1398520\\Downloads\\Professional_Roles.xlsx')\n",
    "print(df)\n",
    "df2=pd.read_excel(r'C:\\Users\\u1398520\\Downloads\\Book1.xlsx')\n",
    "print(df2)\n",
    "\n",
    "counter=0\n",
    "for line in df1:\n",
    "    if counter==0:\n",
    "        counter=counter+1\n",
    "        continue\n",
    "        print(line)"
   ]
  },
  {
   "cell_type": "code",
   "execution_count": 20,
   "id": "ccda98b2",
   "metadata": {},
   "outputs": [
    {
     "data": {
      "text/html": [
       "<div>\n",
       "<style scoped>\n",
       "    .dataframe tbody tr th:only-of-type {\n",
       "        vertical-align: middle;\n",
       "    }\n",
       "\n",
       "    .dataframe tbody tr th {\n",
       "        vertical-align: top;\n",
       "    }\n",
       "\n",
       "    .dataframe thead th {\n",
       "        text-align: right;\n",
       "    }\n",
       "</style>\n",
       "<table border=\"1\" class=\"dataframe\">\n",
       "  <thead>\n",
       "    <tr style=\"text-align: right;\">\n",
       "      <th></th>\n",
       "      <th>Id</th>\n",
       "      <th>Profession</th>\n",
       "    </tr>\n",
       "  </thead>\n",
       "  <tbody>\n",
       "    <tr>\n",
       "      <th>2</th>\n",
       "      <td>3</td>\n",
       "      <td>Behavioral health specialist</td>\n",
       "    </tr>\n",
       "  </tbody>\n",
       "</table>\n",
       "</div>"
      ],
      "text/plain": [
       "   Id                     Profession\n",
       "2   3  Behavioral health specialist "
      ]
     },
     "execution_count": 20,
     "metadata": {},
     "output_type": "execute_result"
    }
   ],
   "source": [
    "import pandas as pd\n",
    "df1 = pd.read_excel(r'C:\\Users\\u1398520\\Downloads\\Professional_Roles.xlsx')\n",
    "counter=0\n",
    "df1\n",
    "df1.loc[df1['Id']==3]\n",
    "    "
   ]
  },
  {
   "cell_type": "code",
   "execution_count": 42,
   "id": "2459fa0f",
   "metadata": {},
   "outputs": [
    {
     "name": "stdout",
     "output_type": "stream",
     "text": [
      "Behavioral health nurse\n",
      "Behavioral health technician\n",
      "Behavioral health specialist \n",
      "Behavioral health director\n",
      "Paraplanner\n",
      "Para legal assistant \n",
      "Paraprofessional \n",
      "Para medic\n",
      "para educator\n",
      "Bc ba analyst\n",
      "Autism paraprofessional\n",
      "Registered behavior technician\n",
      "Behavior therapist\n",
      "Behavior health technician\n",
      "Paraeducator\n",
      "Paramedic\n",
      "Para assistant\n",
      "Para-pro\n",
      "instructional assistant\n",
      "Behavioral Technician\n",
      "Applied Behavior Analyst\n",
      "Behavior assistant\n",
      "Behavior care specialist\n",
      "Autism Aide\n",
      "Lead behavior technician\n",
      "Educational Technician\n",
      "Autism behavior technician\n",
      "Behavior Health Professionals\n"
     ]
    }
   ],
   "source": [
    "import pandas as pd\n",
    "df1 = pd.read_excel(r'C:\\Users\\u1398520\\Downloads\\Professional_Roles.xlsx')\n",
    "df2=pd.read_excel(r'C:\\Users\\u1398520\\Downloads\\Book1.xlsx')\n",
    "counter=0\n",
    "df1\n",
    "df1.drop('Id',axis=1)\n",
    "for i in df1.loc[:,'Profession']:\n",
    "    for j in df2.loc[:,'Profession']:\n",
    "        \n",
    "    print(i)\n",
    "\n",
    "    "
   ]
  },
  {
   "cell_type": "code",
   "execution_count": 54,
   "id": "6ff0698b",
   "metadata": {},
   "outputs": [
    {
     "name": "stdout",
     "output_type": "stream",
     "text": [
      "Paraplanner\n",
      "Para legal assistant \n",
      "Paraprofessional \n",
      "Para medic\n",
      "para educator\n",
      "Bc ba analyst\n"
     ]
    }
   ],
   "source": [
    "import pandas as pd\n",
    "df1 = pd.read_excel(r'C:\\Users\\u1398520\\Downloads\\Professional_Roles.xlsx')\n",
    "df2=pd.read_excel(r'C:\\Users\\u1398520\\Downloads\\Book1.xlsx')\n",
    "counter=0\n",
    "df1\n",
    "df1.drop('Id',axis=1)\n",
    "dff1=df1.loc[:,'Profession']\n",
    "dff2=df2.loc[:,'profession']\n",
    "for i in dff2:\n",
    "    for j in dff1:\n",
    "        if i==j:\n",
    "            print(i)"
   ]
  },
  {
   "cell_type": "code",
   "execution_count": null,
   "id": "9debcc0e",
   "metadata": {},
   "outputs": [],
   "source": []
  }
 ],
 "metadata": {
  "kernelspec": {
   "display_name": "Python 3 (ipykernel)",
   "language": "python",
   "name": "python3"
  },
  "language_info": {
   "codemirror_mode": {
    "name": "ipython",
    "version": 3
   },
   "file_extension": ".py",
   "mimetype": "text/x-python",
   "name": "python",
   "nbconvert_exporter": "python",
   "pygments_lexer": "ipython3",
   "version": "3.9.12"
  }
 },
 "nbformat": 4,
 "nbformat_minor": 5
}
