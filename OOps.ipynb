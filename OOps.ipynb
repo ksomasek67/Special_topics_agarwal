{
 "cells": [
  {
   "cell_type": "code",
   "execution_count": 6,
   "id": "8321ea98",
   "metadata": {},
   "outputs": [],
   "source": [
    "class Grandfather:\n",
    "    def __init__(self,grandfathername):\n",
    "        self.grandfathername=grandfathername\n",
    "    # Intermediate Class\n",
    "    \n",
    "class Father(Grandfather):\n",
    "    def __init__(self,fathername,grandfathername):\n",
    "        self.fathername=fathername\n",
    "        Grandfather.__init__(self,grandfathername)\n",
    "        \n",
    "class Son(Father):\n",
    "    \n",
    "    def __int__(self,sonname,fathername,grandfathername):\n",
    "        self.sonname= sonname\n",
    "        # Invoking Fathers class\n",
    "        Father.__init__(self,fathername,grandfathername)\n",
    "        \n",
    "    def print_name(self):\n",
    "        print(\"sonname:\",self.sonname)\n",
    "        print(\"fathername:\", self.fathername)\n",
    "        print(\"grandfathername:\", self.grandfathername)"
   ]
  },
  {
   "cell_type": "code",
   "execution_count": 11,
   "id": "c880608c",
   "metadata": {},
   "outputs": [],
   "source": [
    "s1=Son('sai', 'Ramu', 'karna')"
   ]
  },
  {
   "cell_type": "code",
   "execution_count": 14,
   "id": "62bdf788",
   "metadata": {},
   "outputs": [
    {
     "name": "stdout",
     "output_type": "stream",
     "text": [
      "Grandfather name : karna\n",
      "Father name : Ramu\n",
      "Son name : sai\n",
      "None\n"
     ]
    }
   ],
   "source": [
    "print(s1.print_name())"
   ]
  },
  {
   "cell_type": "code",
   "execution_count": 3,
   "id": "57194b8d",
   "metadata": {},
   "outputs": [],
   "source": [
    "class Grandfather:\n",
    " \n",
    "    def __init__(self, grandfathername):\n",
    "        self.grandfathername = grandfathername\n",
    " \n",
    "# Intermediate class\n",
    " \n",
    " \n",
    "class Father(Grandfather):\n",
    "    def __init__(self, fathername, grandfathername):\n",
    "        self.fathername = fathername\n",
    " \n",
    "        # invoking constructor of Grandfather class\n",
    "        Grandfather.__init__(self, grandfathername)\n",
    " \n",
    "# Derived class\n",
    " \n",
    " \n",
    "class Son(Father):\n",
    "    def __init__(self, sonname, fathername, grandfathername):\n",
    "        self.sonname = sonname\n",
    " \n",
    "        # invoking constructor of Father class\n",
    "        Father.__init__(self, fathername, grandfathername)\n",
    " \n",
    "    def print_name(self):\n",
    "        print('Grandfather name :', self.grandfathername)\n",
    "        print(\"Father name :\", self.fathername)\n",
    "        print(\"Son name :\", self.sonname)\n",
    " \n",
    " \n"
   ]
  },
  {
   "cell_type": "code",
   "execution_count": 4,
   "id": "f4f81a0b",
   "metadata": {},
   "outputs": [
    {
     "name": "stdout",
     "output_type": "stream",
     "text": [
      "Lal mani\n",
      "Grandfather name : Lal mani\n",
      "Father name : Rampal\n",
      "Son name : Prince\n"
     ]
    }
   ],
   "source": [
    "#  Driver code\n",
    "s1 = Son('Prince', 'Rampal', 'Lal mani')\n",
    "print(s1.grandfathername)\n",
    "s1.print_name()"
   ]
  },
  {
   "cell_type": "code",
   "execution_count": null,
   "id": "9b944ed3",
   "metadata": {},
   "outputs": [],
   "source": []
  }
 ],
 "metadata": {
  "kernelspec": {
   "display_name": "Python 3 (ipykernel)",
   "language": "python",
   "name": "python3"
  },
  "language_info": {
   "codemirror_mode": {
    "name": "ipython",
    "version": 3
   },
   "file_extension": ".py",
   "mimetype": "text/x-python",
   "name": "python",
   "nbconvert_exporter": "python",
   "pygments_lexer": "ipython3",
   "version": "3.9.12"
  }
 },
 "nbformat": 4,
 "nbformat_minor": 5
}
