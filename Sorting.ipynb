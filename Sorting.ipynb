{
 "cells": [
  {
   "cell_type": "markdown",
   "id": "e112805d",
   "metadata": {},
   "source": [
    "# Bubble Sort\n"
   ]
  },
  {
   "cell_type": "code",
   "execution_count": null,
   "id": "4ab56752",
   "metadata": {},
   "outputs": [],
   "source": [
    " # Traverse through all array elements\n",
    "     # Last i elements are already in place\n",
    "\n",
    "            # traverse the array from 0 to n-i-1\n",
    "            # Swap if the element found is greater\n",
    "            # than the next element"
   ]
  },
  {
   "cell_type": "code",
   "execution_count": 5,
   "id": "f4148937",
   "metadata": {},
   "outputs": [
    {
     "name": "stdout",
     "output_type": "stream",
     "text": [
      "Bubble Sorted array is:\n",
      "1 2 4 5 12 "
     ]
    }
   ],
   "source": [
    "def bubbleSort(arr):\n",
    "    n = len(arr)\n",
    "    for i in range(n):\n",
    "        for j in range(0, n-i-1):\n",
    "\n",
    "            if arr[j] > arr[j+1]:\n",
    "                arr[j], arr[j+1] = arr[j+1], arr[j]\n",
    " \n",
    " \n",
    "if __name__ == \"__main__\":\n",
    "  arr = [4, 5, 12, 2, 1]\n",
    " \n",
    "  bubbleSort(arr)\n",
    " \n",
    "  print(\"Bubble Sorted array is:\")\n",
    "  for i in range(len(arr)):\n",
    "      print(\"%d\" % arr[i], end=\" \")"
   ]
  },
  {
   "cell_type": "markdown",
   "id": "d0419132",
   "metadata": {},
   "source": [
    "# Selection Sort"
   ]
  },
  {
   "cell_type": "code",
   "execution_count": null,
   "id": "b8b1b0f7",
   "metadata": {},
   "outputs": [],
   "source": [
    "selectionSort(array, size)\n",
    "repeat (size - 1) times\n",
    "set the first unsorted element as the minimum\n",
    "for each of the unsorted elements\n",
    "if element < currentMinimum\n",
    "set element as new minimum\n",
    "swap minimum with first unsorted position\n",
    "end selectionSort"
   ]
  },
  {
   "cell_type": "code",
   "execution_count": 8,
   "id": "356d9094",
   "metadata": {},
   "outputs": [
    {
     "name": "stdout",
     "output_type": "stream",
     "text": [
      "Sorted Array in Ascending Order:\n",
      "[-19, -12, 0, 11, 45]\n"
     ]
    }
   ],
   "source": [
    "\n",
    "def selectionSort(array, size):\n",
    "   \n",
    "    for step in range(size):\n",
    "        min_idx = step\n",
    "\n",
    "        for i in range(step + 1, size):\n",
    "         \n",
    "            # to sort in descending order, change > to < in this line\n",
    "            # select the minimum element in each loop\n",
    "            if array[i] < array[min_idx]:\n",
    "                min_idx = i\n",
    "         \n",
    "        # put min at the correct position\n",
    "        (array[step], array[min_idx]) = (array[min_idx], array[step])\n",
    "\n",
    "\n",
    "data = [-12, 45, 0, 11, -19]\n",
    "size = len(data)\n",
    "selectionSort(data, size)\n",
    "print('Sorted Array in Ascending Order:')\n",
    "print(data)"
   ]
  },
  {
   "cell_type": "markdown",
   "id": "f2c0de8b",
   "metadata": {},
   "source": [
    "# Insertion Sort"
   ]
  },
  {
   "cell_type": "code",
   "execution_count": null,
   "id": "8e6509be",
   "metadata": {},
   "outputs": [],
   "source": [
    "# Python program for implementation of Insertion Sort\n",
    "     # Traverse through 1 to len(arr)\n",
    "# Function to do insertion sort\n",
    " # Move elements of arr[0..i-1], that are\n",
    "        # greater than key, to one position ahead\n",
    "        # of their current position"
   ]
  },
  {
   "cell_type": "code",
   "execution_count": 6,
   "id": "d570aa10",
   "metadata": {},
   "outputs": [
    {
     "name": "stdout",
     "output_type": "stream",
     "text": [
      " 13\n",
      " 15\n",
      " 16\n",
      " 22\n",
      " 31\n"
     ]
    }
   ],
   "source": [
    "\n",
    "def insertionSort(arr):\n",
    " \n",
    "\n",
    "    for i in range(1, len(arr)):\n",
    " \n",
    "        key = arr[i]\n",
    " \n",
    "       \n",
    "        j = i-1\n",
    "        while j >= 0 and key < arr[j] :\n",
    "                arr[j + 1] = arr[j]\n",
    "                j -= 1\n",
    "        arr[j + 1] = key\n",
    " \n",
    " \n",
    "\n",
    "arr = [22, 31, 13, 15, 16]\n",
    "insertionSort(arr)\n",
    "for i in range(len(arr)):\n",
    "    print (\"% d\" % arr[i])"
   ]
  },
  {
   "cell_type": "markdown",
   "id": "12a342e0",
   "metadata": {},
   "source": [
    "# Merge Sort\n"
   ]
  },
  {
   "cell_type": "code",
   "execution_count": null,
   "id": "969f1b02",
   "metadata": {},
   "outputs": [],
   "source": []
  },
  {
   "cell_type": "code",
   "execution_count": 9,
   "id": "dc26c3ee",
   "metadata": {},
   "outputs": [
    {
     "name": "stdout",
     "output_type": "stream",
     "text": [
      "[17, 20, 26, 31, 44, 54, 55, 77, 93]\n"
     ]
    }
   ],
   "source": [
    "def mergeSort(myList):\n",
    "    if len(myList) > 1:\n",
    "        mid = len(myList) // 2\n",
    "        left = myList[:mid]\n",
    "        right = myList[mid:]\n",
    "\n",
    "        # Recursive call on each half\n",
    "        mergeSort(left)\n",
    "        mergeSort(right)\n",
    "\n",
    "        # Two iterators for traversing the two halves\n",
    "        i = 0\n",
    "        j = 0\n",
    "        \n",
    "        # Iterator for the main list\n",
    "        k = 0\n",
    "        \n",
    "        while i < len(left) and j < len(right):\n",
    "            if left[i] <= right[j]:\n",
    "              # The value from the left half has been used\n",
    "              myList[k] = left[i]\n",
    "              # Move the iterator forward\n",
    "              i += 1\n",
    "            else:\n",
    "                myList[k] = right[j]\n",
    "                j += 1\n",
    "            # Move to the next slot\n",
    "            k += 1\n",
    "\n",
    "        # For all the remaining values\n",
    "        while i < len(left):\n",
    "            myList[k] = left[i]\n",
    "            i += 1\n",
    "            k += 1\n",
    "\n",
    "        while j < len(right):\n",
    "            myList[k]=right[j]\n",
    "            j += 1\n",
    "            k += 1\n",
    "\n",
    "myList = [54,26,93,17,77,31,44,55,20]\n",
    "mergeSort(myList)\n",
    "print(myList)"
   ]
  },
  {
   "cell_type": "markdown",
   "id": "bf629af0",
   "metadata": {},
   "source": [
    "# Quick Sort"
   ]
  },
  {
   "cell_type": "code",
   "execution_count": null,
   "id": "f7da1a7d",
   "metadata": {},
   "outputs": [],
   "source": [
    "# Python program for implementation of Quicksort Sort\n",
    " \n",
    "This implementation utilizes pivot as the last element in the nums list\n",
    "It has a pointer to keep track of the elements smaller than the pivot\n",
    "At the very end of partition() function, the pointer is swapped with the pivot\n",
    "to come up with a \"sorted\" nums relative to the pivot\n",
    "Function to find the partition position \n",
    "traverse through all elements\n",
    "compare each element with pivot\n",
    "If element smaller than pivot is found\n",
    "swap it with the greater element pointed by i\n",
    "Find pivot element such that\n",
    "element smaller than pivot are on the left\n",
    "element greater than pivot are on the right"
   ]
  },
  {
   "cell_type": "code",
   "execution_count": 11,
   "id": "e67847bf",
   "metadata": {},
   "outputs": [
    {
     "name": "stdout",
     "output_type": "stream",
     "text": [
      "Unsorted Array\n",
      "[12, 8, 4, 12, 10, 9, -1]\n",
      "Sorted Array in Ascending Order:\n",
      "[-1, 4, 8, 9, 10, 12, 12]\n"
     ]
    }
   ],
   "source": [
    "\n",
    "def partition(array, low, high):\n",
    " \n",
    "    # choose the rightmost element as pivot\n",
    "    pivot = array[high]\n",
    " \n",
    "    # pointer for greater element\n",
    "    i = low - 1\n",
    "\n",
    "    for j in range(low, high):\n",
    "        if array[j] <= pivot:\n",
    " \n",
    "            i = i + 1\n",
    " \n",
    "            # Swapping element at i with element at j\n",
    "            (array[i], array[j]) = (array[j], array[i])\n",
    " \n",
    "    # Swap the pivot element with the greater element specified by i\n",
    "    (array[i + 1], array[high]) = (array[high], array[i + 1])\n",
    " \n",
    "    # Return the position from where partition is done\n",
    "    return i + 1\n",
    " \n",
    "# function to perform quicksort\n",
    " \n",
    " \n",
    "def quickSort(array, low, high):\n",
    "    if low < high:\n",
    " \n",
    "        pi = partition(array, low, high)\n",
    " \n",
    "        # Recursive call on the left of pivot\n",
    "        quickSort(array, low, pi - 1)\n",
    " \n",
    "        # Recursive call on the right of pivot\n",
    "        quickSort(array, pi + 1, high)\n",
    " \n",
    " \n",
    "data = [12, 8, 4, 12, 10, 9, -1]\n",
    "print(\"Unsorted Array\")\n",
    "print(data)\n",
    " \n",
    "size = len(data)\n",
    " \n",
    "quickSort(data, 0, size - 1)\n",
    " \n",
    "print('Sorted Array in Ascending Order:')\n",
    "print(data)"
   ]
  },
  {
   "cell_type": "markdown",
   "id": "3aa43cf7",
   "metadata": {},
   "source": [
    "# Shell Sort"
   ]
  },
  {
   "cell_type": "code",
   "execution_count": null,
   "id": "ae05cc74",
   "metadata": {},
   "outputs": [],
   "source": [
    "Take a list and define the gap according to your choice\n",
    "Create sublists and sort those on basis of the insertion sort operation.\n",
    "The gap will reduce after every method\n",
    "This process will continue until the gap becomes 0\n",
    "After all processed completed the list will be sorted\n",
    "Define a function shell_sort()\n",
    "Pass two parameters array, a\n",
    "Rearrange elements at each a/2, a/4, ... intervals\n",
    "Use insertion sort to sort the sublist\n",
    "Repeat until the gap becomes 0\n",
    "The list is sorted now\n",
    "Print the list"
   ]
  },
  {
   "cell_type": "code",
   "execution_count": 13,
   "id": "a84d4289",
   "metadata": {},
   "outputs": [
    {
     "name": "stdout",
     "output_type": "stream",
     "text": [
      "The original array is: [19, 11, 18, 12, 17, 13, 16, 14, 15]\n",
      "Sorted Array is: [11, 12, 13, 14, 15, 16, 17, 18, 19]\n"
     ]
    }
   ],
   "source": [
    "def shellSort(array, a):\n",
    "\n",
    "    gap = a // 2\n",
    "    while gap > 0:\n",
    "        for i in range(gap, a):\n",
    "            temp = array[i]\n",
    "            j = i\n",
    "            while j >= gap and array[j - gap] > temp:\n",
    "                array[j] = array[j - gap]\n",
    "                j -= gap\n",
    "\n",
    "            array[j] = temp\n",
    "        gap //= 2\n",
    "\n",
    "\n",
    "#driver code\n",
    "array = [19, 11, 18, 12, 17, 13, 16, 14, 15]\n",
    "print(\"The original array is:\", array)\n",
    "size = len(array)\n",
    "shellSort(array, size)\n",
    "print('Sorted Array is:', array)\n"
   ]
  },
  {
   "cell_type": "code",
   "execution_count": null,
   "id": "a569f669",
   "metadata": {},
   "outputs": [],
   "source": []
  }
 ],
 "metadata": {
  "kernelspec": {
   "display_name": "Python 3 (ipykernel)",
   "language": "python",
   "name": "python3"
  },
  "language_info": {
   "codemirror_mode": {
    "name": "ipython",
    "version": 3
   },
   "file_extension": ".py",
   "mimetype": "text/x-python",
   "name": "python",
   "nbconvert_exporter": "python",
   "pygments_lexer": "ipython3",
   "version": "3.9.12"
  }
 },
 "nbformat": 4,
 "nbformat_minor": 5
}
