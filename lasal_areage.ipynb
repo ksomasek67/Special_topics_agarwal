{
 "cells": [
  {
   "cell_type": "markdown",
   "id": "e21654ee",
   "metadata": {},
   "source": [
    "# Grading Manti - Lasal"
   ]
  },
  {
   "cell_type": "code",
   "execution_count": null,
   "id": "28fdded6",
   "metadata": {},
   "outputs": [],
   "source": [
    "# {'Name': 'Wildcat Knolls', 'Acreage': '5209.155872'}"
   ]
  },
  {
   "cell_type": "code",
   "execution_count": 84,
   "id": "6f41275e",
   "metadata": {},
   "outputs": [
    {
     "name": "stdout",
     "output_type": "stream",
     "text": [
      "Lasal Acreage Information Center\n",
      "1 - Average Acreage of All Areas\n",
      "2 - Sum of Acreage of All Areas\n",
      "3 - Specific Acreage Values\n",
      "4 - Exit Program\n",
      "Enter an option: 1\n"
     ]
    },
    {
     "ename": "TypeError",
     "evalue": "'float' object is not callable",
     "output_type": "error",
     "traceback": [
      "\u001b[1;31m---------------------------------------------------------------------------\u001b[0m",
      "\u001b[1;31mTypeError\u001b[0m                                 Traceback (most recent call last)",
      "Input \u001b[1;32mIn [84]\u001b[0m, in \u001b[0;36m<cell line: 19>\u001b[1;34m()\u001b[0m\n\u001b[0;32m     25\u001b[0m ival \u001b[38;5;241m=\u001b[39m \u001b[38;5;28minput\u001b[39m(\u001b[38;5;124m\"\u001b[39m\u001b[38;5;124mEnter an option: \u001b[39m\u001b[38;5;124m\"\u001b[39m)\n\u001b[0;32m     26\u001b[0m \u001b[38;5;28;01mif\u001b[39;00m ival \u001b[38;5;241m==\u001b[39m \u001b[38;5;124m\"\u001b[39m\u001b[38;5;124m1\u001b[39m\u001b[38;5;124m\"\u001b[39m:\n\u001b[1;32m---> 27\u001b[0m     \u001b[38;5;28mprint\u001b[39m(\u001b[38;5;124m\"\u001b[39m\u001b[38;5;124mThe average acreage of all areas is\u001b[39m\u001b[38;5;124m\"\u001b[39m, \u001b[43maverage_acreage\u001b[49m\u001b[43m(\u001b[49m\u001b[43macreages\u001b[49m\u001b[43m)\u001b[49m, \u001b[38;5;124m\"\u001b[39m\u001b[38;5;130;01m\\n\u001b[39;00m\u001b[38;5;124m\"\u001b[39m)\n\u001b[0;32m     28\u001b[0m \u001b[38;5;28;01melif\u001b[39;00m ival \u001b[38;5;241m==\u001b[39m \u001b[38;5;124m\"\u001b[39m\u001b[38;5;124m2\u001b[39m\u001b[38;5;124m\"\u001b[39m:\n\u001b[0;32m     29\u001b[0m     \u001b[38;5;28mprint\u001b[39m(\u001b[38;5;124m\"\u001b[39m\u001b[38;5;124mThe sum of all acreage is\u001b[39m\u001b[38;5;124m\"\u001b[39m, sum_acreage(acreages), \u001b[38;5;124m\"\u001b[39m\u001b[38;5;130;01m\\n\u001b[39;00m\u001b[38;5;124m\"\u001b[39m)\n",
      "Input \u001b[1;32mIn [84]\u001b[0m, in \u001b[0;36maverage_acreage\u001b[1;34m(acreages)\u001b[0m\n\u001b[0;32m      6\u001b[0m \u001b[38;5;28;01mdef\u001b[39;00m \u001b[38;5;21maverage_acreage\u001b[39m(acreages):\n\u001b[0;32m      7\u001b[0m     average \u001b[38;5;241m=\u001b[39m \u001b[38;5;241m0\u001b[39m\n\u001b[1;32m----> 8\u001b[0m     totsum \u001b[38;5;241m=\u001b[39m \u001b[38;5;28;43msum\u001b[39;49m\u001b[43m(\u001b[49m\u001b[38;5;28;43mfloat\u001b[39;49m\u001b[43m(\u001b[49m\u001b[43mitem\u001b[49m\u001b[43m[\u001b[49m\u001b[38;5;124;43m'\u001b[39;49m\u001b[38;5;124;43mAcreage\u001b[39;49m\u001b[38;5;124;43m'\u001b[39;49m\u001b[43m]\u001b[49m\u001b[43m)\u001b[49m\u001b[43m \u001b[49m\u001b[38;5;28;43;01mfor\u001b[39;49;00m\u001b[43m \u001b[49m\u001b[43mitem\u001b[49m\u001b[43m \u001b[49m\u001b[38;5;129;43;01min\u001b[39;49;00m\u001b[43m \u001b[49m\u001b[43macreages\u001b[49m\u001b[43m)\u001b[49m\n\u001b[0;32m      9\u001b[0m     average \u001b[38;5;241m=\u001b[39m totsum \u001b[38;5;241m/\u001b[39m \u001b[38;5;28mlen\u001b[39m(acreages)\n\u001b[0;32m     10\u001b[0m     \u001b[38;5;28;01mreturn\u001b[39;00m average\n",
      "\u001b[1;31mTypeError\u001b[0m: 'float' object is not callable"
     ]
    }
   ],
   "source": [
    "\n",
    "\n",
    "import csv\n",
    "def sum_acreage(acreages):\n",
    "    totsum = 0\n",
    "    totsum = sum(float(item['Acreage']) for item in acreages)\n",
    "    return totsum\n",
    "def average_acreage(acreages):\n",
    "    average = 0\n",
    "    totsum = sum(float(item['Acreage']) for item in acreages)\n",
    "    average = totsum / len(acreages)\n",
    "    return average\n",
    "def acreage_vals(acreages, area):\n",
    "    for item in acreages:\n",
    "        if area == item['Name']:\n",
    "            return item['Acreage']\n",
    "lafile = open('lasal_acreage.csv','r')\n",
    "drdr = csv.DictReader(lafile)\n",
    "acreages = [line for line in drdr]\n",
    "ival = 0\n",
    "while ival != '4':\n",
    "    print('Lasal Acreage Information Center')\n",
    "    print('1 - Average Acreage of All Areas')\n",
    "    print('2 - Sum of Acreage of All Areas')\n",
    "    print('3 - Specific Acreage Values')\n",
    "    print('4 - Exit Program')\n",
    "    ival = input(\"Enter an option: \")\n",
    "    if ival == \"1\":\n",
    "        print(\"The average acreage of all areas is\", average_acreage(acreages), \"\\n\")\n",
    "    elif ival == \"2\":\n",
    "        print(\"The sum of all acreage is\", sum_acreage(acreages), \"\\n\")\n",
    "    elif ival == \"3\":\n",
    "        area = input(\"Please type an area: \")\n",
    "        print(\"The acreage of\", area, \"is\", acreage_vals(acreages, area), \"\\n\")\n",
    "    elif ival == \"4\":\n",
    "        break\n"
   ]
  },
  {
   "cell_type": "markdown",
   "id": "616415ee",
   "metadata": {},
   "source": [
    "## "
   ]
  },
  {
   "cell_type": "code",
   "execution_count": 55,
   "id": "9559e61c",
   "metadata": {},
   "outputs": [
    {
     "ename": "FileNotFoundError",
     "evalue": "[Errno 2] No such file or directory: 'lasal_acreage'",
     "output_type": "error",
     "traceback": [
      "\u001b[1;31m---------------------------------------------------------------------------\u001b[0m",
      "\u001b[1;31mFileNotFoundError\u001b[0m                         Traceback (most recent call last)",
      "Input \u001b[1;32mIn [55]\u001b[0m, in \u001b[0;36m<cell line: 2>\u001b[1;34m()\u001b[0m\n\u001b[0;32m      1\u001b[0m \u001b[38;5;28;01mimport\u001b[39;00m \u001b[38;5;21;01mcsv\u001b[39;00m\n\u001b[1;32m----> 2\u001b[0m mfile \u001b[38;5;241m=\u001b[39m \u001b[38;5;28;43mopen\u001b[39;49m\u001b[43m(\u001b[49m\u001b[38;5;124;43m'\u001b[39;49m\u001b[38;5;124;43mlasal_acreage\u001b[39;49m\u001b[38;5;124;43m'\u001b[39;49m\u001b[43m,\u001b[49m\u001b[38;5;124;43m'\u001b[39;49m\u001b[38;5;124;43mr\u001b[39;49m\u001b[38;5;124;43m'\u001b[39;49m\u001b[43m)\u001b[49m\n\u001b[0;32m      3\u001b[0m readr \u001b[38;5;241m=\u001b[39m csv\u001b[38;5;241m.\u001b[39mreader(mfile)\n\u001b[0;32m      5\u001b[0m \u001b[38;5;28;01mfor\u001b[39;00m line \u001b[38;5;129;01min\u001b[39;00m drdr:\n",
      "\u001b[1;31mFileNotFoundError\u001b[0m: [Errno 2] No such file or directory: 'lasal_acreage'"
     ]
    }
   ],
   "source": []
  },
  {
   "cell_type": "code",
   "execution_count": null,
   "id": "f397009c",
   "metadata": {},
   "outputs": [],
   "source": []
  }
 ],
 "metadata": {
  "kernelspec": {
   "display_name": "Python 3 (ipykernel)",
   "language": "python",
   "name": "python3"
  },
  "language_info": {
   "codemirror_mode": {
    "name": "ipython",
    "version": 3
   },
   "file_extension": ".py",
   "mimetype": "text/x-python",
   "name": "python",
   "nbconvert_exporter": "python",
   "pygments_lexer": "ipython3",
   "version": "3.9.12"
  }
 },
 "nbformat": 4,
 "nbformat_minor": 5
}
