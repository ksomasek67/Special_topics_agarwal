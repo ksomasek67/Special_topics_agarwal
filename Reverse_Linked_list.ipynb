{
 "cells": [
  {
   "cell_type": "code",
   "execution_count": 1,
   "id": "9ac2e7a6",
   "metadata": {},
   "outputs": [],
   "source": [
    "# #Linked List Reversal\n",
    "#Change the next pointer of each node. Each node's next pointer to the previous node"
   ]
  },
  {
   "cell_type": "code",
   "execution_count": 78,
   "id": "1bfd0b8c",
   "metadata": {},
   "outputs": [
    {
     "name": "stdout",
     "output_type": "stream",
     "text": [
      "2\n",
      "3\n",
      "4\n"
     ]
    }
   ],
   "source": [
    "class Node(object):\n",
    "    def __init__(self,value):\n",
    "        self.value=value\n",
    "        self.nextnode=None\n",
    "\n",
    "\n"
   ]
  },
  {
   "cell_type": "code",
   "execution_count": 81,
   "id": "68bf0c2c",
   "metadata": {},
   "outputs": [],
   "source": [
    "def reverse(head):\n",
    "    previous=None\n",
    "    current=head\n",
    "    nextnode=None\n",
    "    \n",
    "    while current:\n",
    "        nextnode=current.nextnode\n",
    "        current.nextnode=previous\n",
    "        \n",
    "        previous=current\n",
    "        current=nextnode\n",
    "    return previous\n"
   ]
  },
  {
   "cell_type": "code",
   "execution_count": 83,
   "id": "0e119176",
   "metadata": {},
   "outputs": [
    {
     "name": "stdout",
     "output_type": "stream",
     "text": [
      "2\n",
      "3\n",
      "4\n",
      "3\n",
      "2\n",
      "1\n"
     ]
    }
   ],
   "source": [
    "\n",
    "\n",
    "a=Node(1)\n",
    "b=Node(2)\n",
    "c=Node(3)\n",
    "d=Node(4)\n",
    "a.nextnode=b\n",
    "b.nextnode=c\n",
    "c.nextnode=d\n",
    "\n",
    "print(a.nextnode.value)\n",
    "print(b.nextnode.value)\n",
    "print(c.nextnode.value)\n",
    "reverse(a)\n",
    "print(d.nextnode.value)\n",
    "print(c.nextnode.value)\n",
    "print(b.nextnode.value)"
   ]
  },
  {
   "cell_type": "raw",
   "id": "7539175c",
   "metadata": {},
   "source": [
    "# Double linked list\n"
   ]
  },
  {
   "cell_type": "code",
   "execution_count": 84,
   "id": "93b5d7f8",
   "metadata": {},
   "outputs": [
    {
     "name": "stdout",
     "output_type": "stream",
     "text": [
      "1 2 3\n"
     ]
    }
   ],
   "source": [
    "class Node1(object):\n",
    "    def __init__(self,data,previous,next):\n",
    "        self.data=data\n",
    "        self.previous=previous\n",
    "        self.next=next\n",
    "        \n",
    "a=Node(1)\n",
    "b=Node(2)\n",
    "c=Node(3)\n",
    "a.nextnode=b\n",
    "b.nextnode=c\n",
    "print(a.value,b.value,c.value)"
   ]
  },
  {
   "cell_type": "code",
   "execution_count": 91,
   "id": "234500e4",
   "metadata": {},
   "outputs": [
    {
     "name": "stdout",
     "output_type": "stream",
     "text": [
      "2\n",
      "1\n",
      "3\n",
      "2\n"
     ]
    }
   ],
   "source": [
    "#Doubly Linked List\n",
    "\n",
    "class DoublyLinkedList(object):\n",
    "    \n",
    "    def __init__(self,value):\n",
    "        self.value=value\n",
    "        self.previous=None\n",
    "        self.next=None\n",
    "\n",
    "a=DoublyLinkedList(1)\n",
    "b=DoublyLinkedList(2)\n",
    "c=DoublyLinkedList(3)\n",
    "\n",
    "a.nextnode=b\n",
    "a.prevnode=None\n",
    "b.nextnode=c\n",
    "b.prevnode=a\n",
    "c.prevnode=b\n",
    "#c.nextnode=None\n",
    "\n",
    "print(a.nextnode.value)\n",
    "print(b.prevnode.value)\n",
    "print(b.nextnode.value)\n",
    "print(c.prevnode.value)\n",
    "#print(c.nextnode.value)\n"
   ]
  },
  {
   "cell_type": "code",
   "execution_count": null,
   "id": "c6df58f1",
   "metadata": {},
   "outputs": [],
   "source": [
    "c type\n"
   ]
  }
 ],
 "metadata": {
  "kernelspec": {
   "display_name": "Python 3 (ipykernel)",
   "language": "python",
   "name": "python3"
  },
  "language_info": {
   "codemirror_mode": {
    "name": "ipython",
    "version": 3
   },
   "file_extension": ".py",
   "mimetype": "text/x-python",
   "name": "python",
   "nbconvert_exporter": "python",
   "pygments_lexer": "ipython3",
   "version": "3.9.12"
  }
 },
 "nbformat": 4,
 "nbformat_minor": 5
}
