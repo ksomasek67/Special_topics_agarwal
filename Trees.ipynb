{
 "cells": [
  {
   "cell_type": "markdown",
   "id": "e0a26fd3",
   "metadata": {},
   "source": [
    "# Trees"
   ]
  },
  {
   "cell_type": "raw",
   "id": "d4123796",
   "metadata": {},
   "source": [
    "Representing a Tree through lists\n",
    "A Binary tree is represented by a pointer to the topmost node (commonly known as the “root”) of the tree. If the tree is empty, then the value of the root is NULL. Each node of a Binary Tree contains the following parts:\n",
    "\n",
    "Data\n",
    "Pointer to left child\n",
    "Pointer to right child\n",
    "\n",
    "Basic Operation On Binary Tree:\n",
    "Inserting an element.\n",
    "Removing an element.\n",
    "Searching for an element.\n",
    "Traversing the tree.\n",
    "\n",
    "Auxiliary Operation On Binary Tree:\n",
    "Finding the height of the tree\n",
    "Find the level of a node of the tree\n",
    "Finding the size of the entire tree.\n",
    "###############3\n",
    "we'll set a variable t equal to roots pop and we'll pop out that index at 1.\n",
    "So that will be the left and then we'll say if length of T is greater than one meaning it has somethingin it.\n",
    "I'm going to call root's thoughts inserts and we'll go over what that actually means in a second we'll say the inserts one and then we'll also pass in new branch T and an empty list.\n"
   ]
  },
  {
   "cell_type": "code",
   "execution_count": 29,
   "id": "7f19e768",
   "metadata": {},
   "outputs": [],
   "source": [
    "def BinaryTree1(r):\n",
    "    return[r,[],[]]\n"
   ]
  },
  {
   "cell_type": "code",
   "execution_count": 30,
   "id": "22bbb72b",
   "metadata": {},
   "outputs": [],
   "source": [
    "def insertLeft(root,newBranch):\n",
    "    t=root.pop(1) # return element of index1\n",
    "    if len(t)>1:\n",
    "        root.insert(1,[newBranch,t,[]])\n",
    "    else:\n",
    "        root.insert(1,[newBranch,[],[]])   # build an empty branch\n",
    "    return root\n"
   ]
  },
  {
   "cell_type": "code",
   "execution_count": 31,
   "id": "c7f7d22b",
   "metadata": {},
   "outputs": [],
   "source": [
    "def insertRight(root,newBranch):\n",
    "    t=root.pop(1) # return element of index1\n",
    "    if len(t)>1:\n",
    "        root.insert(2,[newBranch,t,[]])\n",
    "    else:\n",
    "        root.insert(2,[newBranch,[],[]])\n",
    "    return root"
   ]
  },
  {
   "cell_type": "code",
   "execution_count": 32,
   "id": "ceebad04",
   "metadata": {},
   "outputs": [],
   "source": [
    "def getRootVal(root):\n",
    "    return root[0]\n",
    "def setRootVal(root,newval):\n",
    "    root[0]=newVal\n",
    "def getLeftChild(root):\n",
    "    return root[1]\n",
    "def getRightChild(root):\n",
    "    return root[2]\n",
    "\n"
   ]
  },
  {
   "cell_type": "code",
   "execution_count": 33,
   "id": "b61487fa",
   "metadata": {},
   "outputs": [],
   "source": [
    "r=BinaryTree(3)"
   ]
  },
  {
   "cell_type": "code",
   "execution_count": 34,
   "id": "650c00a1",
   "metadata": {},
   "outputs": [
    {
     "data": {
      "text/plain": [
       "[3, [4, [], []], []]"
      ]
     },
     "execution_count": 34,
     "metadata": {},
     "output_type": "execute_result"
    }
   ],
   "source": [
    "insertLeft(r,4)"
   ]
  },
  {
   "cell_type": "code",
   "execution_count": 35,
   "id": "4dd9e077",
   "metadata": {},
   "outputs": [
    {
     "data": {
      "text/plain": [
       "[3, [], [5, [4, [], []], []]]"
      ]
     },
     "execution_count": 35,
     "metadata": {},
     "output_type": "execute_result"
    }
   ],
   "source": [
    "insertRight(r,5)"
   ]
  },
  {
   "cell_type": "markdown",
   "id": "323a2d07",
   "metadata": {},
   "source": [
    "# Nodes and References Implementation"
   ]
  },
  {
   "cell_type": "raw",
   "id": "bf165b99",
   "metadata": {},
   "source": [
    "So for example when we insert a new life child into the tree we're actually creating another instance of binary tree.\n",
    "In this case we're going to just start off with no child's or no children.So we're going to say left child equals none to start off with and then say self-taught right child equals also none to start off with. so something to notice here is that the constructor function expects to get some kind of object to store in that route just like you can store any object you like in a list.The object of a tree can be a reference to any object.\n",
    "\n",
    "And I'm actually going to put in pass here for now and then we're also going to have inserts rights and it would also take a self new node and we'll put it pass there.So to add a left child to the tree we're going to create a new binary tree object and set the left attribute of the root to refer to this new object. So in order to do that we can start filling out insert left.\n",
    "So I got to say if self stop left child is equal to none meaning we don't have anything there yet."
   ]
  },
  {
   "cell_type": "code",
   "execution_count": null,
   "id": "725edeb7",
   "metadata": {},
   "outputs": [],
   "source": []
  },
  {
   "cell_type": "code",
   "execution_count": null,
   "id": "b82fda57",
   "metadata": {},
   "outputs": [],
   "source": []
  },
  {
   "cell_type": "code",
   "execution_count": null,
   "id": "ca158f1d",
   "metadata": {},
   "outputs": [],
   "source": []
  }
 ],
 "metadata": {
  "kernelspec": {
   "display_name": "Python 3 (ipykernel)",
   "language": "python",
   "name": "python3"
  },
  "language_info": {
   "codemirror_mode": {
    "name": "ipython",
    "version": 3
   },
   "file_extension": ".py",
   "mimetype": "text/x-python",
   "name": "python",
   "nbconvert_exporter": "python",
   "pygments_lexer": "ipython3",
   "version": "3.9.12"
  }
 },
 "nbformat": 4,
 "nbformat_minor": 5
}
