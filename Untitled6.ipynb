{
 "cells": [
  {
   "cell_type": "markdown",
   "id": "7f1c2921",
   "metadata": {},
   "source": [
    "# Section 24 Social Network Company"
   ]
  },
  {
   "cell_type": "raw",
   "id": "042ae7fb",
   "metadata": {},
   "source": [
    "Solution1: Module 24\n",
    "#Given a list of integers and a target number, write a function that returns a \n",
    "#boolean indicating if its possible to sum two integers from the list to reach the target number"
   ]
  },
  {
   "cell_type": "code",
   "execution_count": 2,
   "id": "b78d4ed5",
   "metadata": {},
   "outputs": [],
   "source": [
    "\n",
    "\n",
    "def solution(lst,target):\n",
    "    \n",
    "    seen = set()\n",
    "    \n",
    "    for num in lst:\n",
    "        \n",
    "        num2 = target - num\n",
    "        \n",
    "        if num2 in seen:\n",
    "            return True\n",
    "            \n",
    "        seen.add(num)\n",
    "        \n",
    "    return False\n",
    "\n",
    "\n",
    "    \n",
    "\n",
    "\n"
   ]
  },
  {
   "cell_type": "code",
   "execution_count": 3,
   "id": "89416fc1",
   "metadata": {},
   "outputs": [
    {
     "data": {
      "text/plain": [
       "False"
      ]
     },
     "execution_count": 3,
     "metadata": {},
     "output_type": "execute_result"
    }
   ],
   "source": [
    "solution([11,21,31,12],12)"
   ]
  },
  {
   "cell_type": "code",
   "execution_count": null,
   "id": "8fd5b938",
   "metadata": {},
   "outputs": [],
   "source": [
    "#Solution2: Module 24\n",
    "#Given a list of account ID numbers(integers) which contains duplicates, find the one \n",
    "#unique integer. (the list is guaranteed to only hae one unique (non-duplicated) integer)"
   ]
  },
  {
   "cell_type": "code",
   "execution_count": 6,
   "id": "3ccedb7b",
   "metadata": {},
   "outputs": [],
   "source": [
    "\n",
    "\n",
    "def solution1(id_list):\n",
    "    \n",
    "    #Initiate unique ID \n",
    "    unique_id = 0\n",
    "    \n",
    "    #XOR for every ID in id list\n",
    "    for i in id_list:\n",
    "        \n",
    "            #XOR operation\n",
    "            \n",
    "        unique_id ^= i \n",
    "        \n",
    "    return unique_id\n",
    "    "
   ]
  },
  {
   "cell_type": "code",
   "execution_count": 9,
   "id": "91366225",
   "metadata": {},
   "outputs": [
    {
     "data": {
      "text/plain": [
       "True"
      ]
     },
     "execution_count": 9,
     "metadata": {},
     "output_type": "execute_result"
    }
   ],
   "source": [
    "solution([1,2,3,2,1],3)"
   ]
  },
  {
   "cell_type": "code",
   "execution_count": 18,
   "id": "577b8f74",
   "metadata": {},
   "outputs": [],
   "source": [
    "def solution(id_list):\n",
    "    \n",
    "    #Initiate unique ID \n",
    "    unique_id = 0\n",
    "    \n",
    "    #XOR for every ID in id list\n",
    "    for i in id_list:\n",
    "        print ('This is the current id being checked: ',i)\n",
    "        print ('This is the current unique id: ', unique_id) \n",
    "        print ('This is the result of the XOR: ', (unique_id^i))\n",
    "        # XOR operation\n",
    "        unique_id ^= i\n",
    "        \n",
    "    return unique_id\n"
   ]
  },
  {
   "cell_type": "code",
   "execution_count": 19,
   "id": "e48223be",
   "metadata": {},
   "outputs": [
    {
     "name": "stdout",
     "output_type": "stream",
     "text": [
      "This is the current id being checked:  1\n",
      "This is the current unique id:  0\n",
      "This is the result of the XOR:  1\n",
      "This is the current id being checked:  2\n",
      "This is the current unique id:  1\n",
      "This is the result of the XOR:  3\n",
      "This is the current id being checked:  3\n",
      "This is the current unique id:  3\n",
      "This is the result of the XOR:  0\n",
      "This is the current id being checked:  2\n",
      "This is the current unique id:  0\n",
      "This is the result of the XOR:  2\n",
      "This is the current id being checked:  4\n",
      "This is the current unique id:  2\n",
      "This is the result of the XOR:  6\n"
     ]
    },
    {
     "data": {
      "text/plain": [
       "6"
      ]
     },
     "execution_count": 19,
     "metadata": {},
     "output_type": "execute_result"
    }
   ],
   "source": [
    " solution([1,2,3,2,4])"
   ]
  },
  {
   "cell_type": "code",
   "execution_count": null,
   "id": "a0bd4bc7",
   "metadata": {},
   "outputs": [],
   "source": [
    "Solution3: Module 24\n",
    "#Create a function that takes in a list of unsorted prices (integers) and a maximum possible price value,\n",
    "#and return a sorted list of prices"
   ]
  },
  {
   "cell_type": "code",
   "execution_count": 20,
   "id": "cb4328f9",
   "metadata": {},
   "outputs": [],
   "source": [
    "\n",
    "\n",
    "def solution(unsorted_prices,max_price):\n",
    "    \n",
    "    prices_to_counts = [0]*(max_price+1)\n",
    "    \n",
    "    for price in unsorted_prices:\n",
    "        prices_to_counts[price] +=1 \n",
    "        \n",
    "    sorted_prices = []\n",
    "    \n",
    "    for price,count in enumerate(prices_to_counts):\n",
    "        \n",
    "        for time in range(count):\n",
    "            sorted_prices.append(price)\n",
    "            \n",
    "    return sorted_prices\n",
    "        \n",
    " "
   ]
  },
  {
   "cell_type": "code",
   "execution_count": 26,
   "id": "014fcacb",
   "metadata": {},
   "outputs": [
    {
     "data": {
      "text/plain": [
       "[11, 12, 21, 23, 34, 44, 56]"
      ]
     },
     "execution_count": 26,
     "metadata": {},
     "output_type": "execute_result"
    }
   ],
   "source": [
    "solution([23,44,12,11,56,34,21],88)"
   ]
  },
  {
   "cell_type": "code",
   "execution_count": null,
   "id": "748aa815",
   "metadata": {},
   "outputs": [],
   "source": []
  }
 ],
 "metadata": {
  "kernelspec": {
   "display_name": "Python 3 (ipykernel)",
   "language": "python",
   "name": "python3"
  },
  "language_info": {
   "codemirror_mode": {
    "name": "ipython",
    "version": 3
   },
   "file_extension": ".py",
   "mimetype": "text/x-python",
   "name": "python",
   "nbconvert_exporter": "python",
   "pygments_lexer": "ipython3",
   "version": "3.9.12"
  }
 },
 "nbformat": 4,
 "nbformat_minor": 5
}
