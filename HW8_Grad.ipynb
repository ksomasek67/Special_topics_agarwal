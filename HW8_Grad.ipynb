{
 "cells": [
  {
   "cell_type": "code",
   "execution_count": 131,
   "id": "1a83bc9d",
   "metadata": {},
   "outputs": [],
   "source": [
    "# Question 1"
   ]
  },
  {
   "cell_type": "markdown",
   "id": "bddc3a08",
   "metadata": {},
   "source": [
    "\n",
    "1) spell- parent , Accio, confundo- child\n",
    "2)Accio\n",
    "Summoning Charm Accio\n",
    "No description\n",
    "Confundus Charm Confundo\n",
    "Causes the victim to become confused and befuddled.\n",
    "3)Confundo class get description\n",
    "4) \n",
    "class Spell:\n",
    "    def __init__(self, incantation, name):\n",
    "        self.name = name\n",
    "        self.incantation = incantation\n",
    "\n",
    "    def __str__(self):\n",
    "        return self.name + \" \" + self.incantation + \"\\n\" \n",
    "\n",
    "    def get_description(self):\n",
    "        return \"No description\"\n",
    "\n",
    "    def execute(self):\n",
    "        print(self.incantation)\n",
    "\n",
    "class Accio(Spell):\n",
    "    def __init__(self):\n",
    "        Spell.__init__(self, \"This charm summons an object to the caster, potentially over a significant distance’\", \"Summoning Charm\")\n",
    "\n",
    "class Confundo(Spell):\n",
    "\n",
    "    def __init__(self):\n",
    "        Spell.__init__(self, \"Confundo\", \"Confundus Charm\")\n",
    "\n",
    "    def  get_description(self):\n",
    "        return \"Causes the victim to become confused and befuddled.\"\n"
   ]
  },
  {
   "cell_type": "raw",
   "id": "6c21a36b",
   "metadata": {},
   "source": []
  },
  {
   "cell_type": "code",
   "execution_count": 38,
   "id": "87308a79",
   "metadata": {},
   "outputs": [],
   "source": [
    "class Spell:\n",
    "    def __init__(self, incantation, name):\n",
    "        self.name = name\n",
    "        self.incantation = incantation\n",
    "\n",
    "    def __str__(self):\n",
    "        return self.name + \" \" + self.incantation + \"\\n\" + self.get_description()\n",
    "\n",
    "    def get_description(self):\n",
    "        return \"No description\"\n",
    "\n",
    "    def execute(self):\n",
    "        print(self.incantation)\n",
    "\n",
    "class Accio(Spell):\n",
    "    def __init__(self):\n",
    "        Spell.__init__(self, \"Accio\", \"Summoning Charm\")\n",
    "        \n",
    "class Confundo(Spell):\n",
    "\n",
    "    def __init__(self):\n",
    "        Spell.__init__(self, \"Confundo\", \"Confundus Charm\")\n",
    "\n",
    "    def  get_description(self):\n",
    "        return \"Causes the victim to become confused and befuddled.\"\n"
   ]
  },
  {
   "cell_type": "code",
   "execution_count": 39,
   "id": "0cc77ce7",
   "metadata": {},
   "outputs": [],
   "source": [
    "def study_spell(spell):\n",
    "        print(spell)"
   ]
  },
  {
   "cell_type": "code",
   "execution_count": 40,
   "id": "9f853e44",
   "metadata": {},
   "outputs": [
    {
     "name": "stdout",
     "output_type": "stream",
     "text": [
      "Accio\n",
      "Summoning Charm Accio\n",
      "No description\n",
      "Confundus Charm Confundo\n",
      "Causes the victim to become confused and befuddled.\n"
     ]
    }
   ],
   "source": [
    "\n",
    "spell = Accio()\n",
    "spell.execute()\n",
    "study_spell(spell)\n",
    "study_spell(Confundo())"
   ]
  },
  {
   "cell_type": "markdown",
   "id": "41fb2cc2",
   "metadata": {},
   "source": [
    "# Question 2"
   ]
  },
  {
   "cell_type": "code",
   "execution_count": 64,
   "id": "c5d0d38b",
   "metadata": {},
   "outputs": [],
   "source": [
    "class vehicle:\n",
    "    def __init__(self,name,max_speed,mileage):\n",
    "        self.name=name\n",
    "        self.max_speed=max_speed\n",
    "        self.mileage=mileage\n",
    "    \n",
    "        \n",
    "class Bus(vehicle):\n",
    "    \n",
    "    def __init__(self):\n",
    "        vehicle.__init__(self,\"school\",\"180\",\"12\")\n",
    "        \n",
    "    def execute(self):\n",
    "        print(f\" Vehicle Name: {self.name} Volvo Speed: {self.max_speed}  Mileage: {self.mileage}\")\n",
    "        \n",
    "        "
   ]
  },
  {
   "cell_type": "code",
   "execution_count": 65,
   "id": "f384422d",
   "metadata": {},
   "outputs": [
    {
     "name": "stdout",
     "output_type": "stream",
     "text": [
      " Vehicle Name: school Volvo Speed: 180  Mileage: 12\n"
     ]
    }
   ],
   "source": [
    "motor=Bus()\n",
    "motor.execute()"
   ]
  },
  {
   "cell_type": "code",
   "execution_count": 66,
   "id": "1edeaa43",
   "metadata": {},
   "outputs": [],
   "source": [
    "#Vehicle Name: School Volvo Speed: 180 Mileage: 12"
   ]
  },
  {
   "cell_type": "markdown",
   "id": "e0401062",
   "metadata": {},
   "source": [
    "# Question3"
   ]
  },
  {
   "cell_type": "code",
   "execution_count": null,
   "id": "22c0272e",
   "metadata": {},
   "outputs": [],
   "source": []
  },
  {
   "cell_type": "code",
   "execution_count": 116,
   "id": "6166de9e",
   "metadata": {},
   "outputs": [
    {
     "name": "stdout",
     "output_type": "stream",
     "text": [
      "Total Bus fare is 5500\n"
     ]
    }
   ],
   "source": [
    "\n",
    "\n",
    "class vehicle:\n",
    "    def __init__(self,name,mileage,capacity):\n",
    "        self.name=name\n",
    "        self.mileage=mileage\n",
    "        self.capacity=capacity\n",
    "    def fare(self):\n",
    "        return self.capacity*100\n",
    "    def execute(self):\n",
    "        print(\"Total bus Fare is \")\n",
    "    \n",
    "        \n",
    "class Bus1(vehicle):\n",
    "    def fare(self):\n",
    "        print(f\"Total Bus fare is {self.capacity*110}\")\n",
    "    \n",
    "school_bus=Bus1(\"volvo\",10,50)\n",
    "school_bus.fare()\n"
   ]
  },
  {
   "cell_type": "markdown",
   "id": "eedbc0d9",
   "metadata": {},
   "source": []
  },
  {
   "cell_type": "code",
   "execution_count": 128,
   "id": "88bbac0d",
   "metadata": {},
   "outputs": [
    {
     "name": "stdout",
     "output_type": "stream",
     "text": [
      "11\n",
      "4\n",
      "0\n"
     ]
    }
   ],
   "source": [
    "# Question 4\n",
    "\n",
    "class Numbers:\n",
    "    # TODO: create a class attribute called MULTIPLIER\n",
    "    multiplier=4\n",
    "    \n",
    "    def __init__(self, x, y):\n",
    "        self.x = x\n",
    "        self.y = y\n",
    "\n",
    "    def add(self):\n",
    "        return self.x+self.y\n",
    "\n",
    "    def multiply(self, a):\n",
    "        self.a=a\n",
    "        return a*a\n",
    "\n",
    "    @staticmethod\n",
    "    def subtract(b, c):\n",
    "        return b-c\n",
    "\n",
    "    @property\n",
    "    def value(self,ab_tuple):\n",
    "        self.x, self.y = ab_tuple\n",
    "    \n",
    "    @value.setter\n",
    "    def value(self,ab_tuple):\n",
    "        self.x, self.y = ab_tuple\n",
    "        \n",
    "    @value.deleter\n",
    "    def value(self):\n",
    "        del self.x\n",
    "        del self.y\n",
    "        \n",
    "    \n",
    "\n",
    "    # TODO: Create a setter and a deleter for value.\n",
    "\n",
    "# test the class.\n",
    "num = Numbers(5,6)\n",
    "print(num.add())\n",
    "print(num.multiply(2))\n",
    "print(num.subtract(4, 4))"
   ]
  },
  {
   "cell_type": "code",
   "execution_count": null,
   "id": "a1a9d3b4",
   "metadata": {},
   "outputs": [],
   "source": []
  }
 ],
 "metadata": {
  "kernelspec": {
   "display_name": "Python 3 (ipykernel)",
   "language": "python",
   "name": "python3"
  },
  "language_info": {
   "codemirror_mode": {
    "name": "ipython",
    "version": 3
   },
   "file_extension": ".py",
   "mimetype": "text/x-python",
   "name": "python",
   "nbconvert_exporter": "python",
   "pygments_lexer": "ipython3",
   "version": "3.9.12"
  }
 },
 "nbformat": 4,
 "nbformat_minor": 5
}
