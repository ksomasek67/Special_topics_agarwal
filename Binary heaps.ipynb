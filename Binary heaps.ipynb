{
 "cells": [
  {
   "cell_type": "markdown",
   "id": "6ef70e00",
   "metadata": {},
   "source": [
    "# Binary Heap Operations"
   ]
  },
  {
   "cell_type": "raw",
   "id": "e46306d7",
   "metadata": {},
   "source": [
    "BinaryHeap() creates a new,empty,binary heap.\n",
    "insert(k) adds a new item to the heap\n",
    "findMin() returns the item with the minimum key value, leaving item in the heap.\n",
    "delMin() returns the item with the minimum key value, removing the item from the heap.\n",
    "isEmpty() returns true if the heap is empty, false otherwise\n",
    "Size() returns the number of items in the heap\n",
    "buildHeap(list) builds a new heap from a list of keys\n",
    "\n",
    "# Percolate - Swapping a node to reach it'sproper position(refer video) \n",
    "Heap Property - Root of the tree should be smallest \n",
    "\n",
    "When root item is deleted we can restore the root item by taking the list item in the list and moving it too root position. moving the last item maintains the Heap property.\n",
    "In order to maintain the heap order property, all we ned to do is the swap the root with its smallest child less than the root..\n",
    "After the initial swap, we may repeat the swapping process with a node and its children until the node is swapped into a position on the tree where it is already less than both children.\n",
    "\n",
    "# Code for percolating down is percDown and Min child\n",
    "\n",
    "# to finish the \n",
    "Since you're starting the list of one item the list is sorted and you could use binary search to find the right position to insert the next key at a cost of approximately order log and operations. However remember that inserting an item in the middle of the list may require order n or linear operationsto shift the rest of the list over to make room for the new key.\n",
    "Therefore to insert end keys into the heap would require a total of end times log and big-O operations However if we start off an entire list then we can build a whole heap in just order and operations.\n",
    "So there's the code to build the heap. You can check it out in the Jubran note book as well. But let's go ahead and show a diagram of what this is actually doing. So we're actually going to essentially build a heap from the list that looks like this.\n",
    "9 6 5 2 3. So what happens here is the swaps that the build heap method that we just saw in the last slide makes as it moves the nodes in the initial tree of 9 6 5 to 3 into their proper positions and although we start out in the middle of the tree and work our way back towards the root that PERQ down method ensures that the largest child is always moved down the tree because the heap is a complete binary tree. Any nodes past the halfway point will be leaves and therefore have no children.\n",
    "Notice that when I's equal to one we are percolating down from the root of the tree. So this may require multiple swaps as you can see in the rightmost two trees. So these two trees over here first the nine is moved out of the root position but after the 9 is moved down one level in the tree Herc down method ensures that we check the next set of children.Farther down on the tree to ensure that it is pushed as low as it can go. Meaning we're checking here against three to continue pushing it down so no. Now that 9 has been moved to the lowest level the tree no further swapping can be done and it's useful to compare the list representation of the series of swaps as shown in this figure here with the tree representation.\n",
    "Something that might seem a little strange is when I said that we can actually build a heap in order an or linear time.\n",
    "The proof of how that actually works is really beyond the scope of this course in interviews in general. However just to know the key to understanding that is that you can build a heap in linear time because\n",
    "that log and factor is derived from the height of the tree. For most of the work in that build heap function or method the tree is actually shorter than a log and then using the fact that you can build a heap from a list in linear time. What we're gonna do is construct a sorting out of them that uses a heap and sorts of list in N log and time. OK so I know we went through quite a bit and that was some pretty heavy stuff. So make sure you review that Jupiter note book and the Wikipedia article.\n",
    "his lecture is going to lead into the next topic.\n",
    "Binary search trees."
   ]
  },
  {
   "cell_type": "code",
   "execution_count": 13,
   "id": "241e3953",
   "metadata": {},
   "outputs": [],
   "source": [
    "# Read binaryheap wikipedia\n",
    "\n",
    "#Start With List Representation Code\n",
    "\n",
    "class BinHeap:\n",
    "    def __init__(self):\n",
    "        self.heapList=[0]\n",
    "        self.currentSize=0\n",
    "    \n",
    "    def percUp(self,i):\n",
    "        while i//2 >0:\n",
    "            if self.heapList[i]<self.heapList[i//2]:\n",
    "                tmp=self.heapList[i//2]\n",
    "                self.heaplist[i//2] =self.heapList[i]\n",
    "                self.heapList[i]=tmp\n",
    "            i=i//2\n",
    "    def insert(self,k):\n",
    "        self.heapList.append(k)\n",
    "        self.currentSize=self.curentSize +1\n",
    "        self.percUp(self.currentSize)\n",
    "            \n",
    "    def percDown(self,i):\n",
    "        while (i*2) <=self.currentSize:\n",
    "            mc=self.minChild(i)\n",
    "            if self.heapList[i]==self.heapList[mc]:\n",
    "                tmp=self.heapList[i]\n",
    "                self.heapList[i]=self.heapList[mc]\n",
    "                self.heapList[mc]=tmp\n",
    "            i=mc\n",
    "    \n",
    "    def minChild(self,i):\n",
    "        if i*2 +1 >self.currentSize:\n",
    "            return i*2\n",
    "        else:\n",
    "            if self.heapList[i*2] < self.heapList[i*2+1]:\n",
    "                return i *2\n",
    "            else:\n",
    "                return i * 2 + 1\n",
    "    \n",
    "    def delMin(self):\n",
    "        retval=self.heapList[1]\n",
    "        self.heapList[1]=self.heapList[self.currentSize]\n",
    "        self.currentSize=self.currentSize-1\n",
    "        self.heapList.pop()\n",
    "        self.percDown(1)\n",
    "        return retval\n",
    "        \n",
    "    def buildHeap(self,alist):\n",
    "        i = len(alist) //2\n",
    "        self.currentSize = len(alist)\n",
    "        self.heapList=[0]+alist[:]\n",
    "        while (i>0):\n",
    "            self.percDown(i)\n",
    "            i=i-1\n",
    "            \n",
    "            \n"
   ]
  },
  {
   "cell_type": "code",
   "execution_count": 6,
   "id": "ff56628c",
   "metadata": {},
   "outputs": [
    {
     "name": "stdout",
     "output_type": "stream",
     "text": [
      "11\n"
     ]
    }
   ],
   "source": [
    "i=23\n",
    "print(i//2)"
   ]
  },
  {
   "cell_type": "code",
   "execution_count": null,
   "id": "8c8398e7",
   "metadata": {},
   "outputs": [],
   "source": []
  },
  {
   "cell_type": "code",
   "execution_count": null,
   "id": "0d7b15b4",
   "metadata": {},
   "outputs": [],
   "source": []
  }
 ],
 "metadata": {
  "kernelspec": {
   "display_name": "Python 3 (ipykernel)",
   "language": "python",
   "name": "python3"
  },
  "language_info": {
   "codemirror_mode": {
    "name": "ipython",
    "version": 3
   },
   "file_extension": ".py",
   "mimetype": "text/x-python",
   "name": "python",
   "nbconvert_exporter": "python",
   "pygments_lexer": "ipython3",
   "version": "3.9.12"
  }
 },
 "nbformat": 4,
 "nbformat_minor": 5
}
