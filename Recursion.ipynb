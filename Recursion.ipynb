{
 "cells": [
  {
   "cell_type": "markdown",
   "id": "cf989d26",
   "metadata": {},
   "source": [
    "# Recursion"
   ]
  },
  {
   "cell_type": "code",
   "execution_count": 1,
   "id": "3d9b2489",
   "metadata": {},
   "outputs": [],
   "source": [
    "# Recursion Memory optimization and Dynamic programming\n",
    "\n",
    "#Factorial of a number"
   ]
  },
  {
   "cell_type": "code",
   "execution_count": 32,
   "id": "ad284540",
   "metadata": {},
   "outputs": [
    {
     "name": "stdout",
     "output_type": "stream",
     "text": [
      "120\n"
     ]
    }
   ],
   "source": [
    "#\n",
    "fact=1\n",
    "for i in range(1,6):\n",
    "    fact=fact*i\n",
    "print(fact)"
   ]
  },
  {
   "cell_type": "code",
   "execution_count": 33,
   "id": "4fd436ef",
   "metadata": {},
   "outputs": [],
   "source": [
    "def fact(n):\n",
    "    if n==0:\n",
    "        return -1\n",
    "    else:\n",
    "        return n* fact(n-1 )"
   ]
  },
  {
   "cell_type": "code",
   "execution_count": 34,
   "id": "6af32305",
   "metadata": {},
   "outputs": [
    {
     "data": {
      "text/plain": [
       "-120"
      ]
     },
     "execution_count": 34,
     "metadata": {},
     "output_type": "execute_result"
    }
   ],
   "source": [
    "fact(5)"
   ]
  },
  {
   "cell_type": "code",
   "execution_count": 35,
   "id": "0b9c79f0",
   "metadata": {},
   "outputs": [],
   "source": [
    "# Recursion Homework\n",
    "#Problem 1\n",
    "\n",
    "#Write a recursive function which takes an integer and computes the cumulative sum of 0 to that integer\n",
    "#for example, if n=4, return 4+3+2+1+0, which is 10\n",
    "\n",
    "def recursive_sum(n):\n",
    "    if n==0:\n",
    "        return 0\n",
    "    else:\n",
    "        return n+recursive_sum(n-1)"
   ]
  },
  {
   "cell_type": "code",
   "execution_count": 36,
   "id": "92d212be",
   "metadata": {},
   "outputs": [
    {
     "data": {
      "text/plain": [
       "21"
      ]
     },
     "execution_count": 36,
     "metadata": {},
     "output_type": "execute_result"
    }
   ],
   "source": [
    "recursive_sum(6)"
   ]
  },
  {
   "cell_type": "code",
   "execution_count": 2,
   "id": "ed91a56f",
   "metadata": {},
   "outputs": [],
   "source": [
    "def rec_sum(num):\n",
    "    sum1=0\n",
    "    temp=num\n",
    "    while temp>0:\n",
    "        temp=temp%10\n",
    "        sum1=sum1+temp+rec_sum(num)\n",
    "        temp=temp//10\n",
    "    print(temp)"
   ]
  },
  {
   "cell_type": "code",
   "execution_count": null,
   "id": "f073acdd",
   "metadata": {},
   "outputs": [],
   "source": [
    "rec_sum(4322)"
   ]
  },
  {
   "cell_type": "code",
   "execution_count": 1,
   "id": "7c251296",
   "metadata": {},
   "outputs": [
    {
     "ename": "NameError",
     "evalue": "name 'sum1' is not defined",
     "output_type": "error",
     "traceback": [
      "\u001b[1;31m---------------------------------------------------------------------------\u001b[0m",
      "\u001b[1;31mNameError\u001b[0m                                 Traceback (most recent call last)",
      "Input \u001b[1;32mIn [1]\u001b[0m, in \u001b[0;36m<cell line: 8>\u001b[1;34m()\u001b[0m\n\u001b[0;32m      6\u001b[0m         sum1\u001b[38;5;241m=\u001b[39msum1\u001b[38;5;241m+\u001b[39mdigit\n\u001b[0;32m      7\u001b[0m         temp\u001b[38;5;241m=\u001b[39mtemp\u001b[38;5;241m/\u001b[39m\u001b[38;5;241m/\u001b[39m\u001b[38;5;241m10\u001b[39m\n\u001b[1;32m----> 8\u001b[0m \u001b[38;5;28mprint\u001b[39m(\u001b[43msum1\u001b[49m)\n\u001b[0;32m      9\u001b[0m rec_sum(\u001b[38;5;241m543212\u001b[39m)\n",
      "\u001b[1;31mNameError\u001b[0m: name 'sum1' is not defined"
     ]
    }
   ],
   "source": [
    "def rec_sum(num):\n",
    "    sum1=0\n",
    "    temp=num\n",
    "    while temp>0:\n",
    "        digit=temp%10\n",
    "        sum1=sum1+digit\n",
    "        temp=temp//10\n",
    "print(sum1)\n",
    "rec_sum(543212)  "
   ]
  },
  {
   "cell_type": "code",
   "execution_count": 17,
   "id": "a6e2dd57",
   "metadata": {},
   "outputs": [
    {
     "data": {
      "text/plain": [
       "'s'"
      ]
     },
     "execution_count": 17,
     "metadata": {},
     "output_type": "execute_result"
    }
   ],
   "source": [
    "string1=\"soma sekhara sainath\"\n",
    "string1[::-1]\n",
    "i=0\n",
    "string1[:1]\n"
   ]
  },
  {
   "cell_type": "markdown",
   "id": "2d52b098",
   "metadata": {},
   "source": [
    "#Recursion Interviewproblem 1\n",
    "#Given a string, write a function that uses recursion to output a list of all the possible permutations of that string.\n",
    "#For example, given s='abc' the function should return ['abc','acb','bac','bca','cab','cba']\n",
    "\n",
    "Solution: \n",
    "1)Iterate through string\n",
    "2) for each character set aside that character and get a list of  all permutations of the string that's left.forx: if 'a' we need all permutauon like bc and cb.\n",
    "3) once you have the list from step 2 , add each element from that string to initial string\n",
    "4) Return the list"
   ]
  },
  {
   "cell_type": "code",
   "execution_count": 30,
   "id": "a3c996e0",
   "metadata": {},
   "outputs": [
    {
     "ename": "SyntaxError",
     "evalue": "invalid syntax (2717642192.py, line 12)",
     "output_type": "error",
     "traceback": [
      "\u001b[1;36m  Input \u001b[1;32mIn [30]\u001b[1;36m\u001b[0m\n\u001b[1;33m    print('perm  is' :perm)\u001b[0m\n\u001b[1;37m                     ^\u001b[0m\n\u001b[1;31mSyntaxError\u001b[0m\u001b[1;31m:\u001b[0m invalid syntax\n"
     ]
    }
   ],
   "source": [
    "def permute(s):\n",
    "    out=[]\n",
    "    # Base class\n",
    "    if len(s)==1:\n",
    "        out=[s]\n",
    "    else:\n",
    "        # for every letter in string\n",
    "        for i,let in enumerate(s):\n",
    "            # for every permutation resulting from step 2 and step 3\n",
    "            for perm in permute(s[:i]+s[i+1:]):\n",
    "                print('current letter is:',let)\n",
    "                print('perm  is' :perm)\n",
    "                #Add it to the output\n",
    "                out+=[let+perm]\n",
    "    return out"
   ]
  },
  {
   "cell_type": "code",
   "execution_count": 15,
   "id": "d4e29991",
   "metadata": {},
   "outputs": [
    {
     "ename": "NameError",
     "evalue": "name 'permute' is not defined",
     "output_type": "error",
     "traceback": [
      "\u001b[1;31m---------------------------------------------------------------------------\u001b[0m",
      "\u001b[1;31mNameError\u001b[0m                                 Traceback (most recent call last)",
      "Input \u001b[1;32mIn [15]\u001b[0m, in \u001b[0;36m<cell line: 1>\u001b[1;34m()\u001b[0m\n\u001b[1;32m----> 1\u001b[0m \u001b[43mpermute\u001b[49m(\u001b[38;5;124m'\u001b[39m\u001b[38;5;124mabc\u001b[39m\u001b[38;5;124m'\u001b[39m)\n",
      "\u001b[1;31mNameError\u001b[0m: name 'permute' is not defined"
     ]
    }
   ],
   "source": [
    "permute('abc')\n"
   ]
  },
  {
   "cell_type": "code",
   "execution_count": 16,
   "id": "df21e495",
   "metadata": {},
   "outputs": [
    {
     "data": {
      "text/plain": [
       "'bc'"
      ]
     },
     "execution_count": 16,
     "metadata": {},
     "output_type": "execute_result"
    }
   ],
   "source": [
    "string='abc'\n",
    "string[:0]\n",
    "string[1:]"
   ]
  },
  {
   "cell_type": "code",
   "execution_count": 17,
   "id": "b4d384ef",
   "metadata": {},
   "outputs": [],
   "source": [
    "# Fibonacci Series implementation\n",
    "# recursively\n",
    "#Dynamically\n",
    "#Iteratively\n",
    "# Recursion - Fibonacci Sequence Solution\n"
   ]
  },
  {
   "cell_type": "code",
   "execution_count": 18,
   "id": "34cff7cc",
   "metadata": {},
   "outputs": [],
   "source": [
    "# looping Technique\n",
    "def fibonacci(n):\n",
    "    a=0\n",
    "    b=1\n",
    "    for i in range(n):\n",
    "        a,b=b,a+b\n",
    "    return a"
   ]
  },
  {
   "cell_type": "code",
   "execution_count": 24,
   "id": "d905660f",
   "metadata": {},
   "outputs": [
    {
     "data": {
      "text/plain": [
       "1"
      ]
     },
     "execution_count": 24,
     "metadata": {},
     "output_type": "execute_result"
    }
   ],
   "source": [
    "fibonacci(2)"
   ]
  },
  {
   "cell_type": "code",
   "execution_count": 25,
   "id": "944b04b2",
   "metadata": {},
   "outputs": [],
   "source": [
    "# Using Recursion\n",
    "def fibR(n):\n",
    "    \n",
    "    if n==1 or n==2:\n",
    "        return 1\n",
    "    return fibonacci(n-1) +fibonacci(n-2)\n"
   ]
  },
  {
   "cell_type": "code",
   "execution_count": 28,
   "id": "06880257",
   "metadata": {},
   "outputs": [],
   "source": [
    "# Recursive case:\n",
    "def fibon(n):\n",
    "    # base case\n",
    "    if n==0 or n==1:\n",
    "        return n\n",
    "    # Recursive Case\n",
    "    \n",
    "    else:\n",
    "        return fibon(n-1)+fibon(n-2)\n",
    "        \n",
    "        "
   ]
  },
  {
   "cell_type": "code",
   "execution_count": 29,
   "id": "0635a9b2",
   "metadata": {},
   "outputs": [
    {
     "data": {
      "text/plain": [
       "8"
      ]
     },
     "execution_count": 29,
     "metadata": {},
     "output_type": "execute_result"
    }
   ],
   "source": [
    "fibon(6)"
   ]
  },
  {
   "cell_type": "code",
   "execution_count": 1,
   "id": "90ed9bd0",
   "metadata": {},
   "outputs": [],
   "source": [
    "# cache\n",
    "n=10\n",
    "cache=[None]*(n+1)\n",
    "def fib_dyn(n):\n",
    "    # Base Case\n",
    "    \n",
    "    if n==0 or n==1:\n",
    "        return n\n",
    "    \n",
    "    # check cache\n",
    "    if cache[n]!=None:\n",
    "        return cache[n]\n",
    "    # keep setting cache\n",
    "    \n",
    "    return cache[n]\n",
    "    # Keep Setting Cache\n",
    "    cache[n]=fib_dyn(n-1)+fib_dyn(n-2)\n",
    "    \n",
    "    return cache[n]\n",
    "    "
   ]
  },
  {
   "cell_type": "markdown",
   "id": "5ba97cdc",
   "metadata": {},
   "source": [
    "# Recursion problem 4 - Coin Change Problem\n",
    "Given a target amount n and a list( array) of distinct coin values, whats' the fewest coins needed to make the change amount.\n",
    "\n",
    "For Example:\n",
    "#if n=10 and coins=[1,5,10]. Then there are 4 possible ways to make change:\n",
    "#1+1+1+1+1+1+1+1+1+1\n",
    "#5+1+1+1+1+\n",
    "#5+5\n",
    "#10\n",
    "# With 1 coin being the minimum amount.\n",
    "\n",
    "10 , 10 "
   ]
  },
  {
   "cell_type": "code",
   "execution_count": 2,
   "id": "be4a345b",
   "metadata": {},
   "outputs": [
    {
     "ename": "IndentationError",
     "evalue": "expected an indented block (1168878458.py, line 9)",
     "output_type": "error",
     "traceback": [
      "\u001b[1;36m  Input \u001b[1;32mIn [2]\u001b[1;36m\u001b[0m\n\u001b[1;33m    \u001b[0m\n\u001b[1;37m    ^\u001b[0m\n\u001b[1;31mIndentationError\u001b[0m\u001b[1;31m:\u001b[0m expected an indented block\n"
     ]
    }
   ],
   "source": [
    "\n",
    "# target =10 rupee coin, coins 1,5,10\n",
    "def coin_rec(target,coins):\n",
    "    # Default value to set to Target\n",
    "    min_coins=target\n",
    "    # Checks to See if target is in Coin values list\n",
    "    if target in coins:\n",
    "        return target\n",
    "    else:\n",
    "        "
   ]
  },
  {
   "cell_type": "code",
   "execution_count": null,
   "id": "1ddf952b",
   "metadata": {},
   "outputs": [],
   "source": [
    "#Advanced Topic Reading - Tail Recursion in Python"
   ]
  }
 ],
 "metadata": {
  "kernelspec": {
   "display_name": "Python 3 (ipykernel)",
   "language": "python",
   "name": "python3"
  },
  "language_info": {
   "codemirror_mode": {
    "name": "ipython",
    "version": 3
   },
   "file_extension": ".py",
   "mimetype": "text/x-python",
   "name": "python",
   "nbconvert_exporter": "python",
   "pygments_lexer": "ipython3",
   "version": "3.9.12"
  }
 },
 "nbformat": 4,
 "nbformat_minor": 5
}
