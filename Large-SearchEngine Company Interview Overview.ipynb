{
 "cells": [
  {
   "cell_type": "markdown",
   "id": "dae24817",
   "metadata": {},
   "source": [
    "# Search Engine"
   ]
  },
  {
   "cell_type": "markdown",
   "id": "4760beb5",
   "metadata": {},
   "source": [
    "# Onsite Question 1"
   ]
  },
  {
   "cell_type": "raw",
   "id": "739f9c66",
   "metadata": {},
   "source": [
    "Given a Dice which rolls 1 to 7 ( with uniform probability), simulate a 5 sided dice preferably,write your solution as a\n",
    "function"
   ]
  },
  {
   "cell_type": "raw",
   "id": "ad8ea768",
   "metadata": {},
   "source": [
    "Requirements\n",
    "You Must do this on Pen and Paper or on a whiteboard. No actual Coding is allowed until you've solved it on Pen and Paper."
   ]
  },
  {
   "cell_type": "code",
   "execution_count": 11,
   "id": "00308a3a",
   "metadata": {},
   "outputs": [
    {
     "name": "stdout",
     "output_type": "stream",
     "text": [
      "dice7() produced a roll of 3\n",
      "Your final returned roll is below:\n"
     ]
    },
    {
     "data": {
      "text/plain": [
       "3"
      ]
     },
     "execution_count": 11,
     "metadata": {},
     "output_type": "execute_result"
    }
   ],
   "source": [
    "from random import randint\n",
    "\n",
    "\n",
    "def dice5():\n",
    "    return randint(1,5)\n",
    "\n",
    "def dice7():\n",
    "    return randint(1,7)\n",
    "\n",
    "# our Selection \n",
    "def convert7to5():\n",
    "    \n",
    "    # starting roll ( just needs to be larger than 5)\n",
    "    roll=7\n",
    "    \n",
    "    while roll>5:\n",
    "        roll=dice7()\n",
    "        print('dice7() produced a roll of', roll)\n",
    "    print('Your final returned roll is below:')\n",
    "    return roll\n",
    "convert7to5()\n"
   ]
  },
  {
   "cell_type": "code",
   "execution_count": 12,
   "id": "02093e57",
   "metadata": {},
   "outputs": [],
   "source": [
    "def convert5to7():\n",
    "    # For constant re-roll purposes\n",
    "    \n",
    "    while True:\n",
    "        # Roll the dice twice\n",
    "        roll_1=dice5()\n",
    "        roll_2=dice5()\n",
    "        \n",
    "        # print the rolls were {} and {}'.format(roll_1,roll_2)'\n",
    "        \n",
    "        #Convert the combination to the range 1 to 25\n",
    "        num=((roll_1-1)* 5) +(roll_2)\n",
    "        #Print 'the converted range number was:',num\n",
    "        if num>21:\n",
    "            #re-roll if we are out of range\n",
    "            continue\n",
    "            \n",
    "        return num%7+1\n",
    "    "
   ]
  },
  {
   "cell_type": "code",
   "execution_count": 13,
   "id": "d314e70c",
   "metadata": {},
   "outputs": [
    {
     "data": {
      "text/plain": [
       "2"
      ]
     },
     "execution_count": 13,
     "metadata": {},
     "output_type": "execute_result"
    }
   ],
   "source": [
    "convert5to7()"
   ]
  },
  {
   "cell_type": "code",
   "execution_count": 14,
   "id": "5b49596c",
   "metadata": {},
   "outputs": [],
   "source": [
    "# Onsite Question 2\n"
   ]
  },
  {
   "cell_type": "code",
   "execution_count": 16,
   "id": "59658856",
   "metadata": {},
   "outputs": [],
   "source": [
    "def index_prod(lst):\n",
    "    # Create an Empty output list\n",
    "    output=[None]*len(lst)\n",
    "    \n",
    "    product=1\n",
    "    i=0\n",
    "    \n",
    "    while i<len(lst):\n",
    "        output[i]=product\n",
    "        product*=lst[i]\n",
    "        \n",
    "        i+=1\n",
    "    product=1\n",
    "    i=len(lst)-1\n",
    "    \n",
    "    while i>=0:\n",
    "        output[i]*=product\n",
    "        product*=lst[i]\n",
    "        i-=1\n",
    "    return output\n"
   ]
  },
  {
   "cell_type": "code",
   "execution_count": 17,
   "id": "0ddcdd0a",
   "metadata": {},
   "outputs": [
    {
     "data": {
      "text/plain": [
       "[120, 60, 40, 30, 24]"
      ]
     },
     "execution_count": 17,
     "metadata": {},
     "output_type": "execute_result"
    }
   ],
   "source": [
    "index_prod([1,2,3,4,5])\n"
   ]
  },
  {
   "cell_type": "code",
   "execution_count": 18,
   "id": "94acb6ae",
   "metadata": {},
   "outputs": [],
   "source": [
    "# Onsite Question 3"
   ]
  },
  {
   "cell_type": "raw",
   "id": "87aa784a",
   "metadata": {},
   "source": [
    "Given two Rectangles, determine if they overlap. the rectangles are defined as a Dictionary\n",
    "r1={# X and Y coordinates of the bottom-left corner of the rectangle 'x':2,'y':4}\n",
    "    # Width and Height of rectangle\n",
    "    'w':5,'h':12}\n",
    "if the rectangels do overlap, return the dicionary which describe the overlapping section"
   ]
  },
  {
   "cell_type": "code",
   "execution_count": 24,
   "id": "824ba956",
   "metadata": {},
   "outputs": [],
   "source": [
    "def calc_overlap(coor1,dim1,coor2,dim2):\n",
    "    \"\"\"\n",
    "    Takes in 2 Co-ordinates and their length in that dimension\"\"\"\n",
    "    \n",
    "    greater =max(coor1,coor2)\n",
    "    \n",
    "    lower=min(coor1+dim1,coor2+dim2)\n",
    "    \n",
    "    if greater >=lower:\n",
    "        return(None,None)\n",
    "    \n",
    "    overlap=lower-greater\n",
    "    return(greater,overlap)"
   ]
  },
  {
   "cell_type": "code",
   "execution_count": 25,
   "id": "9082edc4",
   "metadata": {},
   "outputs": [],
   "source": [
    "def calc_rect_overlap(r1,r2):\n",
    "    x_overlap,w_overlap=calc_overlap(r1['x'],r1['w'],r2['x'],r2['w'])\n",
    "    y_overlap,h_overlap=calc_overlap(r1['y'],r1['h'],r2['y'],r2['h'])\n",
    "    \n",
    "    if not w-overlap or not h_overlap:\n",
    "        print('No Overlap')\n",
    "        return None\n",
    "    return{'x':x_overlap,'y':y_overlap,'w':w_overlap,'h':h_overlap}\n",
    "    "
   ]
  },
  {
   "cell_type": "raw",
   "id": "2eda8056",
   "metadata": {},
   "source": [
    "# On - Site Question 4 "
   ]
  },
  {
   "cell_type": "raw",
   "id": "175e84e5",
   "metadata": {},
   "source": [
    "Find the squareroot of a given number rounded down to the nearest integer,without using the sqrt function. \n",
    "For example, squareroot of a number between[9,15] should return 3, and [16,24] should be 4.\n"
   ]
  },
  {
   "cell_type": "code",
   "execution_count": 47,
   "id": "71b183e3",
   "metadata": {},
   "outputs": [],
   "source": [
    "def solution(num):\n",
    "    if num <0:\n",
    "        return ValueError\n",
    "    \n",
    "    if num == 1:\n",
    "        return 1\n",
    "    x=int((num/2)+1)\n",
    "    for k in range(x):\n",
    "        \n",
    "        if k**2 == num:\n",
    "            return k\n",
    "        elif k**2 > num:\n",
    "            return k -1\n",
    "    \n",
    "    return k"
   ]
  },
  {
   "cell_type": "code",
   "execution_count": 48,
   "id": "807ccc46",
   "metadata": {},
   "outputs": [
    {
     "data": {
      "text/plain": [
       "4"
      ]
     },
     "execution_count": 48,
     "metadata": {},
     "output_type": "execute_result"
    }
   ],
   "source": [
    "solution(16)"
   ]
  },
  {
   "cell_type": "code",
   "execution_count": 61,
   "id": "9a470372",
   "metadata": {},
   "outputs": [],
   "source": [
    "def better_solution(num):\n",
    "    if num <0:\n",
    "        raise ValueError\n",
    "        \n",
    "    if num==1:\n",
    "        return 1\n",
    "    \n",
    "    low=0\n",
    "    high =int((num/2)+1)\n",
    "    while low+1<high:\n",
    "        mid=low+(high-low)/2\n",
    "        square=mid**2\n",
    "        if square==num:\n",
    "            return mid\n",
    "        elif square<num:\n",
    "            low=mid\n",
    "        else:\n",
    "            high=mid\n",
    "    return low"
   ]
  },
  {
   "cell_type": "code",
   "execution_count": 62,
   "id": "56de3bab",
   "metadata": {},
   "outputs": [
    {
     "data": {
      "text/plain": [
       "9.96875"
      ]
     },
     "execution_count": 62,
     "metadata": {},
     "output_type": "execute_result"
    }
   ],
   "source": [
    "better_solution(114)"
   ]
  },
  {
   "cell_type": "code",
   "execution_count": null,
   "id": "85e598a2",
   "metadata": {},
   "outputs": [],
   "source": []
  }
 ],
 "metadata": {
  "kernelspec": {
   "display_name": "Python 3 (ipykernel)",
   "language": "python",
   "name": "python3"
  },
  "language_info": {
   "codemirror_mode": {
    "name": "ipython",
    "version": 3
   },
   "file_extension": ".py",
   "mimetype": "text/x-python",
   "name": "python",
   "nbconvert_exporter": "python",
   "pygments_lexer": "ipython3",
   "version": "3.9.12"
  }
 },
 "nbformat": 4,
 "nbformat_minor": 5
}
