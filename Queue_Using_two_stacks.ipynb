{
 "cells": [
  {
   "cell_type": "markdown",
   "id": "4a97cafb",
   "metadata": {},
   "source": [
    "# Implementing a Queue using twostacks"
   ]
  },
  {
   "cell_type": "code",
   "execution_count": 15,
   "id": "ee27bf15",
   "metadata": {},
   "outputs": [],
   "source": [
    "# Implementing a Queue using twostacks\n",
    "\n",
    "class Queue2stacks(object):\n",
    "    \n",
    "    def __init__(self):\n",
    "        \n",
    "        #Two stacks\n",
    "        self.instack=[]\n",
    "        self.outstack=[]\n",
    "        self.items=[]\n",
    "        \n",
    "    def enqueue(self,item):\n",
    "        self.instack.append(item)  # adding items\n",
    "        \n",
    "    def items(self):\n",
    "        return self.items\n",
    "        \n",
    "    def len(self):\n",
    "        return len(self.instack)\n",
    "    \n",
    "    def is_empty(self):\n",
    "        return self.instack==[]\n",
    "        \n",
    "    def dequeue(self):\n",
    "        \n",
    "        if not self.outstack:\n",
    "            while self.instack():\n",
    "                self.outstack.append(self.instack.pop())\n",
    "        return self.outstack.pop()\n",
    "            \n"
   ]
  },
  {
   "cell_type": "code",
   "execution_count": 20,
   "id": "7ff8b581",
   "metadata": {},
   "outputs": [
    {
     "data": {
      "text/plain": [
       "[5, 6]"
      ]
     },
     "execution_count": 20,
     "metadata": {},
     "output_type": "execute_result"
    }
   ],
   "source": [
    "q=Queue2stacks()\n",
    "q.enqueue(5)\n",
    "q.enqueue(6)\n",
    "q.len()\n",
    "q.instack\n",
    "#q.outstack"
   ]
  },
  {
   "cell_type": "code",
   "execution_count": null,
   "id": "c4a10a20",
   "metadata": {},
   "outputs": [],
   "source": []
  }
 ],
 "metadata": {
  "kernelspec": {
   "display_name": "Python 3 (ipykernel)",
   "language": "python",
   "name": "python3"
  },
  "language_info": {
   "codemirror_mode": {
    "name": "ipython",
    "version": 3
   },
   "file_extension": ".py",
   "mimetype": "text/x-python",
   "name": "python",
   "nbconvert_exporter": "python",
   "pygments_lexer": "ipython3",
   "version": "3.9.12"
  }
 },
 "nbformat": 4,
 "nbformat_minor": 5
}
