{
 "cells": [
  {
   "cell_type": "code",
   "execution_count": null,
   "id": "c7d0d04c",
   "metadata": {},
   "outputs": [],
   "source": [
    "def string_1(s1,s2):\n",
    "    s1=s1.replace(' ','').lower()\n",
    "    s2=s2.replace(' ','').lower()\n",
    "    \n",
    "    #Edge case check\n",
    "    if len(s1)!=len(s2):\n",
    "        return false\n",
    "    count={}\n",
    "    for letter in s1:\n",
    "        if letter in count:\n",
    "            count[letter]+=1\n",
    "            \n",
    "            \n",
    "    "
   ]
  },
  {
   "cell_type": "code",
   "execution_count": 26,
   "id": "b6a67c94",
   "metadata": {},
   "outputs": [],
   "source": [
    "def string1(s1,s2):\n",
    "    count={}\n",
    "    for letter in s1:\n",
    "        if letter in count:\n",
    "            count[letter]+=1\n",
    "            print(count[letter])\n",
    "        else:\n",
    "            count[letter]=1\n",
    "            print(count[letter])\n",
    "    for letter in s2:\n",
    "        if letter in count:\n",
    "            count[letter]-=1\n",
    "            print(count[letter])\n",
    "        else:\n",
    "            count[letter]=1\n",
    "            print(count[letter])\n",
    "        \n",
    "    for k in count:\n",
    "        if count[k]!=0:\n",
    "            return False\n",
    "    return sorted(s1)==sorted(s2)\n",
    "        "
   ]
  },
  {
   "cell_type": "code",
   "execution_count": 29,
   "id": "da12c78b",
   "metadata": {},
   "outputs": [
    {
     "name": "stdout",
     "output_type": "stream",
     "text": [
      "1\n",
      "1\n",
      "1\n",
      "0\n",
      "0\n",
      "0\n"
     ]
    },
    {
     "data": {
      "text/plain": [
       "True"
      ]
     },
     "execution_count": 29,
     "metadata": {},
     "output_type": "execute_result"
    }
   ],
   "source": [
    "string1('dog','god')"
   ]
  },
  {
   "cell_type": "code",
   "execution_count": null,
   "id": "dec0d615",
   "metadata": {},
   "outputs": [],
   "source": [
    "# Array Pair Sum\n",
    "def pair_sum(arr,k):\n",
    "    pass\n",
    "sum_pair([1,2,3,4],5)\n",
    "\n",
    "def sum_pair(arr,sum):\n",
    "    n=len(arr)\n",
    "    for i in range():\n",
    "        "
   ]
  }
 ],
 "metadata": {
  "kernelspec": {
   "display_name": "Python 3 (ipykernel)",
   "language": "python",
   "name": "python3"
  },
  "language_info": {
   "codemirror_mode": {
    "name": "ipython",
    "version": 3
   },
   "file_extension": ".py",
   "mimetype": "text/x-python",
   "name": "python",
   "nbconvert_exporter": "python",
   "pygments_lexer": "ipython3",
   "version": "3.9.12"
  }
 },
 "nbformat": 4,
 "nbformat_minor": 5
}
