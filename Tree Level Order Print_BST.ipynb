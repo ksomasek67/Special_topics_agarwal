{
 "cells": [
  {
   "cell_type": "markdown",
   "id": "540c4c86",
   "metadata": {},
   "source": [
    "# Tree Level Order Print"
   ]
  },
  {
   "cell_type": "raw",
   "id": "972ce4a1",
   "metadata": {},
   "source": [
    "Binary tree has to be printed  according to levels in new lines\n",
    "\n",
    "\n",
    "It cant be solved using recursion, recursion is similar to depth first search, but what we need here is breadth first search. \n",
    "So we will use a queue as we didi previouslyin breadth first search.\n",
    "\n"
   ]
  },
  {
   "cell_type": "code",
   "execution_count": 5,
   "id": "117e09d6",
   "metadata": {},
   "outputs": [],
   "source": [
    "class Node:\n",
    "    \n",
    "    def __init__(self,val=None):\n",
    "        self.left=None\n",
    "        self.right=None\n",
    "        self.val=val"
   ]
  },
  {
   "cell_type": "code",
   "execution_count": null,
   "id": "6ac267dc",
   "metadata": {},
   "outputs": [],
   "source": [
    "import collections\n",
    "d=collections.deque([1,2,3])\n",
    "d."
   ]
  },
  {
   "cell_type": "code",
   "execution_count": 12,
   "id": "9292a855",
   "metadata": {},
   "outputs": [],
   "source": [
    "import collections     # collections has stack queues built-in\n",
    "\n",
    "def levelOrderPrint(tree):\n",
    "    if not tree:\n",
    "        return\n",
    "    nodes=collections.deque([tree])\n",
    "    \n",
    "    currentCount=1\n",
    "    nextCount=0\n",
    "    \n",
    "    while len(nodes)!= 0:\n",
    "        currentNode=nodes.popleft()\n",
    "        currentCount-=1\n",
    "        \n",
    "        print(currentNode.val,)\n",
    "        \n",
    "        if currentNode.left:\n",
    "            nodes.append(currentNode.left)\n",
    "            nextCount+=1\n",
    "        \n",
    "        if currentNode.right:\n",
    "            nodes.append(currentNode.right)\n",
    "            nextCount+=1\n",
    "            \n",
    "        if currentCount==0:\n",
    "            print('\\n')\n",
    "            currentCount,nextCount=nextCount,currentCount\n",
    "            \n",
    "    "
   ]
  },
  {
   "cell_type": "code",
   "execution_count": 13,
   "id": "2a4dc1ef",
   "metadata": {},
   "outputs": [
    {
     "name": "stdout",
     "output_type": "stream",
     "text": [
      "1\n",
      "\n",
      "\n",
      "2\n",
      "3\n",
      "\n",
      "\n"
     ]
    }
   ],
   "source": [
    "root=Node(1)\n",
    "root.left=Node(2)\n",
    "root.right=Node(3)\n",
    "levelOrderPrint(root)"
   ]
  },
  {
   "cell_type": "markdown",
   "id": "775ec76b",
   "metadata": {},
   "source": [
    "# "
   ]
  }
 ],
 "metadata": {
  "kernelspec": {
   "display_name": "Python 3 (ipykernel)",
   "language": "python",
   "name": "python3"
  },
  "language_info": {
   "codemirror_mode": {
    "name": "ipython",
    "version": 3
   },
   "file_extension": ".py",
   "mimetype": "text/x-python",
   "name": "python",
   "nbconvert_exporter": "python",
   "pygments_lexer": "ipython3",
   "version": "3.9.12"
  }
 },
 "nbformat": 4,
 "nbformat_minor": 5
}
