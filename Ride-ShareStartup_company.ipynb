{
 "cells": [
  {
   "cell_type": "markdown",
   "id": "4776da47",
   "metadata": {},
   "source": [
    "# Section 23 "
   ]
  },
  {
   "cell_type": "code",
   "execution_count": null,
   "id": "2eee55a4",
   "metadata": {},
   "outputs": [],
   "source": [
    "#Solution1: Module 23\n",
    "# Given a list of integers, find the largest product you could make from 3 integers in the list"
   ]
  },
  {
   "cell_type": "code",
   "execution_count": 1,
   "id": "5901ebdb",
   "metadata": {},
   "outputs": [],
   "source": [
    "\n",
    "\n",
    "def solution(lst):\n",
    "    high = max(lst[0],lst[1])\n",
    "    \n",
    "    low = min(lst[0],lst[1])\n",
    "    \n",
    "    high_prod2 = lst[0]*lst[1]\n",
    "    low_prod2 = lst[0]*lst[1]\n",
    "    \n",
    "    high_prod3 = lst[0]*lst[1]*lst[2]\n",
    "    \n",
    "    for num in lst[2:]:\n",
    "        \n",
    "        high_prod3 = max(high_prod3,num*high_prod2,num*low_prod2)\n",
    "        \n",
    "        high_prod2 = max(high_prod2,num*high,num*low)\n",
    "        \n",
    "        low_prod2 = min(low_prod2,num*high,num*low)\n",
    "        \n",
    "        high = max(high,num)\n",
    "        \n",
    "        low = min(low,num)\n",
    "        \n",
    "    return high_prod3\n",
    "\n"
   ]
  },
  {
   "cell_type": "code",
   "execution_count": 2,
   "id": "ade6a240",
   "metadata": {},
   "outputs": [
    {
     "data": {
      "text/plain": [
       "1005"
      ]
     },
     "execution_count": 2,
     "metadata": {},
     "output_type": "execute_result"
    }
   ],
   "source": [
    "solution([1,3,5,67,2])"
   ]
  },
  {
   "cell_type": "raw",
   "id": "cc29b2c2",
   "metadata": {},
   "source": [
    "Solution2: Module 23\n",
    "# write a function that given a target amount of money and a list of possible coin denominations, returns\n",
    "# the number of ways to make change for the target amount using the coin denominations"
   ]
  },
  {
   "cell_type": "code",
   "execution_count": 18,
   "id": "cc944a5d",
   "metadata": {},
   "outputs": [
    {
     "ename": "SyntaxError",
     "evalue": "invalid syntax (1628393378.py, line 1)",
     "output_type": "error",
     "traceback": [
      "\u001b[1;36m  Input \u001b[1;32mIn [18]\u001b[1;36m\u001b[0m\n\u001b[1;33m    def solution(n,int(coins):\u001b[0m\n\u001b[1;37m                      ^\u001b[0m\n\u001b[1;31mSyntaxError\u001b[0m\u001b[1;31m:\u001b[0m invalid syntax\n"
     ]
    }
   ],
   "source": [
    "\n",
    "\n",
    "def solution(n,int(coins):\n",
    "    \n",
    "    arr = [1] + [0]*int(n)\n",
    "    \n",
    "    for coin in coins:\n",
    "        for i in range(coin,n+1):\n",
    "            arr[i] += arr[i-coin]\n",
    "            \n",
    "    if n==0:\n",
    "        return 0\n",
    "    else:\n",
    "        return arr[n]\n"
   ]
  },
  {
   "cell_type": "code",
   "execution_count": null,
   "id": "e80f6928",
   "metadata": {},
   "outputs": [],
   "source": [
    "solution([1,3,4,5,7],5)"
   ]
  },
  {
   "cell_type": "raw",
   "id": "794e0bb5",
   "metadata": {},
   "source": [
    "#Solution3: Module 23\n",
    "# Given a binary tree, check whether it's a binary search tree or not."
   ]
  },
  {
   "cell_type": "code",
   "execution_count": 21,
   "id": "4e265837",
   "metadata": {},
   "outputs": [],
   "source": [
    "class Node:\n",
    "        def __init__(self,val=None):\n",
    "            self.left = None\n",
    "            self.right = None\n",
    "            self.val = val\n",
    "INFINITY = float('infinity')\n",
    "NEG_INFINITY = float(\"-infinity\")\n",
    "    \n",
    "def isBST(tree,minVal = NEG_INFINITY,maxVal= INFINITY):\n",
    "        \n",
    "        if tree is None:\n",
    "            return True\n",
    "            \n",
    "        if not minVal <= tree.val <= maxVal:\n",
    "            return False\n",
    "            \n",
    "        return isBST(tree.left,minVal,tree.val) and isBST(tree.right,tree.val,maxVal)\n",
    "        \n",
    "        \n",
    "\n",
    "def isBST2(tree,lastNode = [NEG_INFINITY]):\n",
    "        \n",
    "        if tree is None:\n",
    "            return True\n",
    "            \n",
    "        if not isBST2(tree.left, lastNode):\n",
    "            return False\n",
    "            \n",
    "        if tree.val < lastNode[0]:\n",
    "            return False\n",
    "        \n",
    "        lastNode[0] = tree.val\n",
    "        \n",
    "        return isBST2(tree.right,lastNode)\n",
    "\n"
   ]
  },
  {
   "cell_type": "code",
   "execution_count": null,
   "id": "e5c6b130",
   "metadata": {},
   "outputs": [],
   "source": []
  }
 ],
 "metadata": {
  "kernelspec": {
   "display_name": "Python 3 (ipykernel)",
   "language": "python",
   "name": "python3"
  },
  "language_info": {
   "codemirror_mode": {
    "name": "ipython",
    "version": 3
   },
   "file_extension": ".py",
   "mimetype": "text/x-python",
   "name": "python",
   "nbconvert_exporter": "python",
   "pygments_lexer": "ipython3",
   "version": "3.9.12"
  }
 },
 "nbformat": 4,
 "nbformat_minor": 5
}
