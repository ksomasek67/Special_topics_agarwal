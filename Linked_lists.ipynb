{
 "cells": [
  {
   "cell_type": "markdown",
   "id": "ae6be5dd",
   "metadata": {},
   "source": [
    "# Single Linked List"
   ]
  },
  {
   "cell_type": "code",
   "execution_count": 1,
   "id": "966f9496",
   "metadata": {},
   "outputs": [],
   "source": [
    "class Node1(object):\n",
    "    def __init__(self,value):\n",
    "        self.value=value\n",
    "        self.nextnode=None"
   ]
  },
  {
   "cell_type": "code",
   "execution_count": 2,
   "id": "abe90a6c",
   "metadata": {},
   "outputs": [],
   "source": [
    "        \n",
    "a= Node1(5)\n",
    "b=Node1(2)\n",
    "c=Node1(3)\n",
    "a.nextnode=b\n",
    "b.nextnode=c"
   ]
  },
  {
   "cell_type": "code",
   "execution_count": 3,
   "id": "29f28861",
   "metadata": {},
   "outputs": [
    {
     "data": {
      "text/plain": [
       "5"
      ]
     },
     "execution_count": 3,
     "metadata": {},
     "output_type": "execute_result"
    }
   ],
   "source": [
    "a.value"
   ]
  },
  {
   "cell_type": "code",
   "execution_count": 5,
   "id": "f3788cd1",
   "metadata": {},
   "outputs": [
    {
     "data": {
      "text/plain": [
       "2"
      ]
     },
     "execution_count": 5,
     "metadata": {},
     "output_type": "execute_result"
    }
   ],
   "source": [
    "a.nextnode.value"
   ]
  },
  {
   "cell_type": "raw",
   "id": "bb404096",
   "metadata": {},
   "source": [
    "# Pseudo Code\n",
    "\n",
    "Create a Node which handle two values (data, next) and assign both to none\n",
    "Create Linked list class and a head variable in init and make it none\n",
    "create a new_node = Node(data, self.head) # since new node is introduced, previously pointing self.head(data) will now be pointing to the next node of new Node and  new node will become new self.head \n",
    "\n",
    "\n",
    "# Writing a Print function\n",
    "assign self.head to it and while itr (itr(iterator) points to node (both elements) if there is a value pointing to itr\n"
   ]
  },
  {
   "cell_type": "code",
   "execution_count": 13,
   "id": "fd1108b9",
   "metadata": {},
   "outputs": [],
   "source": [
    "class Node(object):\n",
    "    \n",
    "    def __init__(self,data=None,next=None):\n",
    "        self.data=data\n",
    "        self.next=next\n",
    "\n",
    "class Linked_list(object):\n",
    "    \n",
    "    def __init__(self):\n",
    "        self.head=None\n",
    "        \n",
    "    def insert_at_beginning(self,data):\n",
    "        node=Node(data,self.head)\n",
    "        self.head=node\n",
    "    \n",
    "    def insert_at_end(self,data):\n",
    "        if self.head is None:\n",
    "            self.head=Node(data,None)\n",
    "            return\n",
    "        itr=self.head\n",
    "        while itr.next:\n",
    "            itr=itr.next # if it reaches end element exit the loops\n",
    "        itr.next = Node(data,None)\n",
    "         \n",
    "    def insert_values(self, data_list):\n",
    "        self.head=None\n",
    "        for i in data_list:\n",
    "            self.insert_at_end(i)\n",
    "            \n",
    "        \n",
    "    def print(self):\n",
    "        if self.head is None:\n",
    "            print(\"Linked List is empty\")\n",
    "            return\n",
    "        \n",
    "        itr=self.head\n",
    "        llstr=''\n",
    "        while itr:\n",
    "            llstr+= str(itr.data)+ '-->'\n",
    "            itr=itr.next\n",
    "        print(llstr)"
   ]
  },
  {
   "cell_type": "code",
   "execution_count": 14,
   "id": "6465fc73",
   "metadata": {},
   "outputs": [
    {
     "name": "stdout",
     "output_type": "stream",
     "text": [
      "3-->2-->1-->['apple', 'banana', 'custard', 'pomegranate']-->\n"
     ]
    }
   ],
   "source": [
    "ll=Linked_list()\n",
    "ll.insert_at_beginning(1)\n",
    "ll.insert_at_beginning(2)\n",
    "ll.insert_at_beginning(3)\n",
    "ll.insert_at_end(['apple','banana','custard','pomegranate'])\n",
    "ll.print()\n",
    "    "
   ]
  },
  {
   "cell_type": "code",
   "execution_count": null,
   "id": "e34dbfed",
   "metadata": {},
   "outputs": [],
   "source": [
    "\n"
   ]
  },
  {
   "cell_type": "code",
   "execution_count": 8,
   "id": "4e5c7165",
   "metadata": {},
   "outputs": [],
   "source": [
    "# Doble Linked List"
   ]
  },
  {
   "cell_type": "code",
   "execution_count": 9,
   "id": "ffa44a7a",
   "metadata": {},
   "outputs": [],
   "source": [
    "class Double_linked_list(object):\n",
    "    def __init__(self,value):\n",
    "        self.value=value\n",
    "        self.nextnode=None\n",
    "        self.prevnode=None"
   ]
  },
  {
   "cell_type": "code",
   "execution_count": 10,
   "id": "df5e9cce",
   "metadata": {},
   "outputs": [
    {
     "data": {
      "text/plain": [
       "<__main__.Double_linked_list at 0x18d1d93faf0>"
      ]
     },
     "execution_count": 10,
     "metadata": {},
     "output_type": "execute_result"
    }
   ],
   "source": [
    "a=Double_linked_list(1)\n",
    "b=Double_linked_list(2)\n",
    "c=Double_linked_list(3)\n",
    "a.nextnode=b\n",
    "b.prevnode=a\n",
    "b.nextnode=c\n",
    "c.prevnode=b\n",
    "\n",
    "a.value\n",
    "b.value\n",
    "c.prevnode"
   ]
  },
  {
   "cell_type": "code",
   "execution_count": null,
   "id": "7c2a172f",
   "metadata": {},
   "outputs": [],
   "source": []
  }
 ],
 "metadata": {
  "kernelspec": {
   "display_name": "Python 3 (ipykernel)",
   "language": "python",
   "name": "python3"
  },
  "language_info": {
   "codemirror_mode": {
    "name": "ipython",
    "version": 3
   },
   "file_extension": ".py",
   "mimetype": "text/x-python",
   "name": "python",
   "nbconvert_exporter": "python",
   "pygments_lexer": "ipython3",
   "version": "3.9.12"
  }
 },
 "nbformat": 4,
 "nbformat_minor": 5
}
